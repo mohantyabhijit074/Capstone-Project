{
 "cells": [
  {
   "cell_type": "code",
   "execution_count": 1,
   "metadata": {},
   "outputs": [],
   "source": [
    "from transformers import T5Tokenizer, TFT5Model, TFT5ForConditionalGeneration"
   ]
  },
  {
   "cell_type": "code",
   "execution_count": 2,
   "metadata": {},
   "outputs": [
    {
     "name": "stderr",
     "output_type": "stream",
     "text": [
      "All model checkpoint layers were used when initializing TFT5ForConditionalGeneration.\n",
      "\n",
      "All the layers of TFT5ForConditionalGeneration were initialized from the model checkpoint at summarisation_model.\n",
      "If your task is similar to the task the model of the checkpoint was trained on, you can already use TFT5ForConditionalGeneration for predictions without further training.\n"
     ]
    }
   ],
   "source": [
    "tokenizer = T5Tokenizer.from_pretrained('summarisation_tokeniser')\n",
    "model = TFT5ForConditionalGeneration.from_pretrained('summarisation_model')"
   ]
  },
  {
   "cell_type": "code",
   "execution_count": 5,
   "metadata": {},
   "outputs": [],
   "source": [
    "art=\"\"\"usain bolt rounded off the world championships sunday by claiming his third gold in moscow as he anchored jamaica to victory in the men is 4x100m relay. \n",
    "the fastest man in the world charged clear of united states rival justin gatlin as the jamaican quartet of nesta carter,\n",
    "kemar bailey cole, nickel ashmeade and bolt won in 37.36 seconds. the u.s finished second in 37.56 seconds with canada \n",
    "taking the bronze after britain were disqualified for a faulty handover. the 26 year old bolt has now collected eight gold\n",
    "medals at world championships, equaling the record held by american trio carl lewis, michael johnson and allyson felix, \n",
    "not to mention the small matter of six olympic titles. the relay triumph followed individual successes in the 100 and 200\n",
    "meters in the russian capital. i am proud of myself and i will continue to work to dominate for as long as possible, bolt said,\n",
    "having previously expressed his intention to carry on until the 2016 rio olympics. victory was never seriously in doubt once he\n",
    "got the baton safely in hand from ashmeade, while gatlin and the united states third leg runner rakieem salaam had problems.\n",
    "gatlin strayed out of his lane as he struggled to get full control of their baton and was never able to get on terms with bolt.\n",
    "earlier, jamaica is women underlined their dominance in the sprint events by winning the 4x100m relay gold, anchored by shelly\n",
    "ann fraser pryce, who like bolt was completing a triple. their quartet recorded a championship record of 41.29 seconds, well \n",
    "clear of france, who crossed the line in second place in 42.73 seconds. defending champions, the united states, were initially\n",
    "back in the bronze medal position after losing time on the second handover between alexandria anderson and english gardner, but\n",
    "promoted to silver when france were subsequently disqualified for an illegal handover. the british quartet, who were initially \n",
    "fourth, were promoted to the bronze which eluded their men is team. fraser pryce, like bolt aged 26, became the first woman to \n",
    "achieve three golds in the 100 200 and the relay. in other final action on the last day of the championships, france is teddy \n",
    "tamgho became the third man to leap over 18m in the triple jump, exceeding the mark by four centimeters to take gold. germany\n",
    "is christina obergfoll finally took gold at global level in the women is javelin after five previous silvers, while kenya is\n",
    "asbel kiprop easily won a tactical men is 1500m final. kiprop is compatriot eunice jepkoech sum was a surprise winner of the\n",
    "women is 800m. bolt is final dash for golden glory brought the eight day championship to a rousing finale, but while the hosts\n",
    "topped the medal table from the united states there was criticism of the poor attendances in the luzhniki stadium. there was\n",
    "further concern when their pole vault gold medalist yelena isinbayeva made controversial remarks in support of russia is new\n",
    "laws, which make the propagandizing of non traditional sexual relations among minors a criminal offense. she later attempted\n",
    "to clarify her comments, but there were renewed calls by gay rights groups for a boycott of the 2014 winter games in sochi,\n",
    "the next major sports event in russia\"\"\"\n"
   ]
  },
  {
   "cell_type": "code",
   "execution_count": 8,
   "metadata": {},
   "outputs": [],
   "source": [
    "def summarize(article):\n",
    "    ids =tokenizer.encode_plus((model.config.prefix + art), return_tensors=\"tf\", max_length=512) \n",
    "    sum = model.generate(input_ids=ids['input_ids'], attention_mask=ids['attention_mask'])\n",
    "    pred = [tokenizer.decode(g, skip_special_tokens=True, clean_up_tokenization_spaces=False) for g in sum]\n",
    "    return ' '.join(pred)"
   ]
  },
  {
   "cell_type": "code",
   "execution_count": 9,
   "metadata": {},
   "outputs": [
    {
     "data": {
      "text/plain": [
       "'Englishman anchored jamaica to victory in the men is 4x100m relay gold in moscow . u.s finished second in 37.56 seconds with canada taking bronze . bolt has now collected eight gold medals at world championships .'"
      ]
     },
     "execution_count": 9,
     "metadata": {},
     "output_type": "execute_result"
    }
   ],
   "source": [
    "summarize(art)"
   ]
  },
  {
   "cell_type": "code",
   "execution_count": null,
   "metadata": {},
   "outputs": [],
   "source": []
  }
 ],
 "metadata": {
  "kernelspec": {
   "display_name": "Python 3",
   "language": "python",
   "name": "python3"
  },
  "language_info": {
   "codemirror_mode": {
    "name": "ipython",
    "version": 3
   },
   "file_extension": ".py",
   "mimetype": "text/x-python",
   "name": "python",
   "nbconvert_exporter": "python",
   "pygments_lexer": "ipython3",
   "version": "3.7.6"
  }
 },
 "nbformat": 4,
 "nbformat_minor": 4
}
