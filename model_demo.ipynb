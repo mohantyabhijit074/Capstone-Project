{
 "cells": [
  {
   "cell_type": "code",
   "execution_count": 1,
   "metadata": {},
   "outputs": [],
   "source": [
<<<<<<< HEAD
    "from transformers import T5Tokenizer, TFT5Model, TFT5ForConditionalGeneration\n",
    "import pandas as pd\n",
    "import re\n",
    "import numpy as np"
   ]
  },
  {
   "cell_type": "markdown",
   "metadata": {},
   "source": [
    "## Importing Fine-Tuned Model\n",
    "Make sure the two folders downlaoded are in the same directory as the notebook"
=======
    "from transformers import T5Tokenizer, TFT5Model, TFT5ForConditionalGeneration"
>>>>>>> 94f75619400478eec4d709bc41b58ebf85170ab2
   ]
  },
  {
   "cell_type": "code",
   "execution_count": 2,
   "metadata": {},
   "outputs": [
    {
     "name": "stderr",
     "output_type": "stream",
     "text": [
      "All model checkpoint layers were used when initializing TFT5ForConditionalGeneration.\n",
      "\n",
      "All the layers of TFT5ForConditionalGeneration were initialized from the model checkpoint at summarisation_model.\n",
      "If your task is similar to the task the model of the checkpoint was trained on, you can already use TFT5ForConditionalGeneration for predictions without further training.\n"
     ]
    }
   ],
   "source": [
    "tokenizer = T5Tokenizer.from_pretrained('summarisation_tokeniser')\n",
    "model = TFT5ForConditionalGeneration.from_pretrained('summarisation_model')"
   ]
  },
  {
<<<<<<< HEAD
   "cell_type": "markdown",
   "metadata": {},
   "source": [
    "## Cleaning Input\n",
    "decontracted and cleanTest function clean the given raw input string.After cleaning they are given as input to summarize function.This generates the tokens in the form of tensors and decodes the tokens as output sentence."
   ]
  },
  {
   "cell_type": "code",
   "execution_count": 3,
   "metadata": {},
   "outputs": [],
   "source": [
    "def decontracted(phrase):\n",
    "    # specific\n",
    "    phrase = re.sub(r\"won't\", \"will not\", phrase)\n",
    "    phrase = re.sub(r\"can\\'t\", \"can not\", phrase)\n",
    "    # general\n",
    "    phrase = re.sub(r\"n\\'t\", \" not\", phrase)\n",
    "    phrase = re.sub(r\"\\'re\", \" are\", phrase)\n",
    "    phrase = re.sub(r\"\\'s\", \" is\", phrase)\n",
    "    phrase = re.sub(r\"\\'d\", \" would\", phrase)\n",
    "    phrase = re.sub(r\"\\'ll\", \" will\", phrase)\n",
    "    phrase = re.sub(r\"\\'t\", \" not\", phrase)\n",
    "    phrase = re.sub(r\"\\'ve\", \" have\", phrase)\n",
    "    phrase = re.sub(r\"\\'m\", \" am\", phrase)\n",
    "    return phrase"
   ]
  },
  {
   "cell_type": "code",
   "execution_count": 4,
   "metadata": {},
   "outputs": [],
   "source": [
    "def cleanText(article):\n",
    "    tt=re.sub(r'\\n',' ',article)\n",
    "    tt=re.sub(r'>',' ', tt)\n",
    "    tt=re.sub(r'<',' ', tt)\n",
    "    tt=re.sub(r'(CNN)',' ', tt)\n",
    "    tt=re.sub(r'LRB',' ', tt)\n",
    "    tt=re.sub(r'RRB',' ', tt)\n",
    "    tt = re.sub(r'[\" \"]+', \" \", tt)\n",
    "    tt=re.sub(r'-- ',' ', tt)\n",
    "    tt=re.sub(r\"([?!¿])\", r\" \\1 \", tt)\n",
    "    tt=re.sub(r'-',' ', tt)\n",
    "    tt=tt.replace('/',' ')\n",
    "    tt=re.sub(r'\\s+', ' ', tt)\n",
    "    tt=decontracted(tt)\n",
    "    tt = re.sub('[^A-Za-z0-9.,]+', ' ', tt)\n",
    "    tt = tt.lower()\n",
    "    return tt"
   ]
  },
  {
=======
>>>>>>> 94f75619400478eec4d709bc41b58ebf85170ab2
   "cell_type": "code",
   "execution_count": 5,
   "metadata": {},
   "outputs": [],
   "source": [
<<<<<<< HEAD
    "def summarize(article):\n",
    "    ids =tokenizer.encode_plus((model.config.prefix + article), return_tensors=\"tf\", max_length=512) \n",
    "    sum = model.generate(input_ids=ids['input_ids'], attention_mask=ids['attention_mask'])\n",
    "    pred = [tokenizer.decode(g, skip_special_tokens=True, clean_up_tokenization_spaces=False) for g in sum]\n",
    "    return ' '.join(pred)"
   ]
  },
  {
   "cell_type": "code",
   "execution_count": 6,
   "metadata": {},
   "outputs": [],
   "source": [
    "def returnSummary(article):\n",
    "    result =decontracted(article)\n",
    "    return summarize(cleanText(result))"
   ]
  },
  {
   "cell_type": "markdown",
   "metadata": {},
   "source": [
    "## Predicting Using Articles from Dataset"
   ]
  },
  {
   "cell_type": "code",
   "execution_count": 7,
   "metadata": {},
   "outputs": [],
   "source": [
=======
>>>>>>> 94f75619400478eec4d709bc41b58ebf85170ab2
    "art=\"\"\"usain bolt rounded off the world championships sunday by claiming his third gold in moscow as he anchored jamaica to victory in the men is 4x100m relay. \n",
    "the fastest man in the world charged clear of united states rival justin gatlin as the jamaican quartet of nesta carter,\n",
    "kemar bailey cole, nickel ashmeade and bolt won in 37.36 seconds. the u.s finished second in 37.56 seconds with canada \n",
    "taking the bronze after britain were disqualified for a faulty handover. the 26 year old bolt has now collected eight gold\n",
    "medals at world championships, equaling the record held by american trio carl lewis, michael johnson and allyson felix, \n",
    "not to mention the small matter of six olympic titles. the relay triumph followed individual successes in the 100 and 200\n",
    "meters in the russian capital. i am proud of myself and i will continue to work to dominate for as long as possible, bolt said,\n",
    "having previously expressed his intention to carry on until the 2016 rio olympics. victory was never seriously in doubt once he\n",
    "got the baton safely in hand from ashmeade, while gatlin and the united states third leg runner rakieem salaam had problems.\n",
    "gatlin strayed out of his lane as he struggled to get full control of their baton and was never able to get on terms with bolt.\n",
    "earlier, jamaica is women underlined their dominance in the sprint events by winning the 4x100m relay gold, anchored by shelly\n",
    "ann fraser pryce, who like bolt was completing a triple. their quartet recorded a championship record of 41.29 seconds, well \n",
    "clear of france, who crossed the line in second place in 42.73 seconds. defending champions, the united states, were initially\n",
    "back in the bronze medal position after losing time on the second handover between alexandria anderson and english gardner, but\n",
    "promoted to silver when france were subsequently disqualified for an illegal handover. the british quartet, who were initially \n",
    "fourth, were promoted to the bronze which eluded their men is team. fraser pryce, like bolt aged 26, became the first woman to \n",
    "achieve three golds in the 100 200 and the relay. in other final action on the last day of the championships, france is teddy \n",
    "tamgho became the third man to leap over 18m in the triple jump, exceeding the mark by four centimeters to take gold. germany\n",
    "is christina obergfoll finally took gold at global level in the women is javelin after five previous silvers, while kenya is\n",
    "asbel kiprop easily won a tactical men is 1500m final. kiprop is compatriot eunice jepkoech sum was a surprise winner of the\n",
    "women is 800m. bolt is final dash for golden glory brought the eight day championship to a rousing finale, but while the hosts\n",
    "topped the medal table from the united states there was criticism of the poor attendances in the luzhniki stadium. there was\n",
    "further concern when their pole vault gold medalist yelena isinbayeva made controversial remarks in support of russia is new\n",
    "laws, which make the propagandizing of non traditional sexual relations among minors a criminal offense. she later attempted\n",
    "to clarify her comments, but there were renewed calls by gay rights groups for a boycott of the 2014 winter games in sochi,\n",
    "the next major sports event in russia\"\"\"\n"
   ]
  },
  {
   "cell_type": "code",
   "execution_count": 8,
   "metadata": {},
<<<<<<< HEAD
   "outputs": [
    {
     "name": "stderr",
     "output_type": "stream",
     "text": [
      "Truncation was not explicitly activated but `max_length` is provided a specific value, please use `truncation=True` to explicitly truncate examples to max length. Defaulting to 'longest_first' truncation strategy. If you encode pairs of sequences (GLUE-style) with the tokenizer you can select this strategy more precisely by providing a specific strategy to `truncation`.\n"
     ]
    },
    {
     "data": {
      "text/plain": [
       "'Englishman anchored jamaica to victory in the men is 4x100m relay gold in moscow . u.s finished second in 37.56 seconds with canada taking bronze . bolt has now collected eight gold medals at world championships .'"
      ]
     },
     "execution_count": 8,
     "metadata": {},
     "output_type": "execute_result"
    }
   ],
   "source": [
    "summarize(art)"
=======
   "outputs": [],
   "source": [
    "def summarize(article):\n",
    "    ids =tokenizer.encode_plus((model.config.prefix + art), return_tensors=\"tf\", max_length=512) \n",
    "    sum = model.generate(input_ids=ids['input_ids'], attention_mask=ids['attention_mask'])\n",
    "    pred = [tokenizer.decode(g, skip_special_tokens=True, clean_up_tokenization_spaces=False) for g in sum]\n",
    "    return ' '.join(pred)"
>>>>>>> 94f75619400478eec4d709bc41b58ebf85170ab2
   ]
  },
  {
   "cell_type": "code",
   "execution_count": 9,
   "metadata": {},
   "outputs": [
    {
     "data": {
      "text/plain": [
<<<<<<< HEAD
       "'obama sent a letter to the heads of the house and senate on saturday night . the proposed legislation asks congress to approve the use of military force . it is a step that is set to turn an international crisis into a domestic political battle . there are key questions looming over the debate what did u.n. weapons inspectors find in syria what happens if congress votes no .'"
=======
       "'Englishman anchored jamaica to victory in the men is 4x100m relay gold in moscow . u.s finished second in 37.56 seconds with canada taking bronze . bolt has now collected eight gold medals at world championships .'"
>>>>>>> 94f75619400478eec4d709bc41b58ebf85170ab2
      ]
     },
     "execution_count": 9,
     "metadata": {},
     "output_type": "execute_result"
    }
   ],
   "source": [
<<<<<<< HEAD
    "art2=\"it is official u.s. president barack obama wants lawmakers to weigh in on whether to use military force in syria.obama sent a letter to the heads of the house and senate on saturday night, hours after announcing that he believes military action against syrian targets is the right step to take over the alleged use of chemical weapons. the proposed legislation from obama asks congress to approve the use of military force to deter, disrupt, prevent and degrade the potential for future uses of chemical weapons or other weapons of mass destruction. it is a step that is set to turn an international crisis into a fierce domestic political battle. there are key questions looming over the debate what did u.n. weapons inspectors find in syria what happens if congress votes no and how will the syrian government react in a televised address from the white house rose garden earlier saturday, the president said he would take his case to congress, not because he has to but because he wants to. while i believe i have the authority to carry out this military action without specific congressional authorization, i know that the country will be stronger if we take this course, and our actions will be even more effective, he said. we should have this debate, because the issues are too big for business as usual. obama said top congressional leaders had agreed to schedule a debate when the body returns to washington on september 9. the senate foreign relations committee will hold a hearing over the matter on tuesday, sen. robert menendez said. transcript read obama is full remarks syrian crisis latest developments u.n. inspectors leave syria obama is remarks came shortly after u.n. inspectors left syria, carrying evidence that will determine whether chemical weapons were used in an attack early last week in a damascus suburb. the aim of the game here, the mandate, is very clear and that is to ascertain whether chemical weapons were used and not by whom, u.n. spokesman martin nesirky told reporters on saturday. but who used the weapons in the reported toxic gas attack in a damascus suburb on august 21 has been a key point of global debate over the syrian crisis. top u.s. officials have said there is no doubt that the syrian government was behind it, while syrian officials have denied responsibility and blamed jihadists fighting with the rebels. british and u.s. intelligence reports say the attack involved chemical weapons, but u.n. officials have stressed the importance of waiting for an official report from inspectors. the inspectors will share their findings with u.n. secretary general ban ki moon ban, who has said he wants to wait until the u.n. team is final report is completed before presenting it to the u.n. security council. the organization for the prohibition of chemical weapons, which nine of the inspectors belong to, said saturday that it could take up to three weeks to analyze the evidence they collected. it needs time to be able to analyze the information and the samples, nesirky said. he noted that ban has repeatedly said there is no alternative to a political solution to the crisis in syria, and that a military solution is not an option. bergen syria is a problem from hell for the u.s. obama this menace must be confronted obama is senior advisers have debated the next steps to take, and the president is comments saturday came amid mounting political pressure over the situation in syria. some u.s. lawmakers have called for immediate action while others warn of stepping into what could become a quagmire. some global leaders have expressed support, but the british parliament is vote against military action earlier this week was a blow to obama is hopes of getting strong backing from key nato allies. on saturday, obama proposed what he said would be a limited military action against syrian president bashar al assad. any military attack would not be open ended or include u.s. ground forces, he said. syria is alleged use of chemical weapons earlier this month is an assault on human dignity, the president said. a failure to respond with force, obama argued, could lead to escalating use of chemical weapons or their proliferation to terrorist groups who would do our people harm. in a world with many dangers, this menace must be confronted. syria missile strike what would happen next map u.s. and allied assets around syria obama decision came friday night on friday night, the president made a last minute decision to consult lawmakers. what will happen if they vote no it is unclear. a senior administration official told that obama has the authority to act without congress even if congress rejects his request for authorization to use force. obama on saturday continued to shore up support for a strike on the al assad government. he spoke by phone with french president francois hollande before his rose garden speech. the two leaders agreed that the international community must deliver a resolute message to the assad regime and others who would consider using chemical weapons that these crimes are unacceptable and those who violate this international norm will be held accountable by the world, the white house said. meanwhile, as uncertainty loomed over how congress would weigh in, u.s. military officials said they remained at the ready. 5 key assertions u.s. intelligence report on syria syria who wants what after chemical weapons horror reactions mixed to obama is speech a spokesman for the syrian national coalition said that the opposition group was disappointed by obama is announcement. our fear now is that the lack of action could embolden the regime and they repeat his attacks in a more serious way, said spokesman louay safi. so we are quite concerned. some members of congress applauded obama is decision. house speaker john boehner, majority leader eric cantor, majority whip kevin mccarthy and conference chair cathy mcmorris rodgers issued a statement saturday praising the president. under the constitution, the responsibility to declare war lies with congress, the republican lawmakers said. we are glad the president is seeking authorization for any military action in syria in response to serious, substantive questions being raised. more than 160 legislators, including 63 of obama is fellow democrats, had signed letters calling for either a vote or at least a full debate before any u.s. action. british prime minister david cameron, whose own attempt to get lawmakers in his country to support military action in syria failed earlier this week, responded to obama is speech in a twitter post saturday. i understand and support barack obama is position on syria, cameron said. an influential lawmaker in russia which has stood by syria and criticized the united states had his own theory. the main reason obama is turning to the congress the military operation did not get enough support either in the world, among allies of the us or in the united states itself, alexei pushkov, chairman of the international affairs committee of the russian state duma, said in a twitter post. in the united states, scattered groups of anti war protesters around the country took to the streets saturday. like many other americans...we are just tired of the united states getting involved and invading and bombing other countries, said robin rosecrans, who was among hundreds at a los angeles demonstration. what do syria is neighbors think why russia, china, iran stand by assad syria is government unfazed after obama is speech, a military and political analyst on syrian state tv said obama is embarrassed that russia opposes military action against syria, is crying for help for someone to come to his rescue and is facing two defeats on the political and military levels. syria is prime minister appeared unfazed by the saber rattling. the syrian army is status is on maximum readiness and fingers are on the trigger to confront all challenges, wael nader al halqi said during a meeting with a delegation of syrian expatriates from italy, according to a banner on syria state tv that was broadcast prior to obama is address. an anchor on syrian state television said obama appeared to be preparing for an aggression on syria based on repeated lies. a top syrian diplomat told the state television network that obama was facing pressure to take military action from israel, turkey, some arabs and right wing extremists in the united states. i think he has done well by doing what cameron did in terms of taking the issue to parliament, said bashar jaafari, syria is ambassador to the united nations. both obama and cameron, he said, climbed to the top of the tree and do not know how to get down. the syrian government has denied that it used chemical weapons in the august 21 attack, saying that jihadists fighting with the rebels used them in an effort to turn global sentiments against it. british intelligence had put the number of people killed in the attack at more than 350. on saturday, obama said all told, well over 1,000 people were murdered. u.s. secretary of state john kerry on friday cited a death toll of 1,429, more than 400 of them children. no explanation was offered for the discrepancy. iran u.s. military action in syria would spark wouldisaster opinion why strikes in syria are a bad idea\"\n",
    "summarize(art2)"
   ]
  },
  {
   "cell_type": "markdown",
   "metadata": {},
   "source": [
    "## Prediciting Raw-Input News Articles\n",
    "The news article is taken from here\n",
    "https://edition.cnn.com/2021/03/26/us/afraid-cnn-special-report/index.html"
=======
    "summarize(art)"
>>>>>>> 94f75619400478eec4d709bc41b58ebf85170ab2
   ]
  },
  {
   "cell_type": "code",
<<<<<<< HEAD
   "execution_count": 10,
   "metadata": {},
   "outputs": [],
   "source": [
    "test_art2=\"\"\"A rod in Martha Juarez's left arm, the silence in her home and a missing wedding ring are daily reminders of the mass shooting that changed her life.\n",
    "Martha and Luis Juarez had been married for 70 years when a gunman opened fire at a Walmart store in El Paso, Texas, while they were shopping. Luis, 90, was one of the 23 people killed in the 2019 shooting and the oldest one. His wife underwent several surgeries, spent weeks in the hospital and months in physical therapy after being shot in the arm.\n",
    "\"We still struggle to find ways to care for my mom and we know that she's still hasn't processed that trauma because she can't,\" said her daughter, Meg Juarez. \"She doesn't want to go talk to anyone (about it).\"\n",
    "Martha Juarez is among those who survived a mass shooting or lost a loved one, and are still grappling with how hate upended their lives. Many are trying to find a path forward not only for themselves but for the future of their communities.\n",
    "For Latinos across the country, the shooting in El Paso felt like a devastating reminder that their identities could make them a target for hate crimes and violence, just like the 2015 shooting at Emanuel African Methodist Episcopal Church in Charleston was for Black people and the 2018 massacre at the Tree of Life Synagogue in Pittsburgh was for the Jewish community. Last week, the attacks at three spas in the Atlanta area prompted similar fears, grief and outrage among the Asian American and Pacific Islander (AAPI) community.\n",
    "Hate is haunting Asian Americans. Their fear underscores a racial reckoning that is far from over\n",
    "When Raymond Chang first heard about last week's shootings, he was in shock and disbelief. His next thought was, \"Oh my gosh, we're having the Asian El Paso right now,\" he said.\n",
    "Chang, a Korean American who is the campus minister at Wheaton College in Illinois, said it was impossible to not think of the Atlanta shootings as an attack on AAPIs. Six women of Asian descent were killed, he said, just as the country was seeing a spike in reported violence toward Asian Americans.\n",
    "Easy ways to help Asian Americans under attack\n",
    "Authorities said the suspect in the El Paso massacre traveled to the city with the sole intent of killing immigrants and Mexicans. The accused shooter, Patrick Crusius, is facing multiple hate crimes and capital murder charges. Trial dates have not been set in the state and federal criminal cases against him.\n",
    "Robert Aaron Long, 21, is being held in connection with the Atlanta-area shootings. He's claimed responsibility for the shootings saying he believed he had a sex addiction and that he saw the spas as \"a temptation ... that he wanted to eliminate,\" according to the sheriff's office in Cherokee County.\n",
    "\"\"\""
   ]
  },
  {
   "cell_type": "code",
   "execution_count": 11,
   "metadata": {},
   "outputs": [
    {
     "data": {
      "text/plain": [
       "'Asian americans are grappling with how hate upended their lives . martha and luis juarez had been married for 70 years when a gunman opened fire at a walmart store in el paso, texas, while shopping . they are trying to find a path forward not only for themselves but for the future of their communities . hate is haunting asian american and pacific islander aapi community .'"
      ]
     },
     "execution_count": 11,
     "metadata": {},
     "output_type": "execute_result"
    }
   ],
   "source": [
    "returnSummary(test_art2)"
   ]
  },
  {
   "cell_type": "code",
   "execution_count": 12,
   "metadata": {},
   "outputs": [
    {
     "data": {
      "text/plain": [
       "'English supremacist jennifer pinckney was sentenced to death in january 2017 in charleston, south carolina . a makeshift memorial honors those killed at emanuel african methodist episcopal church in 2015 . she says she is focused on raising her two daughters and continues to stay strong for them .'"
      ]
     },
     "execution_count": 12,
     "metadata": {},
     "output_type": "execute_result"
    }
   ],
   "source": [
    "test_art3=\"\"\"The 2015 shooting that claimed the lives of nine people at a historically Black church in Charleston, South Carolina, is one of the massacres etched into the country's memory.\n",
    "The shooter, an avowed White supremacist, was convicted of federal murder and hate crimes charges. He was sentenced to death in January 2017.\n",
    "Jennifer Pinckney, whose husband Rev. Clementa Pinckney died in the massacre at Emanuel African Methodist Episcopal Church, says the many mass shootings that have followed force her to relive the tragedy.\n",
    "\"It takes me back to hearing the gunshots and the commotion that went on. It takes me back to when all of the family members were in a hotel, waiting to hear about our loved ones and then once they found out, you hear them screaming and crying out,\" Pinckney said.\n",
    "A makeshift memorial honored those killed at Emanuel African Methodist Episcopal Church in 2015.\n",
    "Since losing her husband, Pinckney says she's focused on raising her two daughters and \"continues to stay strong\" for them. She also created a foundation in honor of her late husband to partner with South Carolina groups supporting religious, educational and charitable causes. Other family members of the victims have written books about grief and their path to healing as well as become vocal advocates against gun violence.\n",
    "A man who served as a jury foreman at the shooter's federal trial in 2016 said last year that he felt \"damned disgusted\" because the country was seeing too many Black people killed over nothing.\n",
    "\"We've gone through this way too much here lately,\" Gil Truesdale told CNN last June. \"It was bad enough then, but now with all this, it sort of hits you in a different place.\"\n",
    "The one word that Tree of Life's rabbi refuses to say\n",
    "For Rabbi Jeffrey Myers, who survived the 2018 attack on Pittsburgh's Tree of Life synagogue, many communities across the US continue to be threatened regardless of their religion, race, ethnicity or sexual orientation and the calls for unity should be stronger than ever.\n",
    "\"We need to work together, to be able to help each other to work through the challenges of living in America,\" Myers said. \"America has not been a welcoming country to immigrants, despite the hopes of the founders. That doesn't mean that it can't become something better.\"\n",
    "\"\"\"\n",
    "returnSummary(test_art3)"
   ]
=======
   "execution_count": null,
   "metadata": {},
   "outputs": [],
   "source": []
>>>>>>> 94f75619400478eec4d709bc41b58ebf85170ab2
  }
 ],
 "metadata": {
  "kernelspec": {
   "display_name": "Python 3",
   "language": "python",
   "name": "python3"
  },
  "language_info": {
   "codemirror_mode": {
    "name": "ipython",
    "version": 3
   },
   "file_extension": ".py",
   "mimetype": "text/x-python",
   "name": "python",
   "nbconvert_exporter": "python",
   "pygments_lexer": "ipython3",
   "version": "3.7.6"
  }
 },
 "nbformat": 4,
 "nbformat_minor": 4
}
