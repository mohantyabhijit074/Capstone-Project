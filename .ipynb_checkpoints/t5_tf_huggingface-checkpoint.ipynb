{
 "cells": [
  {
   "cell_type": "markdown",
   "metadata": {
    "id": "-jAKQnevrT3U"
   },
   "source": [
    "# Text Summary with T5 from Huggingface Tensorflow"
   ]
  },
  {
   "cell_type": "code",
   "execution_count": 1,
   "metadata": {
    "colab": {
     "base_uri": "https://localhost:8080/"
    },
    "id": "78z023msra37",
    "outputId": "5e28616f-cd73-43bd-be4d-31884b96a6dc"
   },
   "outputs": [
    {
     "name": "stdout",
     "output_type": "stream",
     "text": [
      "Collecting transformers\n",
      "\u001b[?25l  Downloading https://files.pythonhosted.org/packages/ed/d5/f4157a376b8a79489a76ce6cfe147f4f3be1e029b7144fa7b8432e8acb26/transformers-4.4.2-py3-none-any.whl (2.0MB)\n",
      "\u001b[K     |████████████████████████████████| 2.0MB 7.6MB/s \n",
      "\u001b[?25hCollecting tokenizers<0.11,>=0.10.1\n",
      "\u001b[?25l  Downloading https://files.pythonhosted.org/packages/71/23/2ddc317b2121117bf34dd00f5b0de194158f2a44ee2bf5e47c7166878a97/tokenizers-0.10.1-cp37-cp37m-manylinux2010_x86_64.whl (3.2MB)\n",
      "\u001b[K     |████████████████████████████████| 3.2MB 46.0MB/s \n",
      "\u001b[?25hRequirement already satisfied: tqdm>=4.27 in /usr/local/lib/python3.7/dist-packages (from transformers) (4.41.1)\n",
      "Requirement already satisfied: regex!=2019.12.17 in /usr/local/lib/python3.7/dist-packages (from transformers) (2019.12.20)\n",
      "Requirement already satisfied: numpy>=1.17 in /usr/local/lib/python3.7/dist-packages (from transformers) (1.19.5)\n",
      "Requirement already satisfied: filelock in /usr/local/lib/python3.7/dist-packages (from transformers) (3.0.12)\n",
      "Requirement already satisfied: importlib-metadata; python_version < \"3.8\" in /usr/local/lib/python3.7/dist-packages (from transformers) (3.7.2)\n",
      "Requirement already satisfied: requests in /usr/local/lib/python3.7/dist-packages (from transformers) (2.23.0)\n",
      "Requirement already satisfied: packaging in /usr/local/lib/python3.7/dist-packages (from transformers) (20.9)\n",
      "Collecting sacremoses\n",
      "\u001b[?25l  Downloading https://files.pythonhosted.org/packages/7d/34/09d19aff26edcc8eb2a01bed8e98f13a1537005d31e95233fd48216eed10/sacremoses-0.0.43.tar.gz (883kB)\n",
      "\u001b[K     |████████████████████████████████| 890kB 45.4MB/s \n",
      "\u001b[?25hRequirement already satisfied: zipp>=0.5 in /usr/local/lib/python3.7/dist-packages (from importlib-metadata; python_version < \"3.8\"->transformers) (3.4.1)\n",
      "Requirement already satisfied: typing-extensions>=3.6.4; python_version < \"3.8\" in /usr/local/lib/python3.7/dist-packages (from importlib-metadata; python_version < \"3.8\"->transformers) (3.7.4.3)\n",
      "Requirement already satisfied: urllib3!=1.25.0,!=1.25.1,<1.26,>=1.21.1 in /usr/local/lib/python3.7/dist-packages (from requests->transformers) (1.24.3)\n",
      "Requirement already satisfied: idna<3,>=2.5 in /usr/local/lib/python3.7/dist-packages (from requests->transformers) (2.10)\n",
      "Requirement already satisfied: certifi>=2017.4.17 in /usr/local/lib/python3.7/dist-packages (from requests->transformers) (2020.12.5)\n",
      "Requirement already satisfied: chardet<4,>=3.0.2 in /usr/local/lib/python3.7/dist-packages (from requests->transformers) (3.0.4)\n",
      "Requirement already satisfied: pyparsing>=2.0.2 in /usr/local/lib/python3.7/dist-packages (from packaging->transformers) (2.4.7)\n",
      "Requirement already satisfied: six in /usr/local/lib/python3.7/dist-packages (from sacremoses->transformers) (1.15.0)\n",
      "Requirement already satisfied: click in /usr/local/lib/python3.7/dist-packages (from sacremoses->transformers) (7.1.2)\n",
      "Requirement already satisfied: joblib in /usr/local/lib/python3.7/dist-packages (from sacremoses->transformers) (1.0.1)\n",
      "Building wheels for collected packages: sacremoses\n",
      "  Building wheel for sacremoses (setup.py) ... \u001b[?25l\u001b[?25hdone\n",
      "  Created wheel for sacremoses: filename=sacremoses-0.0.43-cp37-none-any.whl size=893262 sha256=db2873feed951fcaf68a4831abcea6ac557a711bb63f361c59a429e1743c1481\n",
      "  Stored in directory: /root/.cache/pip/wheels/29/3c/fd/7ce5c3f0666dab31a50123635e6fb5e19ceb42ce38d4e58f45\n",
      "Successfully built sacremoses\n",
      "Installing collected packages: tokenizers, sacremoses, transformers\n",
      "Successfully installed sacremoses-0.0.43 tokenizers-0.10.1 transformers-4.4.2\n",
      "Collecting sentencepiece\n",
      "\u001b[?25l  Downloading https://files.pythonhosted.org/packages/f5/99/e0808cb947ba10f575839c43e8fafc9cc44e4a7a2c8f79c60db48220a577/sentencepiece-0.1.95-cp37-cp37m-manylinux2014_x86_64.whl (1.2MB)\n",
      "\u001b[K     |████████████████████████████████| 1.2MB 8.4MB/s \n",
      "\u001b[?25hInstalling collected packages: sentencepiece\n",
      "Successfully installed sentencepiece-0.1.95\n"
     ]
    }
   ],
   "source": [
    "!pip install transformers\n",
    "!pip install sentencepiece"
   ]
  },
  {
   "cell_type": "code",
   "execution_count": 2,
   "metadata": {
    "id": "DckiD07HU32-"
   },
   "outputs": [],
   "source": [
    "import tensorflow as tf\n",
    "from transformers import T5Tokenizer, TFT5Model, TFT5ForConditionalGeneration\n",
    "import tensorflow_datasets as tfds\n",
    "import time"
   ]
  },
  {
   "cell_type": "code",
   "execution_count": 3,
   "metadata": {
    "colab": {
     "base_uri": "https://localhost:8080/"
    },
    "id": "0kEvp3BKiBy9",
    "outputId": "bcd39d18-7726-4eeb-9abb-d1cc18ec4b2f"
   },
   "outputs": [
    {
     "name": "stdout",
     "output_type": "stream",
     "text": [
      "Mounted at /content/drive\n"
     ]
    }
   ],
   "source": [
    "from google.colab import drive\n",
    "drive.mount('/content/drive')"
   ]
  },
  {
   "cell_type": "markdown",
   "metadata": {
    "id": "HC9ylHkQrT3a"
   },
   "source": [
    "### Params"
   ]
  },
  {
   "cell_type": "code",
   "execution_count": 4,
   "metadata": {
    "id": "_x49QLWNT5XK"
   },
   "outputs": [],
   "source": [
    "BATCH_SIZE = 16\n",
    "\n",
    "SHUFFEL_SIZE = 1024\n",
    "\n",
    "learning_rate = 3e-5"
   ]
  },
  {
   "cell_type": "markdown",
   "metadata": {
    "id": "h5dEo-rarT3b"
   },
   "source": [
    "## Define Pretrained Model and Tokenizer(For Training)"
   ]
  },
  {
   "cell_type": "code",
   "execution_count": null,
   "metadata": {
    "colab": {
     "base_uri": "https://localhost:8080/",
     "height": 299,
     "referenced_widgets": [
      "4b14f775c0404ff2b1c546fbf49ad57a",
      "035708fba1c645c798addba1aea1e0d6",
      "3459bc8d26214f0dad1992837fd0229a",
      "806ac8dbae5847cfa2b980ec183d8733",
      "fd8732d45f2c4422ad12e662c9670589",
      "be4bec3bd9de4f50a46352f3c56c84cb",
      "b1a774f14ff946aa957df737c972f4b8",
      "1c45ebde83cf49b4814aa3102a40035c",
      "20678689ebfa4d59bbede0dd2a45560e",
      "485fde8af7f342daa1d298a234dda76b",
      "c8285070c3f44e0ab9e0ebf4c8042b19",
      "a1fa57d9cf2d4a2da28c4f879932fd2d",
      "94ca692ed219440397d2ff3ba4e87c38",
      "b18a44e853e44109bfe7c35fdae1f326",
      "3225bc4309644f4e882cf1e8b19f323f",
      "f8e91cb8e2274c53975a34adeac5557a",
      "102de6e635d94bcb94573ec216d866a4",
      "8cea104d0315422fb83e4dad47ae2c8e",
      "156e63dd2cdb4991a1a8bfe01c118f7a",
      "e0ba0ef95afb429d8aac4366cb506ac2",
      "81ea23256fb1469f83258869cef0029a",
      "8c43b864a2e54b7d868ed633ee2b7b37",
      "69409b96a10240a99237f8e80cb59b7f",
      "e1d3c220893c4a70bb5d53475d779094",
      "e5615b636bbe412685b430dc260354c2",
      "ddc3d5b276e849d2915da50dfa2c8dbb",
      "b02dbc4335e94d5aa6f329c161fbf4dd",
      "4e3f197beb8a4ef8ba05d45611e5bb1b",
      "b60937ab85dd450f9a089e04c83b6aea",
      "69f9563695804deaa1cb9485c6fffa43",
      "94f70e712762475db45f5187802084c5",
      "5a6d8ff0caaf4dcfb2781025f5a85784"
     ]
    },
    "id": "BVinRzgfIdkr",
    "outputId": "0f8b58fb-d053-414c-df7d-de83832776d6"
   },
   "outputs": [
    {
     "data": {
      "application/vnd.jupyter.widget-view+json": {
       "model_id": "4b14f775c0404ff2b1c546fbf49ad57a",
       "version_major": 2,
       "version_minor": 0
      },
      "text/plain": [
       "HBox(children=(FloatProgress(value=0.0, description='Downloading', max=791656.0, style=ProgressStyle(descripti…"
      ]
     },
     "metadata": {
      "tags": []
     },
     "output_type": "display_data"
    },
    {
     "name": "stdout",
     "output_type": "stream",
     "text": [
      "\n"
     ]
    },
    {
     "data": {
      "application/vnd.jupyter.widget-view+json": {
       "model_id": "20678689ebfa4d59bbede0dd2a45560e",
       "version_major": 2,
       "version_minor": 0
      },
      "text/plain": [
       "HBox(children=(FloatProgress(value=0.0, description='Downloading', max=1389353.0, style=ProgressStyle(descript…"
      ]
     },
     "metadata": {
      "tags": []
     },
     "output_type": "display_data"
    },
    {
     "name": "stdout",
     "output_type": "stream",
     "text": [
      "\n"
     ]
    },
    {
     "data": {
      "application/vnd.jupyter.widget-view+json": {
       "model_id": "102de6e635d94bcb94573ec216d866a4",
       "version_major": 2,
       "version_minor": 0
      },
      "text/plain": [
       "HBox(children=(FloatProgress(value=0.0, description='Downloading', max=1197.0, style=ProgressStyle(description…"
      ]
     },
     "metadata": {
      "tags": []
     },
     "output_type": "display_data"
    },
    {
     "name": "stdout",
     "output_type": "stream",
     "text": [
      "\n"
     ]
    },
    {
     "data": {
      "application/vnd.jupyter.widget-view+json": {
       "model_id": "e5615b636bbe412685b430dc260354c2",
       "version_major": 2,
       "version_minor": 0
      },
      "text/plain": [
       "HBox(children=(FloatProgress(value=0.0, description='Downloading', max=242303832.0, style=ProgressStyle(descri…"
      ]
     },
     "metadata": {
      "tags": []
     },
     "output_type": "display_data"
    },
    {
     "name": "stdout",
     "output_type": "stream",
     "text": [
      "\n"
     ]
    },
    {
     "name": "stderr",
     "output_type": "stream",
     "text": [
      "All model checkpoint layers were used when initializing TFT5ForConditionalGeneration.\n",
      "\n",
      "All the layers of TFT5ForConditionalGeneration were initialized from the model checkpoint at t5-small.\n",
      "If your task is similar to the task the model of the checkpoint was trained on, you can already use TFT5ForConditionalGeneration for predictions without further training.\n"
     ]
    }
   ],
   "source": [
    "tokenizer = T5Tokenizer.from_pretrained('t5-small')\n",
    "model = TFT5ForConditionalGeneration.from_pretrained('t5-small')\n",
    "\n",
    "task_specific_params = model.config.task_specific_params\n",
    "if task_specific_params is not None:\n",
    "    model.config.update(task_specific_params.get(\"summarization\", {}))\n",
    "    \n",
    "pad_token_id = tokenizer.pad_token_id"
   ]
  },
  {
   "cell_type": "markdown",
   "metadata": {
    "id": "1gKYTEwb9lRV"
   },
   "source": [
    "## Loading Fine-Tuned Model"
   ]
  },
  {
   "cell_type": "code",
   "execution_count": 5,
   "metadata": {
    "colab": {
     "base_uri": "https://localhost:8080/"
    },
    "id": "u5_ZLge-9qqg",
    "outputId": "f7805955-c7e5-461a-cd6a-f37750363c82"
   },
   "outputs": [
    {
     "name": "stderr",
     "output_type": "stream",
     "text": [
      "All model checkpoint layers were used when initializing TFT5ForConditionalGeneration.\n",
      "\n",
      "All the layers of TFT5ForConditionalGeneration were initialized from the model checkpoint at /content/drive/MyDrive/summarisation_model.\n",
      "If your task is similar to the task the model of the checkpoint was trained on, you can already use TFT5ForConditionalGeneration for predictions without further training.\n"
     ]
    }
   ],
   "source": [
    "tokenizer = T5Tokenizer.from_pretrained('/content/drive/MyDrive/summarisation_tokeniser')\n",
    "model = TFT5ForConditionalGeneration.from_pretrained('/content/drive/MyDrive/summarisation_model')"
   ]
  },
  {
   "cell_type": "code",
   "execution_count": 6,
   "metadata": {
    "colab": {
     "base_uri": "https://localhost:8080/"
    },
    "id": "aI7FIzmmnA5l",
    "outputId": "e6b4bc7a-2793-42c6-e76b-efa50dd7d708"
   },
   "outputs": [
    {
     "name": "stdout",
     "output_type": "stream",
     "text": [
      "Model: \"tf_t5for_conditional_generation\"\n",
      "_________________________________________________________________\n",
      "Layer (type)                 Output Shape              Param #   \n",
      "=================================================================\n",
      "shared (TFSharedEmbeddings)  multiple                  16449536  \n",
      "_________________________________________________________________\n",
      "encoder (TFT5MainLayer)      multiple                  18881280  \n",
      "_________________________________________________________________\n",
      "decoder (TFT5MainLayer)      multiple                  25175808  \n",
      "=================================================================\n",
      "Total params: 60,506,624\n",
      "Trainable params: 60,506,624\n",
      "Non-trainable params: 0\n",
      "_________________________________________________________________\n"
     ]
    }
   ],
   "source": [
    "optimizer = tf.keras.optimizers.Adam(learning_rate=learning_rate, epsilon=1e-08, clipnorm=1.0)\n",
    "loss_object = tf.keras.losses.SparseCategoricalCrossentropy(from_logits=True)\n",
    "\n",
    "train_loss = tf.keras.metrics.Mean(name='train_loss')\n",
    "train_accuracy = tf.keras.metrics.SparseCategoricalAccuracy(name='train_accuracy')\n",
    "\n",
    "val_loss = tf.keras.metrics.Mean(name='val_loss')\n",
    "val_accuracy = tf.keras.metrics.SparseCategoricalAccuracy(name='val_accuracy')\n",
    "\n",
    "model.summary()"
   ]
  },
  {
   "cell_type": "markdown",
   "metadata": {
    "id": "6h-jmSvGrT3c"
   },
   "source": [
    "## Load Dataset"
   ]
  },
  {
   "cell_type": "code",
   "execution_count": 4,
   "metadata": {
    "colab": {
     "base_uri": "https://localhost:8080/",
     "height": 850,
     "referenced_widgets": [
      "c1bb2b62611543a9bedc240521910f13",
      "14060049644048b88977c85bc1ba2aa5",
      "aa5356d3f84c45119468a1843a87d797",
      "8963f51fc3b442bea3c54f333f3ecd59",
      "42e6e244db45473ebb77ace1b47b77f7",
      "388d04d124964843bff6ad634d501adf",
      "cf4d7aabf6a34b808241a22b9607b160",
      "2fdbf52e8d2a49328a7d32921c9a17f8",
      "2bc41ceaba9c478db704be2c9782d5c5",
      "6d797ff421294d2da658f7cd31579d6c",
      "98c3be04309c4c6d845f20c556874a30",
      "bc70e8ff9a844c329f5d23d55ecb2d6e",
      "3dfe090cde624d7bad1400050f90dd50",
      "2c21073cb0cb4252bef7c92591cb365b",
      "916b1a42b12f43ea8e02e6bef6448f94",
      "2bc68a4e4a064ba4b3cf336e70d8597a",
      "19b9e48714764ab0ac1eea3c1a7096da",
      "8f0296de92384965bb59af5b26bf835e",
      "b145d4dbd0f548fea096d4cbb96d8449",
      "5ab862c30ab4427fa8e2f56110e5e447",
      "797153e79e3c484e9e0b49a72ce8dbcc",
      "3a3c34de05254b6b971b705cf0e18de9",
      "99420b85188c402bae4f2bdce78e1b3f",
      "a0fa2f12da5a47aba5510cf9dec4d105",
      "97a3b970e9b64b569f444c60dcdfa1c3",
      "66654db25a524836a672aeadb03f6a14",
      "9045438db4aa4a8dbd003cb84bc282d7",
      "15ab748e556844618b2e54af32b597ff",
      "84db1733b0fc4c9b89549ceaa5d90adc",
      "a7f880f8482141a3bd665fd2823ba5a1",
      "db452c34577c4245855c84b398113b91",
      "0126aa585f2a4d8695258bba2f70f49a",
      "5e60d25869d54cc8806919d9556a70f6",
      "3b6dc0fbfe0b443e996e23cc68a7d2a8",
      "1ffaea0168fe4972ae64ef5d02e156f8",
      "b225f07924ae4b43a32980172d2de6a8",
      "3f990c3f1912436eaf0854a3e565722d",
      "1e9961f8581849719cd7a572a3b5c14e",
      "09bbc05227344c31b7e4f6b945e12d3a",
      "ee3ac8394ab7456a809d053a887fa1c6",
      "30cec7affe96483ca86275450ff0987c",
      "ef1d2269503b4c66a3cc05e69e5f82fc",
      "070c1dfa86d64a8895dde8e54fbf661e",
      "aab82b8b9d394f839273409e0c46f17e",
      "13a1423ccd4e49a1a8c84664b01b40e0",
      "d4fb3d08e95941c1b1b54330eecb65e6",
      "590cab8cabd742fabd2ace382822a8a4",
      "fc993b36cb994a70baa6ca7a19ff2ef4",
      "10d356e58e284808b34ebdae91cdca62",
      "cfc1a5b878dd4ea8ba3b0270617a77a7",
      "403e65f5d5144a79884840af182d0719",
      "07d691a3826b4e3c9ee747b0c2b4f6cf",
      "1665d7eeed534d4d84cf2d3e1d607f2a",
      "861eee49fdaa44c29563ba95538cd4e9",
      "5eb54fb3e5bc4a92a2112cff1f3321ef",
      "86789b89deb24756be2725c4f14b52f8",
      "879786579a2f496cb6536c2d4cedac76",
      "2554faa7cdca456daad6cd7b0d852d99",
      "5ee70d60417640ea8f87c6cca39abc85",
      "5aceb42d66d2484587763619f75ac43c",
      "8dd5a359e7a34f75b3103aff5fb2f0e4",
      "19d44afab5c74d9bba33815d1cbccfa9",
      "f7ebd1d11e9b431288f47692a80cc4a8",
      "45d6071c46704b5fac1b13deeeeb159d",
      "d314cc59b2db462b84af90eb80aa3ca7",
      "b2f76e5040ce45bb88d3cc731d96706f",
      "be6a3523e87e4207bad9070fbbd81e36",
      "eeaf7eaa8075444fabbc2f91d2b9f04a",
      "80116033fb594e439ea1f5fa1da3184c",
      "19b44beb044c482c88a99438317e795f",
      "add62a8853e74473a9b8756e70b6e8a3",
      "4cee38f9863f400b8a8aa1d77097ecf5"
     ]
    },
    "id": "KCUpDIKS78T7",
    "outputId": "712b0400-5e41-4b28-ebb4-9cf458e130b1"
   },
   "outputs": [
    {
     "name": "stderr",
     "output_type": "stream",
     "text": [
      "INFO:absl:No config specified, defaulting to first: cnn_dailymail/plain_text\n",
      "INFO:absl:Load pre-computed DatasetInfo (eg: splits, num examples,...) from GCS: cnn_dailymail/plain_text/3.0.0\n",
      "INFO:absl:Load dataset info from /tmp/tmp2wecnywutfds\n",
      "INFO:absl:Field info.description from disk and from code do not match. Keeping the one from code.\n",
      "INFO:absl:Field info.config_name from disk and from code do not match. Keeping the one from code.\n",
      "INFO:absl:Field info.config_description from disk and from code do not match. Keeping the one from code.\n",
      "INFO:absl:Field info.citation from disk and from code do not match. Keeping the one from code.\n",
      "INFO:absl:Generating dataset cnn_dailymail (/root/tensorflow_datasets/cnn_dailymail/plain_text/3.0.0)\n"
     ]
    },
    {
     "name": "stdout",
     "output_type": "stream",
     "text": [
      "\u001b[1mDownloading and preparing dataset cnn_dailymail/plain_text/3.0.0 (download: 558.32 MiB, generated: 1.27 GiB, total: 1.82 GiB) to /root/tensorflow_datasets/cnn_dailymail/plain_text/3.0.0...\u001b[0m\n"
     ]
    },
    {
     "data": {
      "application/vnd.jupyter.widget-view+json": {
       "model_id": "c1bb2b62611543a9bedc240521910f13",
       "version_major": 2,
       "version_minor": 0
      },
      "text/plain": [
       "HBox(children=(FloatProgress(value=1.0, bar_style='info', description='Dl Completed...', max=1.0, style=Progre…"
      ]
     },
     "metadata": {
      "tags": []
     },
     "output_type": "display_data"
    },
    {
     "data": {
      "application/vnd.jupyter.widget-view+json": {
       "model_id": "2bc41ceaba9c478db704be2c9782d5c5",
       "version_major": 2,
       "version_minor": 0
      },
      "text/plain": [
       "HBox(children=(FloatProgress(value=1.0, bar_style='info', description='Dl Size...', max=1.0, style=ProgressSty…"
      ]
     },
     "metadata": {
      "tags": []
     },
     "output_type": "display_data"
    },
    {
     "data": {
      "application/vnd.jupyter.widget-view+json": {
       "model_id": "19b9e48714764ab0ac1eea3c1a7096da",
       "version_major": 2,
       "version_minor": 0
      },
      "text/plain": [
       "HBox(children=(FloatProgress(value=1.0, bar_style='info', description='Extraction completed...', max=1.0, styl…"
      ]
     },
     "metadata": {
      "tags": []
     },
     "output_type": "display_data"
    },
    {
     "name": "stderr",
     "output_type": "stream",
     "text": [
      "INFO:absl:Downloading https://drive.google.com/uc?export=download&id=0BwmD_VLjROrfTHk4NFg2SndKcjQ into /root/tensorflow_datasets/downloads/ucexport_download_id_0BwmD_VLjROrfTHk4NFg2SndKG8BdJPpt2iRo6Dpzz23CByJuAePEilB-pxbcBCHaWDs.tmp.ea98b6eb8cbe43bba6bc5008257e8f66...\n",
      "INFO:absl:Downloading https://drive.google.com/uc?export=download&id=0BwmD_VLjROrfM1BxdkxVaTY2bWs into /root/tensorflow_datasets/downloads/ucexport_download_id_0BwmD_VLjROrfM1BxdkxVaTY2zVV-G71RIXPssrrvSAjt19Cy91r-9CQ2F9DMKA0uFk0.tmp.b217609769354da8be29086ae75bdd1e...\n",
      "INFO:absl:Downloading https://raw.githubusercontent.com/abisee/cnn-dailymail/master/url_lists/all_test.txt into /root/tensorflow_datasets/downloads/raw.gith.com_abis_cnn-dail_mast_url_list_a705_isK790OHOPsIZX-ACsObq_vchU9r5Uduh6ULX3c.txt.tmp.cca6867a877f4f6baec5f359806251ec...\n",
      "INFO:absl:Downloading https://raw.githubusercontent.com/abisee/cnn-dailymail/master/url_lists/all_train.txt into /root/tensorflow_datasets/downloads/raw.gith.com_abis_cnn-dail_mast_url_list_ac8YFmYLc8VRUvf04x1htoZoMCha8FjkWxZzzNI42_Qk.txt.tmp.ab5778672ed242af81774ae4581144d8...\n",
      "INFO:absl:Downloading https://raw.githubusercontent.com/abisee/cnn-dailymail/master/url_lists/all_val.txt into /root/tensorflow_datasets/downloads/raw.gith.com_abis_cnn-dail_mast_url_list_aICtMBRotWZqhw9th-ABXYHIqhoG-ATk7YrhmKRDVCdU.txt.tmp.ceff5d26de3745028902f7a2ac2a1292...\n",
      "INFO:absl:Skipping extraction for /root/tensorflow_datasets/downloads/raw.gith.com_abis_cnn-dail_mast_url_list_a705_isK790OHOPsIZX-ACsObq_vchU9r5Uduh6ULX3c.txt (method=NO_EXTRACT).\n",
      "INFO:absl:Skipping extraction for /root/tensorflow_datasets/downloads/raw.gith.com_abis_cnn-dail_mast_url_list_aICtMBRotWZqhw9th-ABXYHIqhoG-ATk7YrhmKRDVCdU.txt (method=NO_EXTRACT).\n",
      "INFO:absl:Skipping extraction for /root/tensorflow_datasets/downloads/raw.gith.com_abis_cnn-dail_mast_url_list_ac8YFmYLc8VRUvf04x1htoZoMCha8FjkWxZzzNI42_Qk.txt (method=NO_EXTRACT).\n"
     ]
    },
    {
     "name": "stdout",
     "output_type": "stream",
     "text": [
      "\n",
      "\n",
      "\n",
      "\n",
      "\n",
      "\n"
     ]
    },
    {
     "name": "stderr",
     "output_type": "stream",
     "text": [
      "INFO:absl:Generating split train\n"
     ]
    },
    {
     "data": {
      "application/vnd.jupyter.widget-view+json": {
       "model_id": "97a3b970e9b64b569f444c60dcdfa1c3",
       "version_major": 2,
       "version_minor": 0
      },
      "text/plain": [
       "HBox(children=(FloatProgress(value=1.0, bar_style='info', max=1.0), HTML(value='')))"
      ]
     },
     "metadata": {
      "tags": []
     },
     "output_type": "display_data"
    },
    {
     "name": "stdout",
     "output_type": "stream",
     "text": [
      "\r",
      "Shuffling and writing examples to /root/tensorflow_datasets/cnn_dailymail/plain_text/3.0.0.incompleteNV8WL8/cnn_dailymail-train.tfrecord\n"
     ]
    },
    {
     "data": {
      "application/vnd.jupyter.widget-view+json": {
       "model_id": "5e60d25869d54cc8806919d9556a70f6",
       "version_major": 2,
       "version_minor": 0
      },
      "text/plain": [
       "HBox(children=(FloatProgress(value=0.0, max=287113.0), HTML(value='')))"
      ]
     },
     "metadata": {
      "tags": []
     },
     "output_type": "display_data"
    },
    {
     "name": "stderr",
     "output_type": "stream",
     "text": [
      "INFO:absl:Done writing /root/tensorflow_datasets/cnn_dailymail/plain_text/3.0.0.incompleteNV8WL8/cnn_dailymail-train.tfrecord. Shard lengths: [17945, 17944, 17945, 17944, 17945, 17944, 17945, 17944, 17945, 17945, 17944, 17945, 17944, 17945, 17944, 17945]\n",
      "INFO:absl:Generating split validation\n"
     ]
    },
    {
     "name": "stdout",
     "output_type": "stream",
     "text": [
      "\r"
     ]
    },
    {
     "data": {
      "application/vnd.jupyter.widget-view+json": {
       "model_id": "30cec7affe96483ca86275450ff0987c",
       "version_major": 2,
       "version_minor": 0
      },
      "text/plain": [
       "HBox(children=(FloatProgress(value=1.0, bar_style='info', max=1.0), HTML(value='')))"
      ]
     },
     "metadata": {
      "tags": []
     },
     "output_type": "display_data"
    },
    {
     "name": "stdout",
     "output_type": "stream",
     "text": [
      "Shuffling and writing examples to /root/tensorflow_datasets/cnn_dailymail/plain_text/3.0.0.incompleteNV8WL8/cnn_dailymail-validation.tfrecord\n"
     ]
    },
    {
     "data": {
      "application/vnd.jupyter.widget-view+json": {
       "model_id": "10d356e58e284808b34ebdae91cdca62",
       "version_major": 2,
       "version_minor": 0
      },
      "text/plain": [
       "HBox(children=(FloatProgress(value=0.0, max=13368.0), HTML(value='')))"
      ]
     },
     "metadata": {
      "tags": []
     },
     "output_type": "display_data"
    },
    {
     "name": "stderr",
     "output_type": "stream",
     "text": [
      "INFO:absl:Done writing /root/tensorflow_datasets/cnn_dailymail/plain_text/3.0.0.incompleteNV8WL8/cnn_dailymail-validation.tfrecord. Shard lengths: [13368]\n",
      "INFO:absl:Generating split test\n"
     ]
    },
    {
     "name": "stdout",
     "output_type": "stream",
     "text": [
      "\r"
     ]
    },
    {
     "data": {
      "application/vnd.jupyter.widget-view+json": {
       "model_id": "879786579a2f496cb6536c2d4cedac76",
       "version_major": 2,
       "version_minor": 0
      },
      "text/plain": [
       "HBox(children=(FloatProgress(value=1.0, bar_style='info', max=1.0), HTML(value='')))"
      ]
     },
     "metadata": {
      "tags": []
     },
     "output_type": "display_data"
    },
    {
     "name": "stdout",
     "output_type": "stream",
     "text": [
      "\r",
      "Shuffling and writing examples to /root/tensorflow_datasets/cnn_dailymail/plain_text/3.0.0.incompleteNV8WL8/cnn_dailymail-test.tfrecord\n"
     ]
    },
    {
     "data": {
      "application/vnd.jupyter.widget-view+json": {
       "model_id": "d314cc59b2db462b84af90eb80aa3ca7",
       "version_major": 2,
       "version_minor": 0
      },
      "text/plain": [
       "HBox(children=(FloatProgress(value=0.0, max=11490.0), HTML(value='')))"
      ]
     },
     "metadata": {
      "tags": []
     },
     "output_type": "display_data"
    },
    {
     "name": "stderr",
     "output_type": "stream",
     "text": [
      "INFO:absl:Done writing /root/tensorflow_datasets/cnn_dailymail/plain_text/3.0.0.incompleteNV8WL8/cnn_dailymail-test.tfrecord. Shard lengths: [11490]\n",
      "INFO:absl:Skipping computing stats for mode ComputeStatsMode.SKIP.\n",
      "WARNING:absl:Dataset is using deprecated text encoder API which will be removed soon. Please use the plain_text version of the dataset and migrate to `tensorflow_text`.\n",
      "WARNING:absl:Dataset is using deprecated text encoder API which will be removed soon. Please use the plain_text version of the dataset and migrate to `tensorflow_text`.\n",
      "INFO:absl:Constructing tf.data.Dataset for split None, from /root/tensorflow_datasets/cnn_dailymail/plain_text/3.0.0\n"
     ]
    },
    {
     "name": "stdout",
     "output_type": "stream",
     "text": [
      "\r",
      "\u001b[1mDataset cnn_dailymail downloaded and prepared to /root/tensorflow_datasets/cnn_dailymail/plain_text/3.0.0. Subsequent calls will reuse this data.\u001b[0m\n"
     ]
    }
   ],
   "source": [
    "cnn_dailymail = tfds.load(name=\"cnn_dailymail\")"
   ]
  },
  {
   "cell_type": "code",
   "execution_count": 6,
   "metadata": {
    "id": "8kMfGUlK7_KF"
   },
   "outputs": [],
   "source": [
    "train_tfds = cnn_dailymail['train']\n",
    "test_tfds = cnn_dailymail['test']\n",
    "val_tfds = cnn_dailymail['validation']"
   ]
  },
  {
   "cell_type": "code",
   "execution_count": 7,
   "metadata": {
    "id": "-5_17dc1rT3e"
   },
   "outputs": [],
   "source": [
    "len_train = len(list(train_tfds))\n",
    "len_test = len(list(test_tfds))\n",
    "len_val = len(list(val_tfds))"
   ]
  },
  {
   "cell_type": "markdown",
   "metadata": {
    "id": "bmCZCsBn9Vmc"
   },
   "source": [
    "## Loading Fine-Tuned Model"
   ]
  },
  {
   "cell_type": "code",
   "execution_count": 8,
   "metadata": {
    "colab": {
     "base_uri": "https://localhost:8080/"
    },
    "id": "k4ExD8LYb6C7",
    "outputId": "11996bb6-c607-4ceb-8ccf-870c915525bc"
   },
   "outputs": [
    {
     "name": "stderr",
     "output_type": "stream",
     "text": [
      "All model checkpoint layers were used when initializing TFT5ForConditionalGeneration.\n",
      "\n",
      "All the layers of TFT5ForConditionalGeneration were initialized from the model checkpoint at /content/drive/MyDrive/summarisation_model.\n",
      "If your task is similar to the task the model of the checkpoint was trained on, you can already use TFT5ForConditionalGeneration for predictions without further training.\n"
     ]
    }
   ],
   "source": [
    "tokenizer = T5Tokenizer.from_pretrained('/content/drive/MyDrive/summarisation_tokeniser')\n",
    "model = TFT5ForConditionalGeneration.from_pretrained('/content/drive/MyDrive/summarisation_model')"
   ]
  },
  {
   "cell_type": "code",
   "execution_count": null,
   "metadata": {
    "id": "5P72BBYffL01"
   },
   "outputs": [],
   "source": [
    "junk\n",
    "high_norm=normalize_text(highlight)\n",
    "id=tokenizer.encode(high_norm, return_tensors=\"tf\", max_length=150)\n",
    "print(id)\n",
    "tf.squeeze(id)"
   ]
  },
  {
   "cell_type": "code",
   "execution_count": null,
   "metadata": {
    "colab": {
     "base_uri": "https://localhost:8080/"
    },
    "id": "00xkabiBg-9G",
    "outputId": "09b7167c-6fe1-4d92-85fd-db41a393ab22"
   },
   "outputs": [
    {
     "name": "stdout",
     "output_type": "stream",
     "text": [
      "(<tf.Tensor: shape=(16, 512), dtype=int32, numpy=\n",
      "array([[21603,    10,     3, ...,   221,  7721,     1],\n",
      "       [21603,    10, 29329, ...,     9, 10050,     1],\n",
      "       [21603,    10,     3, ...,   385,   720,     1],\n",
      "       ...,\n",
      "       [21603,    10,  2358, ...,     0,     0,     0],\n",
      "       [21603,    10,  2177, ...,   122,  1679,     1],\n",
      "       [21603,    10,  5260, ...,     3,     9,     1]], dtype=int32)>, <tf.Tensor: shape=(16, 512), dtype=int32, numpy=\n",
      "array([[1, 1, 1, ..., 1, 1, 1],\n",
      "       [1, 1, 1, ..., 1, 1, 1],\n",
      "       [1, 1, 1, ..., 1, 1, 1],\n",
      "       ...,\n",
      "       [1, 1, 1, ..., 0, 0, 0],\n",
      "       [1, 1, 1, ..., 1, 1, 1],\n",
      "       [1, 1, 1, ..., 1, 1, 1]], dtype=int32)>, <tf.Tensor: shape=(16, 150), dtype=int32, numpy=\n",
      "array([[13102,     7,     7, ...,     0,     0,     0],\n",
      "       [ 3719,    13, 11668, ...,     0,     0,     0],\n",
      "       [ 3457,   265, 11632, ...,     0,     0,     0],\n",
      "       ...,\n",
      "       [ 2358,   951, 13420, ...,     0,     0,     0],\n",
      "       [  774,    31,     7, ...,     0,     0,     0],\n",
      "       [ 5260,    15,   189, ...,     0,     0,     0]], dtype=int32)>)\n"
     ]
    },
    {
     "data": {
      "text/plain": [
       "<PrefetchDataset shapes: ((None, 512), (None, 512), (None, 150)), types: (tf.int32, tf.int32, tf.int32)>"
      ]
     },
     "execution_count": 76,
     "metadata": {
      "tags": []
     },
     "output_type": "execute_result"
    }
   ],
   "source": [
    "d=test_ds.take(1)\n",
    "for i in d:\n",
    "  print(i)\n",
    "test_ds"
   ]
  },
  {
   "cell_type": "code",
   "execution_count": null,
   "metadata": {
    "colab": {
     "base_uri": "https://localhost:8080/",
     "height": 106
    },
    "id": "cl6Qu_InEIHM",
    "outputId": "fd06930b-e5f1-4b3e-8357-4c3469123bef"
   },
   "outputs": [
    {
     "name": "stdout",
     "output_type": "stream",
     "text": [
      "a drunk teenage boy had to be rescued by security after jumping into a lions enclosure at a zoo in western india. rahul kumar, 17, clambered over the enclosure fence at the kamla nehru zoological park in ahmedabad, and began running towards the animals, shouting he would 'kill them'. mr kumar explained afterwards that he was drunk and 'thought i'd stand a good chance' against the predators. next level drunk: intoxicated rahul kumar, 17, climbed into the lions' enclosure at a zoo in ahmedabad and began running towards the animals shouting 'today i kill a lion!' mr kumar had been sitting near the enclosure when he suddenly made a dash for the lions, surprising zoo security. the intoxicated teenager ran towards the lions, shouting: 'today i kill a lion or a lion kills me!' a zoo spokesman said: 'guards had earlier spotted him close to the enclosure but had no idea he was planing to enter it. 'fortunately, there are eight moats to cross before getting to where the lions usually are and he fell into the second one, allowing guards to catch up with him and take him out. 'we then handed him over to the police.' brave fool: fortunately, mr kumar  fell into a moat as he ran towards the lions and could be rescued by zoo security staff before reaching the animals (stock image) kumar later explained: 'i don't really know why i did it. 'i was drunk and thought i'd stand a good chance.' a police spokesman said: 'he has been cautioned and will be sent for psychiatric evaluation. 'fortunately for him, the lions were asleep and the zoo guards acted quickly enough to prevent a tragedy similar to that in delhi. last year a 20-year-old man was mauled to death by a tiger in the indian capital after climbing into its enclosure at the city zoo.\n",
      "tf.Tensor(b\"Drunk teenage boy climbed into lion enclosure at zoo in west India .\\nRahul Kumar, 17, ran towards animals shouting 'Today I kill a lion!'\\nFortunately he fell into a moat before reaching lions and was rescued .\", shape=(), dtype=string)\n"
     ]
    },
    {
     "data": {
      "application/vnd.google.colaboratory.intrinsic+json": {
       "type": "string"
      },
      "text/plain": [
       "'English teenager rahul kumar, 17, climbed into lions enclosure at kamla nehru zoological park in ahmedabad . he ran towards the animals shouting: today i kill a lion! luckily, he fell into a moat as he could be rescued by security .'"
      ]
     },
     "execution_count": 97,
     "metadata": {
      "tags": []
     },
     "output_type": "execute_result"
    }
   ],
   "source": [
    "test=test_tfds.take(2)\n",
    "print(art)\n",
    "print(highlight)\n",
    "' '.join(pred)"
   ]
  },
  {
   "cell_type": "code",
   "execution_count": null,
   "metadata": {
    "colab": {
     "base_uri": "https://localhost:8080/"
    },
    "id": "aMePBUrNUeiK",
    "outputId": "bfa33d99-69e7-4742-d112-8119bc2f1efb"
   },
   "outputs": [
    {
     "name": "stdout",
     "output_type": "stream",
     "text": [
      "tf.Tensor(\n",
      "[21603    10     3     9 18364 21615  4940   141    12    36     3 28540\n",
      "    57  1034   227 15539   139     3     9     3  7325     7 22104    44\n",
      "     3     9     3   172    32    32    16  8282 18222     5     3    52\n",
      "     9   107    83     3  2729  1635     6 12864     3 12818   115  3737\n",
      "   147     8 22104  8227    44     8  6511   521     3    29  7392    76\n",
      "     3   172    32  4478  2447    16     3     9   107  2726     9  5514\n",
      "     6    11  1553  1180  1587     8  3127     6 14314    53     3    88\n",
      "   133     3    31 10824   135    31     5     3    51    52     3  2729\n",
      "  1635  5243 15627    24     3    88    47 18364    11     3    31 11841\n",
      "    17     3    23    31    26  1518     3     9   207  1253    31   581\n",
      "     8 23007     7     5   416   593 18364    10    16 14367   920     3\n",
      "    52     9   107    83     3  2729  1635     6 12864     3 23626   139\n",
      "     8     3  7325     7    31 22104    44     3     9     3   172    32\n",
      "    32    16     3     9   107  2726     9  5514    11  1553  1180  1587\n",
      "     8  3127 14314    53     3    31   235  1135     3    23  5781     3\n",
      "     9     3  7325    55    31     3    51    52     3  2729  1635   141\n",
      "   118  3823  1084     8 22104   116     3    88  8247   263     3     9\n",
      "   211   107    21     8     3  7325     7     6 10306     3   172    32\n",
      "    32  1034     5     8    16 14367   920 12357  4037  1587     8     3\n",
      "  7325     7     6 14314    53    10     3    31   235  1135     3    23\n",
      "  5781     3     9     3  7325    42     3     9     3  7325  5781     7\n",
      "   140    55    31     3     9     3   172    32    32     3     7 18461\n",
      "   243    10     3    31 11010     7   141  2283     3 16972   376   885\n",
      "    12     8 22104    68   141   150   800     3    88    47   515    53\n",
      "    12  2058    34     5     3    31 29178     6   132    33  2641  2288\n",
      "   144     7    12  2269   274   652    12   213     8     3  7325     7\n",
      "  1086    33    11     3    88  4728   139     8   511    80     6     3\n",
      "  3232  4879     7    12  3579    95    28   376    11   240   376    91\n",
      "     5     3    31  1123   258 14014   376   147    12     8  2095     5\n",
      "    31 13414 18554    10     3 29178     6     3    51    52     3  2729\n",
      "  1635  4728   139     3     9  2288   144    38     3    88  4037  1587\n",
      "     8     3  7325     7    11   228    36     3 28540    57     3   172\n",
      "    32    32  1034   871   274  7232     8  3127    41  7149  1023    61\n",
      "     3  2729  1635   865  5243    10     3    31    23   278    31    17\n",
      "   310   214   572     3    23   410    34     5     3    31    23    47\n",
      " 18364    11   816     3    23    31    26  1518     3     9   207  1253\n",
      "     5    31     3     9  2095     3     7 18461   243    10     3    31\n",
      "    88    65   118 14291    15    26    11    56    36  1622    21     3\n",
      "  8118    23     9  3929  5002     5     3    31 29178    21   376     6\n",
      "     8     3  7325     7   130 17915    11     8     3   172    32    32\n",
      "  4879     7     3  9925  1224   631    12  1709     3     9 18914  1126\n",
      "    12    24    16    20    40   107    23     5   336   215     3     9\n",
      "   460    18  1201    18  1490   388    47     1], shape=(512,), dtype=int32)\n"
     ]
    },
    {
     "data": {
      "text/plain": [
       "['English teenager rahul kumar, 17, climbed into lions enclosure at kamla nehru zoological park in ahmedabad . he ran towards the animals shouting: today i kill a lion! luckily, he fell into a moat as he could be rescued by security .']"
      ]
     },
     "execution_count": 95,
     "metadata": {
      "tags": []
     },
     "output_type": "execute_result"
    }
   ],
   "source": [
    "for example in test:\n",
    "  article_ids, attention_mask, highlights_ids=map_func(example)\n",
    "  article=example['article']\n",
    "  highlight=example['highlights']\n",
    "\n",
    "art=normalize_text(article)\n",
    "high=normalize_text(highlight)\n",
    "ids =tokenizer.encode_plus((model.config.prefix + art), return_tensors=\"tf\", max_length=512) \n",
    "print(article_ids)\n",
    "\n",
    "sum = model.generate(input_ids=ids['input_ids'], attention_mask=ids['attention_mask'])\n",
    "#tokenizer(\"summarize: studies have shown that owning a dog is good for you hell yeah as they say \", return_tensors=\"tf\").input_ids  # Batch size 1\n",
    "pred = [tokenizer.decode(g, skip_special_tokens=True, clean_up_tokenization_spaces=False) for g in sum]\n",
    "pred"
   ]
  },
  {
   "cell_type": "code",
   "execution_count": 10,
   "metadata": {
    "id": "Bs4aDeST8TcI"
   },
   "outputs": [],
   "source": [
    "def normalize_text(text):\n",
    "    \"\"\"Lowercase and remove quotes from a TensorFlow string.\"\"\"\n",
    "    text = tf.strings.lower(text)\n",
    "    text = tf.strings.regex_replace(text,\"'(.*)'\", r\"\\1\")\n",
    "    return text.numpy().decode('UTF-8')\n",
    "\n",
    "def tokenize_articles(text):\n",
    "    text = normalize_text(text)\n",
    "    ids = tokenizer.encode_plus((model.config.prefix + text), return_tensors=\"tf\", max_length=512) \n",
    "\n",
    "    return tf.squeeze(ids['input_ids']), tf.squeeze(ids['attention_mask'])\n",
    "        \n",
    "def tokenize_highlights(text):\n",
    "    text = normalize_text(text)\n",
    "    ids = tokenizer.encode(text, return_tensors=\"tf\", max_length=150)\n",
    "    return tf.squeeze(ids)\n",
    "\n",
    "\n",
    "\n",
    "def map_func(features):\n",
    "\n",
    "    article_ids, attention_mask = tf.py_function(tokenize_articles, inp=[features[\"article\"]], Tout=(tf.int32, tf.int32))\n",
    "    highlights_ids = tf.py_function(tokenize_highlights, inp=[features[\"highlights\"]], Tout=tf.int32)\n",
    "\n",
    "    return article_ids, attention_mask, highlights_ids\n"
   ]
  },
  {
   "cell_type": "code",
   "execution_count": 11,
   "metadata": {
    "id": "Z3gEDMH9Gm7n"
   },
   "outputs": [],
   "source": [
    "train_ds = train_tfds.map(map_func)\\\n",
    "    .shuffle(SHUFFEL_SIZE)\\\n",
    "    .padded_batch(BATCH_SIZE, padded_shapes=([512],[512],[150]))\\\n",
    "    .prefetch(tf.data.experimental.AUTOTUNE)\n",
    "\n",
    "val_ds = val_tfds.map(map_func)\\\n",
    "    .shuffle(SHUFFEL_SIZE)\\\n",
    "    .padded_batch(BATCH_SIZE, padded_shapes=([512],[512],[150]))\\\n",
    "    .prefetch(tf.data.experimental.AUTOTUNE)\n",
    "\n",
    "test_ds = test_tfds.map(map_func)\\\n",
    "    .shuffle(SHUFFEL_SIZE)\\\n",
    "    .padded_batch(BATCH_SIZE, padded_shapes=([512],[512],[150]))\\\n",
    "    .prefetch(tf.data.experimental.AUTOTUNE)"
   ]
  },
  {
   "cell_type": "markdown",
   "metadata": {
    "id": "SvNmTIMarT3e"
   },
   "source": [
    "## Define Train and Validation Step"
   ]
  },
  {
   "cell_type": "code",
   "execution_count": 12,
   "metadata": {
    "id": "ze54M6JQrT3f"
   },
   "outputs": [],
   "source": [
    "@tf.function\n",
    "def train_step(input_ids, input_mask, y):\n",
    "    y_ids = y[:, :-1]\n",
    "    lm_labels = tf.identity(y[:, 1:])\n",
    "    lm_labels = tf.where(tf.equal(y[:, 1:],pad_token_id), -100, lm_labels)\n",
    "\n",
    "    with tf.GradientTape() as tape:\n",
    "        # prediction_scores: (bs, 150, 32128)\n",
    "        # decoder_past_key_value_states: (bs, 512, 512), (bs, 8, 150, 64)\n",
    "        # z: (bs, 512, 512)\n",
    "        predictions= model(input_ids, attention_mask=input_mask, decoder_input_ids=y_ids,labels=lm_labels, training=True)\n",
    "        #print(model(input_ids=input_ids, attention_mask=input_mask, decoder_input_ids=y_ids,labels=lm_labels, training=True))\n",
    "        loss = loss_object(y[:, 1:],predictions.logits)\n",
    "    gradients = tape.gradient(loss, model.trainable_variables)\n",
    "    optimizer.apply_gradients(zip(gradients, model.trainable_variables))\n",
    "    \n",
    "    train_loss(loss)\n",
    "    train_accuracy(y[:, 1:], predictions.logits)"
   ]
  },
  {
   "cell_type": "code",
   "execution_count": 13,
   "metadata": {
    "id": "10mhNEmLrT3f"
   },
   "outputs": [],
   "source": [
    "@tf.function\n",
    "def val_step(input_ids, input_mask, y):\n",
    "    y_ids = y[:, :-1]\n",
    "    lm_labels = tf.identity(y[:, 1:])\n",
    "    lm_labels = tf.where(tf.equal(y[:, 1:],pad_token_id), -100, lm_labels)\n",
    "    \n",
    "    predictions= model(input_ids, attention_mask=input_mask, decoder_input_ids=y_ids,labels=lm_labels, training=False)\n",
    "    v_loss = loss_object(y[:, 1:], predictions.logits)\n",
    "\n",
    "    val_loss(v_loss)\n",
    "    val_accuracy(y[:, 1:], predictions.logits)"
   ]
  },
  {
   "cell_type": "markdown",
   "metadata": {
    "id": "AEh9NOrDrT3f"
   },
   "source": [
    "## Train"
   ]
  },
  {
   "cell_type": "code",
   "execution_count": null,
   "metadata": {
    "colab": {
     "base_uri": "https://localhost:8080/"
    },
    "id": "qQZFQvNxpVJw",
    "outputId": "5f511a6c-7b60-480e-de34-222da6ae37a1"
   },
   "outputs": [
    {
     "name": "stderr",
     "output_type": "stream",
     "text": [
      "Truncation was not explicitly activated but `max_length` is provided a specific value, please use `truncation=True` to explicitly truncate examples to max length. Defaulting to 'longest_first' truncation strategy. If you encode pairs of sequences (GLUE-style) with the tokenizer you can select this strategy more precisely by providing a specific strategy to `truncation`.\n"
     ]
    },
    {
     "name": "stdout",
     "output_type": "stream",
     "text": [
      "WARNING:tensorflow:The parameters `output_attentions`, `output_hidden_states` and `use_cache` cannot be updated when calling a model.They have to be set to True/False in the config object (i.e.: `config=XConfig.from_pretrained('name', output_attentions=True)`).\n",
      "WARNING:tensorflow:AutoGraph could not transform <bound method Socket.send of <zmq.sugar.socket.Socket object at 0x7fb1fb5b2ec0>> and will run it as-is.\n",
      "Please report this to the TensorFlow team. When filing the bug, set the verbosity to 10 (on Linux, `export AUTOGRAPH_VERBOSITY=10`) and attach the full output.\n",
      "Cause: module, class, method, function, traceback, frame, or code object was expected, got cython_function_or_method\n",
      "To silence this warning, decorate the function with @tf.autograph.experimental.do_not_convert\n"
     ]
    },
    {
     "name": "stderr",
     "output_type": "stream",
     "text": [
      "WARNING:tensorflow:AutoGraph could not transform <bound method Socket.send of <zmq.sugar.socket.Socket object at 0x7fb1fb5b2ec0>> and will run it as-is.\n",
      "Please report this to the TensorFlow team. When filing the bug, set the verbosity to 10 (on Linux, `export AUTOGRAPH_VERBOSITY=10`) and attach the full output.\n",
      "Cause: module, class, method, function, traceback, frame, or code object was expected, got cython_function_or_method\n",
      "To silence this warning, decorate the function with @tf.autograph.experimental.do_not_convert\n"
     ]
    },
    {
     "name": "stdout",
     "output_type": "stream",
     "text": [
      "WARNING: AutoGraph could not transform <bound method Socket.send of <zmq.sugar.socket.Socket object at 0x7fb1fb5b2ec0>> and will run it as-is.\n",
      "Please report this to the TensorFlow team. When filing the bug, set the verbosity to 10 (on Linux, `export AUTOGRAPH_VERBOSITY=10`) and attach the full output.\n",
      "Cause: module, class, method, function, traceback, frame, or code object was expected, got cython_function_or_method\n",
      "To silence this warning, decorate the function with @tf.autograph.experimental.do_not_convert\n"
     ]
    },
    {
     "name": "stderr",
     "output_type": "stream",
     "text": [
      "WARNING:tensorflow:The parameters `output_attentions`, `output_hidden_states` and `use_cache` cannot be updated when calling a model.They have to be set to True/False in the config object (i.e.: `config=XConfig.from_pretrained('name', output_attentions=True)`).\n"
     ]
    },
    {
     "name": "stdout",
     "output_type": "stream",
     "text": [
      "WARNING:tensorflow:AutoGraph could not transform <function wrap at 0x7fb216e61c20> and will run it as-is.\n",
      "Cause: while/else statement not yet supported\n",
      "To silence this warning, decorate the function with @tf.autograph.experimental.do_not_convert\n"
     ]
    },
    {
     "name": "stderr",
     "output_type": "stream",
     "text": [
      "WARNING:tensorflow:AutoGraph could not transform <function wrap at 0x7fb216e61c20> and will run it as-is.\n",
      "Cause: while/else statement not yet supported\n",
      "To silence this warning, decorate the function with @tf.autograph.experimental.do_not_convert\n"
     ]
    },
    {
     "name": "stdout",
     "output_type": "stream",
     "text": [
      "WARNING:tensorflow:The parameter `return_dict` cannot be set in graph mode and will always be set to `True`.\n",
      "WARNING: AutoGraph could not transform <function wrap at 0x7fb216e61c20> and will run it as-is.\n",
      "Cause: while/else statement not yet supported\n",
      "To silence this warning, decorate the function with @tf.autograph.experimental.do_not_convert\n"
     ]
    },
    {
     "name": "stderr",
     "output_type": "stream",
     "text": [
      "WARNING:tensorflow:The parameter `return_dict` cannot be set in graph mode and will always be set to `True`.\n"
     ]
    },
    {
     "name": "stdout",
     "output_type": "stream",
     "text": [
      "WARNING:tensorflow:The parameters `output_attentions`, `output_hidden_states` and `use_cache` cannot be updated when calling a model.They have to be set to True/False in the config object (i.e.: `config=XConfig.from_pretrained('name', output_attentions=True)`).\n"
     ]
    },
    {
     "name": "stderr",
     "output_type": "stream",
     "text": [
      "WARNING:tensorflow:The parameters `output_attentions`, `output_hidden_states` and `use_cache` cannot be updated when calling a model.They have to be set to True/False in the config object (i.e.: `config=XConfig.from_pretrained('name', output_attentions=True)`).\n"
     ]
    },
    {
     "name": "stdout",
     "output_type": "stream",
     "text": [
      "WARNING:tensorflow:The parameter `return_dict` cannot be set in graph mode and will always be set to `True`.\n"
     ]
    },
    {
     "name": "stderr",
     "output_type": "stream",
     "text": [
      "WARNING:tensorflow:The parameter `return_dict` cannot be set in graph mode and will always be set to `True`.\n"
     ]
    },
    {
     "name": "stdout",
     "output_type": "stream",
     "text": [
      "WARNING:tensorflow:The parameters `output_attentions`, `output_hidden_states` and `use_cache` cannot be updated when calling a model.They have to be set to True/False in the config object (i.e.: `config=XConfig.from_pretrained('name', output_attentions=True)`).\n"
     ]
    },
    {
     "name": "stderr",
     "output_type": "stream",
     "text": [
      "WARNING:tensorflow:The parameters `output_attentions`, `output_hidden_states` and `use_cache` cannot be updated when calling a model.They have to be set to True/False in the config object (i.e.: `config=XConfig.from_pretrained('name', output_attentions=True)`).\n"
     ]
    },
    {
     "name": "stdout",
     "output_type": "stream",
     "text": [
      "WARNING:tensorflow:The parameter `return_dict` cannot be set in graph mode and will always be set to `True`.\n"
     ]
    },
    {
     "name": "stderr",
     "output_type": "stream",
     "text": [
      "WARNING:tensorflow:The parameter `return_dict` cannot be set in graph mode and will always be set to `True`.\n"
     ]
    },
    {
     "name": "stdout",
     "output_type": "stream",
     "text": [
      "WARNING:tensorflow:The parameters `output_attentions`, `output_hidden_states` and `use_cache` cannot be updated when calling a model.They have to be set to True/False in the config object (i.e.: `config=XConfig.from_pretrained('name', output_attentions=True)`).\n"
     ]
    },
    {
     "name": "stderr",
     "output_type": "stream",
     "text": [
      "WARNING:tensorflow:The parameters `output_attentions`, `output_hidden_states` and `use_cache` cannot be updated when calling a model.They have to be set to True/False in the config object (i.e.: `config=XConfig.from_pretrained('name', output_attentions=True)`).\n"
     ]
    },
    {
     "name": "stdout",
     "output_type": "stream",
     "text": [
      "WARNING:tensorflow:The parameter `return_dict` cannot be set in graph mode and will always be set to `True`.\n"
     ]
    },
    {
     "name": "stderr",
     "output_type": "stream",
     "text": [
      "WARNING:tensorflow:The parameter `return_dict` cannot be set in graph mode and will always be set to `True`.\n"
     ]
    },
    {
     "name": "stdout",
     "output_type": "stream",
     "text": [
      "WARNING:tensorflow:The parameters `output_attentions`, `output_hidden_states` and `use_cache` cannot be updated when calling a model.They have to be set to True/False in the config object (i.e.: `config=XConfig.from_pretrained('name', output_attentions=True)`).\n"
     ]
    },
    {
     "name": "stderr",
     "output_type": "stream",
     "text": [
      "WARNING:tensorflow:The parameters `output_attentions`, `output_hidden_states` and `use_cache` cannot be updated when calling a model.They have to be set to True/False in the config object (i.e.: `config=XConfig.from_pretrained('name', output_attentions=True)`).\n"
     ]
    },
    {
     "name": "stdout",
     "output_type": "stream",
     "text": [
      "WARNING:tensorflow:The parameter `return_dict` cannot be set in graph mode and will always be set to `True`.\n"
     ]
    },
    {
     "name": "stderr",
     "output_type": "stream",
     "text": [
      "WARNING:tensorflow:The parameter `return_dict` cannot be set in graph mode and will always be set to `True`.\n"
     ]
    },
    {
     "name": "stdout",
     "output_type": "stream",
     "text": [
      "WARNING:tensorflow:The parameters `output_attentions`, `output_hidden_states` and `use_cache` cannot be updated when calling a model.They have to be set to True/False in the config object (i.e.: `config=XConfig.from_pretrained('name', output_attentions=True)`).\n"
     ]
    },
    {
     "name": "stderr",
     "output_type": "stream",
     "text": [
      "WARNING:tensorflow:The parameters `output_attentions`, `output_hidden_states` and `use_cache` cannot be updated when calling a model.They have to be set to True/False in the config object (i.e.: `config=XConfig.from_pretrained('name', output_attentions=True)`).\n"
     ]
    },
    {
     "name": "stdout",
     "output_type": "stream",
     "text": [
      "WARNING:tensorflow:The parameter `return_dict` cannot be set in graph mode and will always be set to `True`.\n"
     ]
    },
    {
     "name": "stderr",
     "output_type": "stream",
     "text": [
      "WARNING:tensorflow:The parameter `return_dict` cannot be set in graph mode and will always be set to `True`.\n"
     ]
    },
    {
     "name": "stdout",
     "output_type": "stream",
     "text": [
      "| epoch   0 | [    0/17944] | ms/batch 355.13 | train acc 25.29 | val acc 33.85 |loss 10.75 | val loss  9.94\n",
      "| epoch   0 | [  200/17944] | ms/batch 808.04 | train acc 61.93 | val acc 57.07 |loss  2.82 | val loss  5.47\n",
      "| epoch   0 | [  400/17944] | ms/batch 811.30 | train acc 69.21 | val acc 64.57 |loss  2.03 | val loss  3.97\n",
      "| epoch   0 | [  600/17944] | ms/batch 810.89 | train acc 72.05 | val acc 68.69 |loss  1.73 | val loss  3.23\n",
      "| epoch   0 | [  800/17944] | ms/batch 811.82 | train acc 73.54 | val acc 71.35 |loss  1.58 | val loss  2.78\n",
      "| epoch   0 | [ 1000/17944] | ms/batch 811.66 | train acc 74.57 | val acc 71.60 |loss  1.48 | val loss  2.54\n",
      "| epoch   0 | [ 1200/17944] | ms/batch 811.23 | train acc 75.27 | val acc 72.59 |loss  1.41 | val loss  2.32\n",
      "| epoch   0 | [ 1400/17944] | ms/batch 811.66 | train acc 75.81 | val acc 73.30 |loss  1.36 | val loss  2.17\n",
      "| epoch   0 | [ 1600/17944] | ms/batch 812.10 | train acc 76.21 | val acc 74.16 |loss  1.32 | val loss  2.03\n",
      "| epoch   0 | [ 1800/17944] | ms/batch 811.37 | train acc 76.53 | val acc 74.38 |loss  1.29 | val loss  1.94\n",
      "| epoch   0 | [ 2000/17944] | ms/batch 811.51 | train acc 76.81 | val acc 75.13 |loss  1.27 | val loss  1.84\n",
      "| epoch   0 | [ 2200/17944] | ms/batch 812.25 | train acc 77.00 | val acc 75.45 |loss  1.25 | val loss  1.78\n",
      "| epoch   0 | [ 2400/17944] | ms/batch 812.31 | train acc 77.16 | val acc 75.58 |loss  1.23 | val loss  1.73\n",
      "| epoch   0 | [ 2600/17944] | ms/batch 810.87 | train acc 77.31 | val acc 75.70 |loss  1.22 | val loss  1.69\n",
      "| epoch   0 | [ 2800/17944] | ms/batch 811.52 | train acc 77.45 | val acc 76.00 |loss  1.20 | val loss  1.64\n",
      "| epoch   0 | [ 3000/17944] | ms/batch 811.89 | train acc 77.59 | val acc 76.21 |loss  1.19 | val loss  1.60\n",
      "| epoch   0 | [ 3200/17944] | ms/batch 811.89 | train acc 77.70 | val acc 76.19 |loss  1.18 | val loss  1.58\n",
      "| epoch   0 | [ 3400/17944] | ms/batch 811.02 | train acc 77.78 | val acc 76.60 |loss  1.17 | val loss  1.54\n",
      "| epoch   0 | [ 3600/17944] | ms/batch 812.08 | train acc 77.88 | val acc 76.70 |loss  1.16 | val loss  1.52\n",
      "| epoch   0 | [ 3800/17944] | ms/batch 811.49 | train acc 77.96 | val acc 76.88 |loss  1.16 | val loss  1.49\n",
      "| epoch   0 | [ 4000/17944] | ms/batch 812.32 | train acc 78.03 | val acc 76.99 |loss  1.15 | val loss  1.47\n",
      "| epoch   0 | [ 4200/17944] | ms/batch 812.02 | train acc 78.09 | val acc 77.19 |loss  1.15 | val loss  1.45\n",
      "| epoch   0 | [ 4400/17944] | ms/batch 811.29 | train acc 78.14 | val acc 77.29 |loss  1.14 | val loss  1.43\n",
      "| epoch   0 | [ 4600/17944] | ms/batch 812.23 | train acc 78.20 | val acc 77.34 |loss  1.13 | val loss  1.41\n",
      "| epoch   0 | [ 4800/17944] | ms/batch 811.31 | train acc 78.26 | val acc 77.49 |loss  1.13 | val loss  1.39\n",
      "| epoch   0 | [ 5000/17944] | ms/batch 811.42 | train acc 78.30 | val acc 77.71 |loss  1.13 | val loss  1.37\n",
      "| epoch   0 | [ 5200/17944] | ms/batch 810.76 | train acc 78.35 | val acc 77.95 |loss  1.12 | val loss  1.35\n",
      "| epoch   0 | [ 5400/17944] | ms/batch 810.99 | train acc 78.38 | val acc 78.00 |loss  1.12 | val loss  1.33\n",
      "| epoch   0 | [ 5600/17944] | ms/batch 811.68 | train acc 78.43 | val acc 78.10 |loss  1.11 | val loss  1.32\n",
      "| epoch   0 | [ 5800/17944] | ms/batch 811.02 | train acc 78.47 | val acc 78.05 |loss  1.11 | val loss  1.31\n",
      "| epoch   0 | [ 6000/17944] | ms/batch 810.72 | train acc 78.51 | val acc 78.24 |loss  1.11 | val loss  1.30\n",
      "| epoch   0 | [ 6200/17944] | ms/batch 811.65 | train acc 78.54 | val acc 78.18 |loss  1.10 | val loss  1.29\n",
      "| epoch   0 | [ 6400/17944] | ms/batch 810.97 | train acc 78.57 | val acc 78.27 |loss  1.10 | val loss  1.28\n",
      "| epoch   0 | [ 6600/17944] | ms/batch 811.48 | train acc 78.60 | val acc 78.19 |loss  1.10 | val loss  1.28\n",
      "| epoch   0 | [ 6800/17944] | ms/batch 811.74 | train acc 78.63 | val acc 78.09 |loss  1.10 | val loss  1.28\n",
      "| epoch   0 | [ 7000/17944] | ms/batch 810.32 | train acc 78.65 | val acc 78.08 |loss  1.09 | val loss  1.27\n",
      "| epoch   0 | [ 7200/17944] | ms/batch 811.02 | train acc 78.68 | val acc 78.22 |loss  1.09 | val loss  1.26\n",
      "| epoch   0 | [ 7400/17944] | ms/batch 810.81 | train acc 78.71 | val acc 78.19 |loss  1.09 | val loss  1.26\n",
      "| epoch   0 | [ 7600/17944] | ms/batch 811.29 | train acc 78.74 | val acc 78.40 |loss  1.09 | val loss  1.24\n",
      "| epoch   0 | [ 7800/17944] | ms/batch 811.75 | train acc 78.76 | val acc 78.37 |loss  1.08 | val loss  1.24\n",
      "| epoch   0 | [ 8000/17944] | ms/batch 811.21 | train acc 78.77 | val acc 78.46 |loss  1.08 | val loss  1.23\n",
      "| epoch   0 | [ 8200/17944] | ms/batch 811.42 | train acc 78.79 | val acc 78.42 |loss  1.08 | val loss  1.23\n",
      "| epoch   0 | [ 8400/17944] | ms/batch 810.90 | train acc 78.82 | val acc 78.49 |loss  1.08 | val loss  1.22\n",
      "| epoch   0 | [ 8600/17944] | ms/batch 810.85 | train acc 78.84 | val acc 78.44 |loss  1.08 | val loss  1.22\n",
      "| epoch   0 | [ 8800/17944] | ms/batch 811.12 | train acc 78.87 | val acc 78.48 |loss  1.07 | val loss  1.21\n",
      "| epoch   0 | [ 9000/17944] | ms/batch 810.48 | train acc 78.89 | val acc 78.47 |loss  1.07 | val loss  1.21\n",
      "| epoch   0 | [ 9200/17944] | ms/batch 811.81 | train acc 78.91 | val acc 78.59 |loss  1.07 | val loss  1.20\n",
      "| epoch   0 | [ 9400/17944] | ms/batch 810.25 | train acc 78.93 | val acc 78.65 |loss  1.07 | val loss  1.20\n",
      "| epoch   0 | [ 9600/17944] | ms/batch 811.46 | train acc 78.96 | val acc 78.56 |loss  1.07 | val loss  1.20\n",
      "| epoch   0 | [ 9800/17944] | ms/batch 811.58 | train acc 78.97 | val acc 78.61 |loss  1.07 | val loss  1.19\n",
      "| epoch   0 | [10000/17944] | ms/batch 811.50 | train acc 78.99 | val acc 78.65 |loss  1.07 | val loss  1.19\n",
      "| epoch   0 | [10200/17944] | ms/batch 812.09 | train acc 79.01 | val acc 78.73 |loss  1.06 | val loss  1.18\n",
      "| epoch   0 | [10400/17944] | ms/batch 811.47 | train acc 79.02 | val acc 78.80 |loss  1.06 | val loss  1.17\n",
      "| epoch   0 | [10600/17944] | ms/batch 810.05 | train acc 79.04 | val acc 78.82 |loss  1.06 | val loss  1.17\n",
      "| epoch   0 | [10800/17944] | ms/batch 811.43 | train acc 79.05 | val acc 78.90 |loss  1.06 | val loss  1.16\n",
      "| epoch   0 | [11000/17944] | ms/batch 811.44 | train acc 79.07 | val acc 78.90 |loss  1.06 | val loss  1.16\n",
      "| epoch   0 | [11200/17944] | ms/batch 811.46 | train acc 79.08 | val acc 78.92 |loss  1.06 | val loss  1.16\n",
      "| epoch   0 | [11400/17944] | ms/batch 811.63 | train acc 79.09 | val acc 78.87 |loss  1.06 | val loss  1.16\n",
      "| epoch   0 | [11600/17944] | ms/batch 810.71 | train acc 79.11 | val acc 78.86 |loss  1.05 | val loss  1.16\n",
      "| epoch   0 | [11800/17944] | ms/batch 812.51 | train acc 79.12 | val acc 78.91 |loss  1.05 | val loss  1.15\n",
      "| epoch   0 | [12000/17944] | ms/batch 810.82 | train acc 79.14 | val acc 78.95 |loss  1.05 | val loss  1.15\n",
      "| epoch   0 | [12200/17944] | ms/batch 811.65 | train acc 79.15 | val acc 78.95 |loss  1.05 | val loss  1.15\n",
      "| epoch   0 | [12400/17944] | ms/batch 811.33 | train acc 79.17 | val acc 79.02 |loss  1.05 | val loss  1.14\n",
      "| epoch   0 | [12600/17944] | ms/batch 810.46 | train acc 79.18 | val acc 79.01 |loss  1.05 | val loss  1.14\n",
      "| epoch   0 | [12800/17944] | ms/batch 811.17 | train acc 79.19 | val acc 78.99 |loss  1.05 | val loss  1.14\n",
      "| epoch   0 | [13000/17944] | ms/batch 811.05 | train acc 79.20 | val acc 79.01 |loss  1.05 | val loss  1.14\n",
      "| epoch   0 | [13200/17944] | ms/batch 810.59 | train acc 79.21 | val acc 78.94 |loss  1.05 | val loss  1.14\n",
      "| epoch   0 | [13400/17944] | ms/batch 811.60 | train acc 79.22 | val acc 78.95 |loss  1.05 | val loss  1.14\n",
      "| epoch   0 | [13600/17944] | ms/batch 811.26 | train acc 79.23 | val acc 78.97 |loss  1.05 | val loss  1.13\n",
      "| epoch   0 | [13800/17944] | ms/batch 811.67 | train acc 79.24 | val acc 78.99 |loss  1.04 | val loss  1.13\n",
      "| epoch   0 | [14000/17944] | ms/batch 810.08 | train acc 79.25 | val acc 78.98 |loss  1.04 | val loss  1.13\n",
      "| epoch   0 | [14200/17944] | ms/batch 810.54 | train acc 79.26 | val acc 78.96 |loss  1.04 | val loss  1.13\n",
      "| epoch   0 | [14400/17944] | ms/batch 811.35 | train acc 79.27 | val acc 78.91 |loss  1.04 | val loss  1.13\n",
      "| epoch   0 | [14600/17944] | ms/batch 810.38 | train acc 79.28 | val acc 78.90 |loss  1.04 | val loss  1.13\n",
      "| epoch   0 | [14800/17944] | ms/batch 810.43 | train acc 79.29 | val acc 78.95 |loss  1.04 | val loss  1.13\n",
      "| epoch   0 | [15000/17944] | ms/batch 811.70 | train acc 79.30 | val acc 78.98 |loss  1.04 | val loss  1.12\n",
      "| epoch   0 | [15200/17944] | ms/batch 810.32 | train acc 79.31 | val acc 78.98 |loss  1.04 | val loss  1.12\n",
      "| epoch   0 | [15400/17944] | ms/batch 811.42 | train acc 79.32 | val acc 79.03 |loss  1.04 | val loss  1.12\n",
      "| epoch   0 | [15600/17944] | ms/batch 810.19 | train acc 79.33 | val acc 79.02 |loss  1.04 | val loss  1.12\n",
      "| epoch   0 | [15800/17944] | ms/batch 811.13 | train acc 79.33 | val acc 79.02 |loss  1.04 | val loss  1.12\n",
      "| epoch   0 | [16000/17944] | ms/batch 811.52 | train acc 79.34 | val acc 79.02 |loss  1.04 | val loss  1.11\n",
      "| epoch   0 | [16200/17944] | ms/batch 810.11 | train acc 79.35 | val acc 79.01 |loss  1.04 | val loss  1.11\n",
      "| epoch   0 | [16400/17944] | ms/batch 810.88 | train acc 79.35 | val acc 79.01 |loss  1.03 | val loss  1.11\n",
      "| epoch   0 | [16600/17944] | ms/batch 811.86 | train acc 79.36 | val acc 79.05 |loss  1.03 | val loss  1.11\n",
      "| epoch   0 | [16800/17944] | ms/batch 810.42 | train acc 79.37 | val acc 79.06 |loss  1.03 | val loss  1.11\n",
      "| epoch   0 | [17000/17944] | ms/batch 812.20 | train acc 79.38 | val acc 79.08 |loss  1.03 | val loss  1.11\n",
      "| epoch   0 | [17200/17944] | ms/batch 811.02 | train acc 79.39 | val acc 79.09 |loss  1.03 | val loss  1.10\n",
      "| epoch   0 | [17400/17944] | ms/batch 811.76 | train acc 79.39 | val acc 79.03 |loss  1.03 | val loss  1.11\n",
      "| epoch   0 | [17600/17944] | ms/batch 811.75 | train acc 79.40 | val acc 79.03 |loss  1.03 | val loss  1.11\n",
      "| epoch   0 | [17800/17944] | ms/batch 811.33 | train acc 79.41 | val acc 79.03 |loss  1.03 | val loss  1.11\n",
      "WARNING:tensorflow:The parameters `output_attentions`, `output_hidden_states` and `use_cache` cannot be updated when calling a model.They have to be set to True/False in the config object (i.e.: `config=XConfig.from_pretrained('name', output_attentions=True)`).\n"
     ]
    },
    {
     "name": "stderr",
     "output_type": "stream",
     "text": [
      "WARNING:tensorflow:The parameters `output_attentions`, `output_hidden_states` and `use_cache` cannot be updated when calling a model.They have to be set to True/False in the config object (i.e.: `config=XConfig.from_pretrained('name', output_attentions=True)`).\n"
     ]
    },
    {
     "name": "stdout",
     "output_type": "stream",
     "text": [
      "WARNING:tensorflow:The parameter `return_dict` cannot be set in graph mode and will always be set to `True`.\n"
     ]
    },
    {
     "name": "stderr",
     "output_type": "stream",
     "text": [
      "WARNING:tensorflow:The parameter `return_dict` cannot be set in graph mode and will always be set to `True`.\n"
     ]
    },
    {
     "name": "stdout",
     "output_type": "stream",
     "text": [
      "WARNING:tensorflow:The parameters `output_attentions`, `output_hidden_states` and `use_cache` cannot be updated when calling a model.They have to be set to True/False in the config object (i.e.: `config=XConfig.from_pretrained('name', output_attentions=True)`).\n"
     ]
    },
    {
     "name": "stderr",
     "output_type": "stream",
     "text": [
      "WARNING:tensorflow:The parameters `output_attentions`, `output_hidden_states` and `use_cache` cannot be updated when calling a model.They have to be set to True/False in the config object (i.e.: `config=XConfig.from_pretrained('name', output_attentions=True)`).\n"
     ]
    },
    {
     "name": "stdout",
     "output_type": "stream",
     "text": [
      "WARNING:tensorflow:The parameter `return_dict` cannot be set in graph mode and will always be set to `True`.\n"
     ]
    },
    {
     "name": "stderr",
     "output_type": "stream",
     "text": [
      "WARNING:tensorflow:The parameter `return_dict` cannot be set in graph mode and will always be set to `True`.\n"
     ]
    }
   ],
   "source": [
    "EPOCHS = 1\n",
    "log_interval = 200\n",
    "for epoch in range(EPOCHS):\n",
    "    train_loss.reset_states()\n",
    "    train_accuracy.reset_states()\n",
    "    \n",
    "    val_loss.reset_states()\n",
    "    val_accuracy.reset_states()\n",
    "    \n",
    "    val_batches = iter(val_ds)\n",
    "    \n",
    "    start_time = time.time()\n",
    "    for i, (input_ids, input_mask, y) in enumerate(train_ds):\n",
    "        # training\n",
    "        #try:\n",
    "        train_step(input_ids, input_mask, y)\n",
    "        #except:\n",
    "        #continue\n",
    "        # validation\n",
    "        if i % log_interval == 0:\n",
    "            x_val, x_mask_val, y_val = next(val_batches)\n",
    "            val_step(x_val, x_mask_val, y_val)\n",
    "            elapsed = time.time() - start_time\n",
    "            print('| epoch {:3d} | [{:5d}/{:5d}] | '\n",
    "                  'ms/batch {:5.2f} | '\n",
    "                  'train acc {:5.2f} | val acc {:5.2f} |'\n",
    "                  'loss {:5.2f} | val loss {:5.2f}'.format(\n",
    "                    epoch, i, int(len_train/BATCH_SIZE),\n",
    "                    elapsed * 1000 / log_interval,\n",
    "                    train_accuracy.result() * 100, val_accuracy.result() * 100, \n",
    "                    train_loss.result(),  val_loss.result()))\n",
    "            start_time = time.time()"
   ]
  },
  {
   "cell_type": "markdown",
   "metadata": {
    "id": "A4IxElLhrT3g"
   },
   "source": [
    "## Evaluate"
   ]
  },
  {
   "cell_type": "markdown",
   "metadata": {
    "id": "2OgrBGnBrT3g"
   },
   "source": [
    "### Define Rouge Score"
   ]
  },
  {
   "cell_type": "code",
   "execution_count": 14,
   "metadata": {
    "colab": {
     "base_uri": "https://localhost:8080/"
    },
    "id": "a-xvEwA2IIem",
    "outputId": "b3a38487-5cb3-4acc-ec94-31c3f80da9e4"
   },
   "outputs": [
    {
     "name": "stdout",
     "output_type": "stream",
     "text": [
      "Collecting rouge-score\n",
      "  Downloading https://files.pythonhosted.org/packages/1f/56/a81022436c08b9405a5247b71635394d44fe7e1dbedc4b28c740e09c2840/rouge_score-0.0.4-py2.py3-none-any.whl\n",
      "Requirement already satisfied: absl-py in /usr/local/lib/python3.7/dist-packages (from rouge-score) (0.10.0)\n",
      "Requirement already satisfied: numpy in /usr/local/lib/python3.7/dist-packages (from rouge-score) (1.19.5)\n",
      "Requirement already satisfied: nltk in /usr/local/lib/python3.7/dist-packages (from rouge-score) (3.2.5)\n",
      "Requirement already satisfied: six>=1.14.0 in /usr/local/lib/python3.7/dist-packages (from rouge-score) (1.15.0)\n",
      "Installing collected packages: rouge-score\n",
      "Successfully installed rouge-score-0.0.4\n"
     ]
    }
   ],
   "source": [
    "!pip install rouge-score"
   ]
  },
  {
   "cell_type": "code",
   "execution_count": 15,
   "metadata": {
    "id": "wgb16nxyrT3g"
   },
   "outputs": [],
   "source": [
    "from rouge_score import rouge_scorer\n",
    "from rouge_score import scoring\n",
    "\n",
    "class RougeScore:\n",
    "    \n",
    "    def __init__(self, score_keys=None)-> None:\n",
    "        super().__init__()\n",
    "        if score_keys is None:  \n",
    "            self.score_keys = [\"rouge1\", \"rouge2\", \"rougeLsum\"]\n",
    "        \n",
    "        self.scorer = rouge_scorer.RougeScorer(self.score_keys)\n",
    "        self.aggregator = scoring.BootstrapAggregator()\n",
    "        \n",
    "        \n",
    "    @staticmethod\n",
    "    def prepare_summary(summary):\n",
    "            summary = summary.replace(\" . \", \" .\\n\")\n",
    "            return summary\n",
    "    \n",
    "    def __call__(self, target, prediction):\n",
    "        \"\"\"Computes rouge score.''\n",
    "        Args:\n",
    "        targets: string\n",
    "        predictions: string\n",
    "        \"\"\"\n",
    "\n",
    "        target = self.prepare_summary(target)\n",
    "        prediction = self.prepare_summary(prediction)\n",
    "        \n",
    "        self.aggregator.add_scores(self.scorer.score(target=target, prediction=prediction))\n",
    "\n",
    "        return \n",
    "    \n",
    "    def reset_states(self):\n",
    "        self.rouge_list = []\n",
    "\n",
    "    def result(self):\n",
    "        result = self.aggregator.aggregate()\n",
    "        \n",
    "        for key in self.score_keys:\n",
    "            score_text = \"%s = %.2f, 95%% confidence [%.2f, %.2f]\"%(\n",
    "                key,\n",
    "                result[key].mid.fmeasure*100,\n",
    "                result[key].low.fmeasure*100,\n",
    "                result[key].high.fmeasure*100\n",
    "            )\n",
    "            print(score_text)\n",
    "        \n",
    "        return {key: result[key].mid.fmeasure*100 for key in self.score_keys}"
   ]
  },
  {
   "cell_type": "code",
   "execution_count": 18,
   "metadata": {
    "colab": {
     "base_uri": "https://localhost:8080/"
    },
    "id": "QBalE43OeymG",
    "outputId": "0a1c5e7c-3206-43f7-a80f-717e140849de"
   },
   "outputs": [
    {
     "data": {
      "text/plain": [
       "<TakeDataset shapes: ((None, 512), (None, 512), (None, 150)), types: (tf.int32, tf.int32, tf.int32)>"
      ]
     },
     "execution_count": 18,
     "metadata": {
      "tags": []
     },
     "output_type": "execute_result"
    }
   ],
   "source": [
    "test_ds.take(1)"
   ]
  },
  {
   "cell_type": "markdown",
   "metadata": {
    "id": "UuRifC7lrT3h"
   },
   "source": [
    "### Compute Rouge Score"
   ]
  },
  {
   "cell_type": "code",
   "execution_count": 16,
   "metadata": {
    "colab": {
     "base_uri": "https://localhost:8080/"
    },
    "id": "3nOmJTlarT3h",
    "outputId": "c61683d9-06d3-4552-f0d6-c32abfee5741"
   },
   "outputs": [
    {
     "name": "stderr",
     "output_type": "stream",
     "text": [
      "Truncation was not explicitly activated but `max_length` is provided a specific value, please use `truncation=True` to explicitly truncate examples to max length. Defaulting to 'longest_first' truncation strategy. If you encode pairs of sequences (GLUE-style) with the tokenizer you can select this strategy more precisely by providing a specific strategy to `truncation`.\n"
     ]
    },
    {
     "name": "stdout",
     "output_type": "stream",
     "text": [
      "rouge1 = 40.12, 95% confidence [39.52, 40.72]\n",
      "rouge2 = 18.40, 95% confidence [17.83, 19.04]\n",
      "rougeLsum = 37.11, 95% confidence [36.55, 37.70]\n"
     ]
    },
    {
     "data": {
      "text/plain": [
       "{'rouge1': 40.118984089679145,\n",
       " 'rouge2': 18.401294761576324,\n",
       " 'rougeLsum': 37.11376539035381}"
      ]
     },
     "execution_count": 16,
     "metadata": {
      "tags": []
     },
     "output_type": "execute_result"
    }
   ],
   "source": [
    "predictions = []\n",
    "rouge_score = RougeScore()\n",
    "for i, (input_ids, input_mask, y) in enumerate(test_ds):\n",
    "    summaries = model.generate(input_ids=input_ids, attention_mask=input_mask)\n",
    "\n",
    "    pred = [tokenizer.decode(g, skip_special_tokens=True, clean_up_tokenization_spaces=False) for g in summaries]\n",
    "    real = [tokenizer.decode(g, skip_special_tokens=True, clean_up_tokenization_spaces=False) for g in y]\n",
    "    \n",
    "    for pred_sent, real_sent in zip(pred, real):\n",
    "        rouge_score(pred_sent, real_sent)\n",
    "        predictions.append(str(\"pred sentence: \" + pred_sent + \"\\n\\n real sentence: \" + real_sent))\n",
    "        \n",
    "    if i > 100:\n",
    "        # otherwise it will take ages\n",
    "        break\n",
    "\n",
    "\n",
    "rouge_score.result()"
   ]
  },
  {
   "cell_type": "code",
   "execution_count": null,
   "metadata": {
    "id": "S-5mOB3ed6-t"
   },
   "outputs": [],
   "source": [
    "!cp -r '/content/summarisation_model' /content/drive/MyDrive\n",
    "!cp -r '/content/summarisation_tokeniser' /content/drive/MyDrive"
   ]
  },
  {
   "cell_type": "code",
   "execution_count": null,
   "metadata": {
    "colab": {
     "base_uri": "https://localhost:8080/"
    },
    "id": "dyHAZKKHPkVH",
    "outputId": "0fef3768-24e6-4d0b-da26-a4a3b99a5d1a"
   },
   "outputs": [
    {
     "data": {
      "text/plain": [
       "('summarisation_tokeniser/tokenizer_config.json',\n",
       " 'summarisation_tokeniser/special_tokens_map.json',\n",
       " 'summarisation_tokeniser/spiece.model',\n",
       " 'summarisation_tokeniser/added_tokens.json')"
      ]
     },
     "execution_count": 19,
     "metadata": {
      "tags": []
     },
     "output_type": "execute_result"
    }
   ],
   "source": [
    "model.save_pretrained(\"summarisation_model\")\n",
    "tokenizer.save_pretrained(\"summarisation_tokeniser\")"
   ]
  },
  {
   "cell_type": "markdown",
   "metadata": {
    "id": "9FyaJ9RJrT3i"
   },
   "source": [
    "### Predict some Sentences"
   ]
  },
  {
   "cell_type": "code",
   "execution_count": null,
   "metadata": {
    "id": "NkHB6ATsrT3i",
    "outputId": "fad5ae44-1c09-4cde-bb99-de4434506b9b"
   },
   "outputs": [
    {
     "name": "stdout",
     "output_type": "stream",
     "text": [
      "------\n",
      "pred sentence: A cave photographer, john spies, 59, captured the sheer magnificence of the vast, yet intricate, underground wonderland . xe bang fai river caves feature imposing stalagmitemade of mineral deposits . the cave is only able to be safely accessed during the dry season from november to april and during this time the water is clear and deep with a rich green hue . in 2008, an expedition led to the mysterious caves being \n",
      "\n",
      " real sentence: the tham khoun ex cave has 15km of spectacular caves waiting to be explore by kayak . explorers can witness the incredible caverns, lake and even the vibrant forest at the entrance . cave photographer john spies captured the labyrinthine chambers to unfold the mystery .\n",
      "------\n",
      "------\n",
      "pred sentence: houston couple, who have not been named, were arguing in the parking lot of an apartment complex . husband admitted to police that during the heat of the argument he tried to drive off in his green chevrolet pickup truck when his wife grabbed the door handle, slipped, and he ran her over . police say that they questioned the man extensively but believe his story and have not filed charges against him . the woman was rushed to memorial hermann hospital southwest where doctors successfully delivered her baby by cesarean section . a friend of the woman's 17-year-old son was told of his mother's death during a phone call at school . she came to the driver's door, she fell and the husband ran her, but they have not yet been named . they were questioned about the incident . but they believe he was crying, and the baby was saved \n",
      "\n",
      " real sentence: her husband admits the pair had been arguing minutes before the accident . she came to the driver's door while her husband drove away and she fell . police say they believe the husband's story and have not charged him . doctors were able to deliver her 36-week-old baby in houston, texas . the pregnant woman, who has not been named, died later in hospital .\n",
      "------\n",
      "------\n",
      "pred sentence: osborne said he wanted a 1980s-style property revolution after years of declining home ownership . he pledged to double the number of people buying their first home . since 2010 there have been 1.2 million first-time purchases and 2.4 million more over the next five years . david cameron said: i believe britain should be a home-owning democracy, that’s the goal English pm: we have acted on every front, we’ll continue to help first time buyers get on the housing ladder every year by 2020 - 'home ownership is an absolutely core conservative belief and aspiration that we support a 80s style property revolution . chancellor wants to double number using government help-to-by schemes and wants at least 2.4m more over five years, mr o'british people can buy a house .\n",
      "\n",
      " real sentence: chancellor pledged to double the number of people buying their first home . since 2010 there have been 1.2 million first-time buyers getting first homes . mr osborne wants at least 2.4 million more over the next five years .\n",
      "------\n",
      "------\n",
      "pred sentence: hannah wilson's body was found in rural brown county, indiana, on friday morning after a night out . daniel messel, 49, was arrested hours later and has been charged in her death . circumstances of her disappearance are 'eerily similar' to the case of 20-year-old spierer, police said . she was last seen at kilroy's sports bar in bloomington with a group of friends on monday . it is not known if she was a student . a cellphone was found near her feet and no criminal charges have been filed in connection with the death of lauren messel . the body of the student has never been found in brown county . police will be looking into the case again . there is no sign of sexual assault . her body has not been found and she was\n",
      "\n",
      " real sentence: police said the circumstances of the disappearances of hannah wilson and lauren spierer are eerily similar spierer, 20, went missing in 2011 after a night partying with friends; her body has never been found and no criminal charges have been filed . wilson's body was found on rural land about 10 miles away last friday and it is believed she died of blunt force trauma . daniel messel, 49, has been arrested in her death after a cellphone at her feet was traced back to him and he had blood inside his car\n",
      "------\n",
      "------\n",
      "pred sentence: zeynab daghastani, 13, was shot and killed on tuesday as she tried to flee a militant-held area of damascus . she was reportedly gunned down by isis snipers in al-yarmouk camp . the teenager was trying to make her way to a nearby neighbourhood controlled by the syrian army . thousands of palestinians have been trying to escape the area since the area fell under is\n",
      "\n",
      " real sentence: zeynab daghastani, 13, reportedly gunned down as she fled yarmouk camp . teen trying to get to nearby yalda district which is not under isis control . yarmouk, on the outskirts of damascus, has been under siege since 2012 . isis seized it ten days ago and have been butchering those trapped there .\n",
      "------\n",
      "------\n",
      "pred sentence: israeli tourist captured the moment a group of baboons robbed a supply truck in tanzania . the 40-second-clip shows the driver standing next to his vehicle . man is forced to retreat as one makes a lunge at him and another jumps into the back of the truck to search for supplies . he makes an attempt to scare the monkey away and eventually it re-emerges . it carries snacks in both its hands and its mouth before scarping\n",
      "\n",
      " real sentence: video was captured at the ngorongoro conservation area in tanzania . israeli tourist filmed a group of baboons approaching a supply truck . as one distracts the driver by lunging at it another jumps into vehicle . before long it re-emerges with its hands and mouth full of snacks . the group of thieves reconvene and run off into the bushes together .\n",
      "------\n",
      "------\n",
      "pred sentence: england captain alastair cook completed a much-needed century on the second morning of englands opening tour match in the west indies . cook resumed on 95 and reached three figures with minimal fuss before retiring out . ian bell arrived at the crease, with batting time more important to the tourists than attempting to force a result in this two-day fixture . ivan bell walked off on 101 from 200 deliveries during day two of the st kitts and nevis invitational xi vs saturday's opening match . the tourists will be able to reach three figures on tuesday . captain resumed a century before retiring on 95 . it was the second day of the tour match at the end of the day - the tourists had to wait until the tourists are unable to make a decision \n",
      "\n",
      " real sentence: alastair cook completed his century on the second morning of action . england captain resumed on 95 and reached three figures before retiring . that allowed ian bell to arrive at the crease as tourists continued to bat .\n",
      "------\n",
      "------\n",
      "pred sentence: kenneth morgan stancil iii, 20, told raleighs wral-tv on wednesday that he killed ron lane earlier this week in north carolina because lane had made sexual advances towards his 16-year-old brother . in a telephone interview from a daytona beach jail, he said lane tried to take advantage of his brother and he was in the proposal to try to and i wasnt going to give a damn if i get life, 'i did what i did, i do anything necessary to take care of my family . he is awaiting extradition from florida to north america . the neo-nazi has no reports of unsolved homicides . police did not immediately return a phone message on th\n",
      "\n",
      " real sentence: suspect kenneth morgan stancil claimed he killed ron lane because the college employee made sexual advances to his 16-year-old brother . the murder suspect gave himself fascist face tattoos . stancil also said he is a neo-nazi who is concerned about the future of white children and hates race-mixing\n",
      "------\n",
      "------\n",
      "pred sentence: a new australian fashion report has named and shamed some of the worst aussie clothing brands . amongst the best performers were etiko, audrey blue, cotton on, h&m and zara . only two of the 59 companies could prove they were paying a full living wage to the workers in two of three production stages of their clothing . a living wage ensures that an employee has enough money to cover the necessities - like food, water, electricity and shelter . the report assessed the labour rights management system of 59 brands and 219 brands operating in australia . it named the worst performers by the 2015 australian clothing brands and their companies - which includes just jeans, portmans and dotti - among the best - including cotton on - and the just group - a country's legally set minimum wage - the only two could prove the\n",
      "\n",
      " real sentence: australian fashion report revealed the australian-sold brands and companies that ignore the exploitation of their overseas workers . lowes, industrie, best & less and the just group - which includes just jeans, portmans and dotti - were some of the worst performers . etiko, audrey blue, cotton on, h&m and zara had some of the best scores . 75 per cent of companies don't know the source of all their fabrics and inputs .\n",
      "------\n",
      "------\n",
      "pred sentence: lindsay lohan, 28, has been living in london for the past year and says she feels 'at home' in the uk . the flame-haired beauty recently spent a stint on the stage, starring in a west end production of david mamet's speed the plow . she has no plans to return to the states for the foreseeable future . ms lohan says she's going back to nyc and la for family and work . it's a big budget for lingerie and a sex appeal, but she has been in the us since she moved across the pond to uk for more than a year . but she doesn't see herself returning to the u.s. and wants to be a part of a series of racy ensembles by moschino .\n",
      "\n",
      " real sentence: lindsay, 28, moved to the uk last spring before making her london stage debut . the former child star has become more famous for her run-ins with the police and the media than anything else in recent years . but lindsay is now vowing to stay in london to grow up she appears in a provocative spread for homme style magazine, having been shot by famed fashion photographer rankin .\n",
      "------\n"
     ]
    }
   ],
   "source": [
    "for pred in predictions[:10]:\n",
    "    print(\"------\")\n",
    "    print(pred)\n",
    "    print(\"------\")     "
   ]
  },
  {
   "cell_type": "code",
   "execution_count": null,
   "metadata": {
    "id": "Y9mYcxrcrT3j"
   },
   "outputs": [],
   "source": []
  }
 ],
 "metadata": {
  "accelerator": "GPU",
  "colab": {
   "name": "t5_tf_huggingface.ipynb",
   "provenance": [],
   "toc_visible": true
  },
  "kernelspec": {
   "display_name": "Python 3",
   "language": "python",
   "name": "python3"
  },
  "language_info": {
   "codemirror_mode": {
    "name": "ipython",
    "version": 3
   },
   "file_extension": ".py",
   "mimetype": "text/x-python",
   "name": "python",
   "nbconvert_exporter": "python",
   "pygments_lexer": "ipython3",
   "version": "3.7.6"
  },
  "widgets": {
   "application/vnd.jupyter.widget-state+json": {
    "0126aa585f2a4d8695258bba2f70f49a": {
     "model_module": "@jupyter-widgets/base",
     "model_name": "LayoutModel",
     "state": {
      "_model_module": "@jupyter-widgets/base",
      "_model_module_version": "1.2.0",
      "_model_name": "LayoutModel",
      "_view_count": null,
      "_view_module": "@jupyter-widgets/base",
      "_view_module_version": "1.2.0",
      "_view_name": "LayoutView",
      "align_content": null,
      "align_items": null,
      "align_self": null,
      "border": null,
      "bottom": null,
      "display": null,
      "flex": null,
      "flex_flow": null,
      "grid_area": null,
      "grid_auto_columns": null,
      "grid_auto_flow": null,
      "grid_auto_rows": null,
      "grid_column": null,
      "grid_gap": null,
      "grid_row": null,
      "grid_template_areas": null,
      "grid_template_columns": null,
      "grid_template_rows": null,
      "height": null,
      "justify_content": null,
      "justify_items": null,
      "left": null,
      "margin": null,
      "max_height": null,
      "max_width": null,
      "min_height": null,
      "min_width": null,
      "object_fit": null,
      "object_position": null,
      "order": null,
      "overflow": null,
      "overflow_x": null,
      "overflow_y": null,
      "padding": null,
      "right": null,
      "top": null,
      "visibility": null,
      "width": null
     }
    },
    "035708fba1c645c798addba1aea1e0d6": {
     "model_module": "@jupyter-widgets/base",
     "model_name": "LayoutModel",
     "state": {
      "_model_module": "@jupyter-widgets/base",
      "_model_module_version": "1.2.0",
      "_model_name": "LayoutModel",
      "_view_count": null,
      "_view_module": "@jupyter-widgets/base",
      "_view_module_version": "1.2.0",
      "_view_name": "LayoutView",
      "align_content": null,
      "align_items": null,
      "align_self": null,
      "border": null,
      "bottom": null,
      "display": null,
      "flex": null,
      "flex_flow": null,
      "grid_area": null,
      "grid_auto_columns": null,
      "grid_auto_flow": null,
      "grid_auto_rows": null,
      "grid_column": null,
      "grid_gap": null,
      "grid_row": null,
      "grid_template_areas": null,
      "grid_template_columns": null,
      "grid_template_rows": null,
      "height": null,
      "justify_content": null,
      "justify_items": null,
      "left": null,
      "margin": null,
      "max_height": null,
      "max_width": null,
      "min_height": null,
      "min_width": null,
      "object_fit": null,
      "object_position": null,
      "order": null,
      "overflow": null,
      "overflow_x": null,
      "overflow_y": null,
      "padding": null,
      "right": null,
      "top": null,
      "visibility": null,
      "width": null
     }
    },
    "070c1dfa86d64a8895dde8e54fbf661e": {
     "model_module": "@jupyter-widgets/controls",
     "model_name": "FloatProgressModel",
     "state": {
      "_dom_classes": [],
      "_model_module": "@jupyter-widgets/controls",
      "_model_module_version": "1.5.0",
      "_model_name": "FloatProgressModel",
      "_view_count": null,
      "_view_module": "@jupyter-widgets/controls",
      "_view_module_version": "1.5.0",
      "_view_name": "ProgressView",
      "bar_style": "info",
      "description": "",
      "description_tooltip": null,
      "layout": "IPY_MODEL_d4fb3d08e95941c1b1b54330eecb65e6",
      "max": 1,
      "min": 0,
      "orientation": "horizontal",
      "style": "IPY_MODEL_13a1423ccd4e49a1a8c84664b01b40e0",
      "value": 1
     }
    },
    "07d691a3826b4e3c9ee747b0c2b4f6cf": {
     "model_module": "@jupyter-widgets/controls",
     "model_name": "HTMLModel",
     "state": {
      "_dom_classes": [],
      "_model_module": "@jupyter-widgets/controls",
      "_model_module_version": "1.5.0",
      "_model_name": "HTMLModel",
      "_view_count": null,
      "_view_module": "@jupyter-widgets/controls",
      "_view_module_version": "1.5.0",
      "_view_name": "HTMLView",
      "description": "",
      "description_tooltip": null,
      "layout": "IPY_MODEL_86789b89deb24756be2725c4f14b52f8",
      "placeholder": "​",
      "style": "IPY_MODEL_5eb54fb3e5bc4a92a2112cff1f3321ef",
      "value": " 8154/13368 [00:00&lt;00:00, 81531.14 examples/s]"
     }
    },
    "09bbc05227344c31b7e4f6b945e12d3a": {
     "model_module": "@jupyter-widgets/controls",
     "model_name": "DescriptionStyleModel",
     "state": {
      "_model_module": "@jupyter-widgets/controls",
      "_model_module_version": "1.5.0",
      "_model_name": "DescriptionStyleModel",
      "_view_count": null,
      "_view_module": "@jupyter-widgets/base",
      "_view_module_version": "1.2.0",
      "_view_name": "StyleView",
      "description_width": ""
     }
    },
    "102de6e635d94bcb94573ec216d866a4": {
     "model_module": "@jupyter-widgets/controls",
     "model_name": "HBoxModel",
     "state": {
      "_dom_classes": [],
      "_model_module": "@jupyter-widgets/controls",
      "_model_module_version": "1.5.0",
      "_model_name": "HBoxModel",
      "_view_count": null,
      "_view_module": "@jupyter-widgets/controls",
      "_view_module_version": "1.5.0",
      "_view_name": "HBoxView",
      "box_style": "",
      "children": [
       "IPY_MODEL_156e63dd2cdb4991a1a8bfe01c118f7a",
       "IPY_MODEL_e0ba0ef95afb429d8aac4366cb506ac2"
      ],
      "layout": "IPY_MODEL_8cea104d0315422fb83e4dad47ae2c8e"
     }
    },
    "10d356e58e284808b34ebdae91cdca62": {
     "model_module": "@jupyter-widgets/controls",
     "model_name": "HBoxModel",
     "state": {
      "_dom_classes": [],
      "_model_module": "@jupyter-widgets/controls",
      "_model_module_version": "1.5.0",
      "_model_name": "HBoxModel",
      "_view_count": null,
      "_view_module": "@jupyter-widgets/controls",
      "_view_module_version": "1.5.0",
      "_view_name": "HBoxView",
      "box_style": "",
      "children": [
       "IPY_MODEL_403e65f5d5144a79884840af182d0719",
       "IPY_MODEL_07d691a3826b4e3c9ee747b0c2b4f6cf"
      ],
      "layout": "IPY_MODEL_cfc1a5b878dd4ea8ba3b0270617a77a7"
     }
    },
    "13a1423ccd4e49a1a8c84664b01b40e0": {
     "model_module": "@jupyter-widgets/controls",
     "model_name": "ProgressStyleModel",
     "state": {
      "_model_module": "@jupyter-widgets/controls",
      "_model_module_version": "1.5.0",
      "_model_name": "ProgressStyleModel",
      "_view_count": null,
      "_view_module": "@jupyter-widgets/base",
      "_view_module_version": "1.2.0",
      "_view_name": "StyleView",
      "bar_color": null,
      "description_width": "initial"
     }
    },
    "14060049644048b88977c85bc1ba2aa5": {
     "model_module": "@jupyter-widgets/base",
     "model_name": "LayoutModel",
     "state": {
      "_model_module": "@jupyter-widgets/base",
      "_model_module_version": "1.2.0",
      "_model_name": "LayoutModel",
      "_view_count": null,
      "_view_module": "@jupyter-widgets/base",
      "_view_module_version": "1.2.0",
      "_view_name": "LayoutView",
      "align_content": null,
      "align_items": null,
      "align_self": null,
      "border": null,
      "bottom": null,
      "display": null,
      "flex": null,
      "flex_flow": null,
      "grid_area": null,
      "grid_auto_columns": null,
      "grid_auto_flow": null,
      "grid_auto_rows": null,
      "grid_column": null,
      "grid_gap": null,
      "grid_row": null,
      "grid_template_areas": null,
      "grid_template_columns": null,
      "grid_template_rows": null,
      "height": null,
      "justify_content": null,
      "justify_items": null,
      "left": null,
      "margin": null,
      "max_height": null,
      "max_width": null,
      "min_height": null,
      "min_width": null,
      "object_fit": null,
      "object_position": null,
      "order": null,
      "overflow": null,
      "overflow_x": null,
      "overflow_y": null,
      "padding": null,
      "right": null,
      "top": null,
      "visibility": null,
      "width": null
     }
    },
    "156e63dd2cdb4991a1a8bfe01c118f7a": {
     "model_module": "@jupyter-widgets/controls",
     "model_name": "FloatProgressModel",
     "state": {
      "_dom_classes": [],
      "_model_module": "@jupyter-widgets/controls",
      "_model_module_version": "1.5.0",
      "_model_name": "FloatProgressModel",
      "_view_count": null,
      "_view_module": "@jupyter-widgets/controls",
      "_view_module_version": "1.5.0",
      "_view_name": "ProgressView",
      "bar_style": "success",
      "description": "Downloading: 100%",
      "description_tooltip": null,
      "layout": "IPY_MODEL_8c43b864a2e54b7d868ed633ee2b7b37",
      "max": 1197,
      "min": 0,
      "orientation": "horizontal",
      "style": "IPY_MODEL_81ea23256fb1469f83258869cef0029a",
      "value": 1197
     }
    },
    "15ab748e556844618b2e54af32b597ff": {
     "model_module": "@jupyter-widgets/controls",
     "model_name": "HTMLModel",
     "state": {
      "_dom_classes": [],
      "_model_module": "@jupyter-widgets/controls",
      "_model_module_version": "1.5.0",
      "_model_name": "HTMLModel",
      "_view_count": null,
      "_view_module": "@jupyter-widgets/controls",
      "_view_module_version": "1.5.0",
      "_view_name": "HTMLView",
      "description": "",
      "description_tooltip": null,
      "layout": "IPY_MODEL_0126aa585f2a4d8695258bba2f70f49a",
      "placeholder": "​",
      "style": "IPY_MODEL_db452c34577c4245855c84b398113b91",
      "value": " 287113/0 [03:06&lt;00:00, 1537.64 examples/s]"
     }
    },
    "1665d7eeed534d4d84cf2d3e1d607f2a": {
     "model_module": "@jupyter-widgets/controls",
     "model_name": "ProgressStyleModel",
     "state": {
      "_model_module": "@jupyter-widgets/controls",
      "_model_module_version": "1.5.0",
      "_model_name": "ProgressStyleModel",
      "_view_count": null,
      "_view_module": "@jupyter-widgets/base",
      "_view_module_version": "1.2.0",
      "_view_name": "StyleView",
      "bar_color": null,
      "description_width": "initial"
     }
    },
    "19b44beb044c482c88a99438317e795f": {
     "model_module": "@jupyter-widgets/base",
     "model_name": "LayoutModel",
     "state": {
      "_model_module": "@jupyter-widgets/base",
      "_model_module_version": "1.2.0",
      "_model_name": "LayoutModel",
      "_view_count": null,
      "_view_module": "@jupyter-widgets/base",
      "_view_module_version": "1.2.0",
      "_view_name": "LayoutView",
      "align_content": null,
      "align_items": null,
      "align_self": null,
      "border": null,
      "bottom": null,
      "display": null,
      "flex": null,
      "flex_flow": null,
      "grid_area": null,
      "grid_auto_columns": null,
      "grid_auto_flow": null,
      "grid_auto_rows": null,
      "grid_column": null,
      "grid_gap": null,
      "grid_row": null,
      "grid_template_areas": null,
      "grid_template_columns": null,
      "grid_template_rows": null,
      "height": null,
      "justify_content": null,
      "justify_items": null,
      "left": null,
      "margin": null,
      "max_height": null,
      "max_width": null,
      "min_height": null,
      "min_width": null,
      "object_fit": null,
      "object_position": null,
      "order": null,
      "overflow": null,
      "overflow_x": null,
      "overflow_y": null,
      "padding": null,
      "right": null,
      "top": null,
      "visibility": null,
      "width": null
     }
    },
    "19b9e48714764ab0ac1eea3c1a7096da": {
     "model_module": "@jupyter-widgets/controls",
     "model_name": "HBoxModel",
     "state": {
      "_dom_classes": [],
      "_model_module": "@jupyter-widgets/controls",
      "_model_module_version": "1.5.0",
      "_model_name": "HBoxModel",
      "_view_count": null,
      "_view_module": "@jupyter-widgets/controls",
      "_view_module_version": "1.5.0",
      "_view_name": "HBoxView",
      "box_style": "",
      "children": [
       "IPY_MODEL_b145d4dbd0f548fea096d4cbb96d8449",
       "IPY_MODEL_5ab862c30ab4427fa8e2f56110e5e447"
      ],
      "layout": "IPY_MODEL_8f0296de92384965bb59af5b26bf835e"
     }
    },
    "19d44afab5c74d9bba33815d1cbccfa9": {
     "model_module": "@jupyter-widgets/base",
     "model_name": "LayoutModel",
     "state": {
      "_model_module": "@jupyter-widgets/base",
      "_model_module_version": "1.2.0",
      "_model_name": "LayoutModel",
      "_view_count": null,
      "_view_module": "@jupyter-widgets/base",
      "_view_module_version": "1.2.0",
      "_view_name": "LayoutView",
      "align_content": null,
      "align_items": null,
      "align_self": null,
      "border": null,
      "bottom": null,
      "display": null,
      "flex": null,
      "flex_flow": null,
      "grid_area": null,
      "grid_auto_columns": null,
      "grid_auto_flow": null,
      "grid_auto_rows": null,
      "grid_column": null,
      "grid_gap": null,
      "grid_row": null,
      "grid_template_areas": null,
      "grid_template_columns": null,
      "grid_template_rows": null,
      "height": null,
      "justify_content": null,
      "justify_items": null,
      "left": null,
      "margin": null,
      "max_height": null,
      "max_width": null,
      "min_height": null,
      "min_width": null,
      "object_fit": null,
      "object_position": null,
      "order": null,
      "overflow": null,
      "overflow_x": null,
      "overflow_y": null,
      "padding": null,
      "right": null,
      "top": null,
      "visibility": null,
      "width": null
     }
    },
    "1c45ebde83cf49b4814aa3102a40035c": {
     "model_module": "@jupyter-widgets/base",
     "model_name": "LayoutModel",
     "state": {
      "_model_module": "@jupyter-widgets/base",
      "_model_module_version": "1.2.0",
      "_model_name": "LayoutModel",
      "_view_count": null,
      "_view_module": "@jupyter-widgets/base",
      "_view_module_version": "1.2.0",
      "_view_name": "LayoutView",
      "align_content": null,
      "align_items": null,
      "align_self": null,
      "border": null,
      "bottom": null,
      "display": null,
      "flex": null,
      "flex_flow": null,
      "grid_area": null,
      "grid_auto_columns": null,
      "grid_auto_flow": null,
      "grid_auto_rows": null,
      "grid_column": null,
      "grid_gap": null,
      "grid_row": null,
      "grid_template_areas": null,
      "grid_template_columns": null,
      "grid_template_rows": null,
      "height": null,
      "justify_content": null,
      "justify_items": null,
      "left": null,
      "margin": null,
      "max_height": null,
      "max_width": null,
      "min_height": null,
      "min_width": null,
      "object_fit": null,
      "object_position": null,
      "order": null,
      "overflow": null,
      "overflow_x": null,
      "overflow_y": null,
      "padding": null,
      "right": null,
      "top": null,
      "visibility": null,
      "width": null
     }
    },
    "1e9961f8581849719cd7a572a3b5c14e": {
     "model_module": "@jupyter-widgets/base",
     "model_name": "LayoutModel",
     "state": {
      "_model_module": "@jupyter-widgets/base",
      "_model_module_version": "1.2.0",
      "_model_name": "LayoutModel",
      "_view_count": null,
      "_view_module": "@jupyter-widgets/base",
      "_view_module_version": "1.2.0",
      "_view_name": "LayoutView",
      "align_content": null,
      "align_items": null,
      "align_self": null,
      "border": null,
      "bottom": null,
      "display": null,
      "flex": null,
      "flex_flow": null,
      "grid_area": null,
      "grid_auto_columns": null,
      "grid_auto_flow": null,
      "grid_auto_rows": null,
      "grid_column": null,
      "grid_gap": null,
      "grid_row": null,
      "grid_template_areas": null,
      "grid_template_columns": null,
      "grid_template_rows": null,
      "height": null,
      "justify_content": null,
      "justify_items": null,
      "left": null,
      "margin": null,
      "max_height": null,
      "max_width": null,
      "min_height": null,
      "min_width": null,
      "object_fit": null,
      "object_position": null,
      "order": null,
      "overflow": null,
      "overflow_x": null,
      "overflow_y": null,
      "padding": null,
      "right": null,
      "top": null,
      "visibility": null,
      "width": null
     }
    },
    "1ffaea0168fe4972ae64ef5d02e156f8": {
     "model_module": "@jupyter-widgets/controls",
     "model_name": "FloatProgressModel",
     "state": {
      "_dom_classes": [],
      "_model_module": "@jupyter-widgets/controls",
      "_model_module_version": "1.5.0",
      "_model_name": "FloatProgressModel",
      "_view_count": null,
      "_view_module": "@jupyter-widgets/controls",
      "_view_module_version": "1.5.0",
      "_view_name": "ProgressView",
      "bar_style": "danger",
      "description": " 99%",
      "description_tooltip": null,
      "layout": "IPY_MODEL_1e9961f8581849719cd7a572a3b5c14e",
      "max": 287113,
      "min": 0,
      "orientation": "horizontal",
      "style": "IPY_MODEL_3f990c3f1912436eaf0854a3e565722d",
      "value": 284076
     }
    },
    "20678689ebfa4d59bbede0dd2a45560e": {
     "model_module": "@jupyter-widgets/controls",
     "model_name": "HBoxModel",
     "state": {
      "_dom_classes": [],
      "_model_module": "@jupyter-widgets/controls",
      "_model_module_version": "1.5.0",
      "_model_name": "HBoxModel",
      "_view_count": null,
      "_view_module": "@jupyter-widgets/controls",
      "_view_module_version": "1.5.0",
      "_view_name": "HBoxView",
      "box_style": "",
      "children": [
       "IPY_MODEL_c8285070c3f44e0ab9e0ebf4c8042b19",
       "IPY_MODEL_a1fa57d9cf2d4a2da28c4f879932fd2d"
      ],
      "layout": "IPY_MODEL_485fde8af7f342daa1d298a234dda76b"
     }
    },
    "2554faa7cdca456daad6cd7b0d852d99": {
     "model_module": "@jupyter-widgets/base",
     "model_name": "LayoutModel",
     "state": {
      "_model_module": "@jupyter-widgets/base",
      "_model_module_version": "1.2.0",
      "_model_name": "LayoutModel",
      "_view_count": null,
      "_view_module": "@jupyter-widgets/base",
      "_view_module_version": "1.2.0",
      "_view_name": "LayoutView",
      "align_content": null,
      "align_items": null,
      "align_self": null,
      "border": null,
      "bottom": null,
      "display": null,
      "flex": null,
      "flex_flow": null,
      "grid_area": null,
      "grid_auto_columns": null,
      "grid_auto_flow": null,
      "grid_auto_rows": null,
      "grid_column": null,
      "grid_gap": null,
      "grid_row": null,
      "grid_template_areas": null,
      "grid_template_columns": null,
      "grid_template_rows": null,
      "height": null,
      "justify_content": null,
      "justify_items": null,
      "left": null,
      "margin": null,
      "max_height": null,
      "max_width": null,
      "min_height": null,
      "min_width": null,
      "object_fit": null,
      "object_position": null,
      "order": null,
      "overflow": null,
      "overflow_x": null,
      "overflow_y": null,
      "padding": null,
      "right": null,
      "top": null,
      "visibility": null,
      "width": null
     }
    },
    "2bc41ceaba9c478db704be2c9782d5c5": {
     "model_module": "@jupyter-widgets/controls",
     "model_name": "HBoxModel",
     "state": {
      "_dom_classes": [],
      "_model_module": "@jupyter-widgets/controls",
      "_model_module_version": "1.5.0",
      "_model_name": "HBoxModel",
      "_view_count": null,
      "_view_module": "@jupyter-widgets/controls",
      "_view_module_version": "1.5.0",
      "_view_name": "HBoxView",
      "box_style": "",
      "children": [
       "IPY_MODEL_98c3be04309c4c6d845f20c556874a30",
       "IPY_MODEL_bc70e8ff9a844c329f5d23d55ecb2d6e"
      ],
      "layout": "IPY_MODEL_6d797ff421294d2da658f7cd31579d6c"
     }
    },
    "2bc68a4e4a064ba4b3cf336e70d8597a": {
     "model_module": "@jupyter-widgets/base",
     "model_name": "LayoutModel",
     "state": {
      "_model_module": "@jupyter-widgets/base",
      "_model_module_version": "1.2.0",
      "_model_name": "LayoutModel",
      "_view_count": null,
      "_view_module": "@jupyter-widgets/base",
      "_view_module_version": "1.2.0",
      "_view_name": "LayoutView",
      "align_content": null,
      "align_items": null,
      "align_self": null,
      "border": null,
      "bottom": null,
      "display": null,
      "flex": null,
      "flex_flow": null,
      "grid_area": null,
      "grid_auto_columns": null,
      "grid_auto_flow": null,
      "grid_auto_rows": null,
      "grid_column": null,
      "grid_gap": null,
      "grid_row": null,
      "grid_template_areas": null,
      "grid_template_columns": null,
      "grid_template_rows": null,
      "height": null,
      "justify_content": null,
      "justify_items": null,
      "left": null,
      "margin": null,
      "max_height": null,
      "max_width": null,
      "min_height": null,
      "min_width": null,
      "object_fit": null,
      "object_position": null,
      "order": null,
      "overflow": null,
      "overflow_x": null,
      "overflow_y": null,
      "padding": null,
      "right": null,
      "top": null,
      "visibility": null,
      "width": null
     }
    },
    "2c21073cb0cb4252bef7c92591cb365b": {
     "model_module": "@jupyter-widgets/base",
     "model_name": "LayoutModel",
     "state": {
      "_model_module": "@jupyter-widgets/base",
      "_model_module_version": "1.2.0",
      "_model_name": "LayoutModel",
      "_view_count": null,
      "_view_module": "@jupyter-widgets/base",
      "_view_module_version": "1.2.0",
      "_view_name": "LayoutView",
      "align_content": null,
      "align_items": null,
      "align_self": null,
      "border": null,
      "bottom": null,
      "display": null,
      "flex": null,
      "flex_flow": null,
      "grid_area": null,
      "grid_auto_columns": null,
      "grid_auto_flow": null,
      "grid_auto_rows": null,
      "grid_column": null,
      "grid_gap": null,
      "grid_row": null,
      "grid_template_areas": null,
      "grid_template_columns": null,
      "grid_template_rows": null,
      "height": null,
      "justify_content": null,
      "justify_items": null,
      "left": null,
      "margin": null,
      "max_height": null,
      "max_width": null,
      "min_height": null,
      "min_width": null,
      "object_fit": null,
      "object_position": null,
      "order": null,
      "overflow": null,
      "overflow_x": null,
      "overflow_y": null,
      "padding": null,
      "right": null,
      "top": null,
      "visibility": null,
      "width": null
     }
    },
    "2fdbf52e8d2a49328a7d32921c9a17f8": {
     "model_module": "@jupyter-widgets/base",
     "model_name": "LayoutModel",
     "state": {
      "_model_module": "@jupyter-widgets/base",
      "_model_module_version": "1.2.0",
      "_model_name": "LayoutModel",
      "_view_count": null,
      "_view_module": "@jupyter-widgets/base",
      "_view_module_version": "1.2.0",
      "_view_name": "LayoutView",
      "align_content": null,
      "align_items": null,
      "align_self": null,
      "border": null,
      "bottom": null,
      "display": null,
      "flex": null,
      "flex_flow": null,
      "grid_area": null,
      "grid_auto_columns": null,
      "grid_auto_flow": null,
      "grid_auto_rows": null,
      "grid_column": null,
      "grid_gap": null,
      "grid_row": null,
      "grid_template_areas": null,
      "grid_template_columns": null,
      "grid_template_rows": null,
      "height": null,
      "justify_content": null,
      "justify_items": null,
      "left": null,
      "margin": null,
      "max_height": null,
      "max_width": null,
      "min_height": null,
      "min_width": null,
      "object_fit": null,
      "object_position": null,
      "order": null,
      "overflow": null,
      "overflow_x": null,
      "overflow_y": null,
      "padding": null,
      "right": null,
      "top": null,
      "visibility": null,
      "width": null
     }
    },
    "30cec7affe96483ca86275450ff0987c": {
     "model_module": "@jupyter-widgets/controls",
     "model_name": "HBoxModel",
     "state": {
      "_dom_classes": [],
      "_model_module": "@jupyter-widgets/controls",
      "_model_module_version": "1.5.0",
      "_model_name": "HBoxModel",
      "_view_count": null,
      "_view_module": "@jupyter-widgets/controls",
      "_view_module_version": "1.5.0",
      "_view_name": "HBoxView",
      "box_style": "",
      "children": [
       "IPY_MODEL_070c1dfa86d64a8895dde8e54fbf661e",
       "IPY_MODEL_aab82b8b9d394f839273409e0c46f17e"
      ],
      "layout": "IPY_MODEL_ef1d2269503b4c66a3cc05e69e5f82fc"
     }
    },
    "3225bc4309644f4e882cf1e8b19f323f": {
     "model_module": "@jupyter-widgets/controls",
     "model_name": "DescriptionStyleModel",
     "state": {
      "_model_module": "@jupyter-widgets/controls",
      "_model_module_version": "1.5.0",
      "_model_name": "DescriptionStyleModel",
      "_view_count": null,
      "_view_module": "@jupyter-widgets/base",
      "_view_module_version": "1.2.0",
      "_view_name": "StyleView",
      "description_width": ""
     }
    },
    "3459bc8d26214f0dad1992837fd0229a": {
     "model_module": "@jupyter-widgets/controls",
     "model_name": "FloatProgressModel",
     "state": {
      "_dom_classes": [],
      "_model_module": "@jupyter-widgets/controls",
      "_model_module_version": "1.5.0",
      "_model_name": "FloatProgressModel",
      "_view_count": null,
      "_view_module": "@jupyter-widgets/controls",
      "_view_module_version": "1.5.0",
      "_view_name": "ProgressView",
      "bar_style": "success",
      "description": "Downloading: 100%",
      "description_tooltip": null,
      "layout": "IPY_MODEL_be4bec3bd9de4f50a46352f3c56c84cb",
      "max": 791656,
      "min": 0,
      "orientation": "horizontal",
      "style": "IPY_MODEL_fd8732d45f2c4422ad12e662c9670589",
      "value": 791656
     }
    },
    "388d04d124964843bff6ad634d501adf": {
     "model_module": "@jupyter-widgets/base",
     "model_name": "LayoutModel",
     "state": {
      "_model_module": "@jupyter-widgets/base",
      "_model_module_version": "1.2.0",
      "_model_name": "LayoutModel",
      "_view_count": null,
      "_view_module": "@jupyter-widgets/base",
      "_view_module_version": "1.2.0",
      "_view_name": "LayoutView",
      "align_content": null,
      "align_items": null,
      "align_self": null,
      "border": null,
      "bottom": null,
      "display": null,
      "flex": null,
      "flex_flow": null,
      "grid_area": null,
      "grid_auto_columns": null,
      "grid_auto_flow": null,
      "grid_auto_rows": null,
      "grid_column": null,
      "grid_gap": null,
      "grid_row": null,
      "grid_template_areas": null,
      "grid_template_columns": null,
      "grid_template_rows": null,
      "height": null,
      "justify_content": null,
      "justify_items": null,
      "left": null,
      "margin": null,
      "max_height": null,
      "max_width": null,
      "min_height": null,
      "min_width": null,
      "object_fit": null,
      "object_position": null,
      "order": null,
      "overflow": null,
      "overflow_x": null,
      "overflow_y": null,
      "padding": null,
      "right": null,
      "top": null,
      "visibility": null,
      "width": null
     }
    },
    "3a3c34de05254b6b971b705cf0e18de9": {
     "model_module": "@jupyter-widgets/base",
     "model_name": "LayoutModel",
     "state": {
      "_model_module": "@jupyter-widgets/base",
      "_model_module_version": "1.2.0",
      "_model_name": "LayoutModel",
      "_view_count": null,
      "_view_module": "@jupyter-widgets/base",
      "_view_module_version": "1.2.0",
      "_view_name": "LayoutView",
      "align_content": null,
      "align_items": null,
      "align_self": null,
      "border": null,
      "bottom": null,
      "display": null,
      "flex": null,
      "flex_flow": null,
      "grid_area": null,
      "grid_auto_columns": null,
      "grid_auto_flow": null,
      "grid_auto_rows": null,
      "grid_column": null,
      "grid_gap": null,
      "grid_row": null,
      "grid_template_areas": null,
      "grid_template_columns": null,
      "grid_template_rows": null,
      "height": null,
      "justify_content": null,
      "justify_items": null,
      "left": null,
      "margin": null,
      "max_height": null,
      "max_width": null,
      "min_height": null,
      "min_width": null,
      "object_fit": null,
      "object_position": null,
      "order": null,
      "overflow": null,
      "overflow_x": null,
      "overflow_y": null,
      "padding": null,
      "right": null,
      "top": null,
      "visibility": null,
      "width": null
     }
    },
    "3b6dc0fbfe0b443e996e23cc68a7d2a8": {
     "model_module": "@jupyter-widgets/base",
     "model_name": "LayoutModel",
     "state": {
      "_model_module": "@jupyter-widgets/base",
      "_model_module_version": "1.2.0",
      "_model_name": "LayoutModel",
      "_view_count": null,
      "_view_module": "@jupyter-widgets/base",
      "_view_module_version": "1.2.0",
      "_view_name": "LayoutView",
      "align_content": null,
      "align_items": null,
      "align_self": null,
      "border": null,
      "bottom": null,
      "display": null,
      "flex": null,
      "flex_flow": null,
      "grid_area": null,
      "grid_auto_columns": null,
      "grid_auto_flow": null,
      "grid_auto_rows": null,
      "grid_column": null,
      "grid_gap": null,
      "grid_row": null,
      "grid_template_areas": null,
      "grid_template_columns": null,
      "grid_template_rows": null,
      "height": null,
      "justify_content": null,
      "justify_items": null,
      "left": null,
      "margin": null,
      "max_height": null,
      "max_width": null,
      "min_height": null,
      "min_width": null,
      "object_fit": null,
      "object_position": null,
      "order": null,
      "overflow": null,
      "overflow_x": null,
      "overflow_y": null,
      "padding": null,
      "right": null,
      "top": null,
      "visibility": null,
      "width": null
     }
    },
    "3dfe090cde624d7bad1400050f90dd50": {
     "model_module": "@jupyter-widgets/controls",
     "model_name": "ProgressStyleModel",
     "state": {
      "_model_module": "@jupyter-widgets/controls",
      "_model_module_version": "1.5.0",
      "_model_name": "ProgressStyleModel",
      "_view_count": null,
      "_view_module": "@jupyter-widgets/base",
      "_view_module_version": "1.2.0",
      "_view_name": "StyleView",
      "bar_color": null,
      "description_width": "initial"
     }
    },
    "3f990c3f1912436eaf0854a3e565722d": {
     "model_module": "@jupyter-widgets/controls",
     "model_name": "ProgressStyleModel",
     "state": {
      "_model_module": "@jupyter-widgets/controls",
      "_model_module_version": "1.5.0",
      "_model_name": "ProgressStyleModel",
      "_view_count": null,
      "_view_module": "@jupyter-widgets/base",
      "_view_module_version": "1.2.0",
      "_view_name": "StyleView",
      "bar_color": null,
      "description_width": "initial"
     }
    },
    "403e65f5d5144a79884840af182d0719": {
     "model_module": "@jupyter-widgets/controls",
     "model_name": "FloatProgressModel",
     "state": {
      "_dom_classes": [],
      "_model_module": "@jupyter-widgets/controls",
      "_model_module_version": "1.5.0",
      "_model_name": "FloatProgressModel",
      "_view_count": null,
      "_view_module": "@jupyter-widgets/controls",
      "_view_module_version": "1.5.0",
      "_view_name": "ProgressView",
      "bar_style": "danger",
      "description": " 61%",
      "description_tooltip": null,
      "layout": "IPY_MODEL_861eee49fdaa44c29563ba95538cd4e9",
      "max": 13368,
      "min": 0,
      "orientation": "horizontal",
      "style": "IPY_MODEL_1665d7eeed534d4d84cf2d3e1d607f2a",
      "value": 8154
     }
    },
    "42e6e244db45473ebb77ace1b47b77f7": {
     "model_module": "@jupyter-widgets/controls",
     "model_name": "ProgressStyleModel",
     "state": {
      "_model_module": "@jupyter-widgets/controls",
      "_model_module_version": "1.5.0",
      "_model_name": "ProgressStyleModel",
      "_view_count": null,
      "_view_module": "@jupyter-widgets/base",
      "_view_module_version": "1.2.0",
      "_view_name": "StyleView",
      "bar_color": null,
      "description_width": "initial"
     }
    },
    "45d6071c46704b5fac1b13deeeeb159d": {
     "model_module": "@jupyter-widgets/base",
     "model_name": "LayoutModel",
     "state": {
      "_model_module": "@jupyter-widgets/base",
      "_model_module_version": "1.2.0",
      "_model_name": "LayoutModel",
      "_view_count": null,
      "_view_module": "@jupyter-widgets/base",
      "_view_module_version": "1.2.0",
      "_view_name": "LayoutView",
      "align_content": null,
      "align_items": null,
      "align_self": null,
      "border": null,
      "bottom": null,
      "display": null,
      "flex": null,
      "flex_flow": null,
      "grid_area": null,
      "grid_auto_columns": null,
      "grid_auto_flow": null,
      "grid_auto_rows": null,
      "grid_column": null,
      "grid_gap": null,
      "grid_row": null,
      "grid_template_areas": null,
      "grid_template_columns": null,
      "grid_template_rows": null,
      "height": null,
      "justify_content": null,
      "justify_items": null,
      "left": null,
      "margin": null,
      "max_height": null,
      "max_width": null,
      "min_height": null,
      "min_width": null,
      "object_fit": null,
      "object_position": null,
      "order": null,
      "overflow": null,
      "overflow_x": null,
      "overflow_y": null,
      "padding": null,
      "right": null,
      "top": null,
      "visibility": null,
      "width": null
     }
    },
    "485fde8af7f342daa1d298a234dda76b": {
     "model_module": "@jupyter-widgets/base",
     "model_name": "LayoutModel",
     "state": {
      "_model_module": "@jupyter-widgets/base",
      "_model_module_version": "1.2.0",
      "_model_name": "LayoutModel",
      "_view_count": null,
      "_view_module": "@jupyter-widgets/base",
      "_view_module_version": "1.2.0",
      "_view_name": "LayoutView",
      "align_content": null,
      "align_items": null,
      "align_self": null,
      "border": null,
      "bottom": null,
      "display": null,
      "flex": null,
      "flex_flow": null,
      "grid_area": null,
      "grid_auto_columns": null,
      "grid_auto_flow": null,
      "grid_auto_rows": null,
      "grid_column": null,
      "grid_gap": null,
      "grid_row": null,
      "grid_template_areas": null,
      "grid_template_columns": null,
      "grid_template_rows": null,
      "height": null,
      "justify_content": null,
      "justify_items": null,
      "left": null,
      "margin": null,
      "max_height": null,
      "max_width": null,
      "min_height": null,
      "min_width": null,
      "object_fit": null,
      "object_position": null,
      "order": null,
      "overflow": null,
      "overflow_x": null,
      "overflow_y": null,
      "padding": null,
      "right": null,
      "top": null,
      "visibility": null,
      "width": null
     }
    },
    "4b14f775c0404ff2b1c546fbf49ad57a": {
     "model_module": "@jupyter-widgets/controls",
     "model_name": "HBoxModel",
     "state": {
      "_dom_classes": [],
      "_model_module": "@jupyter-widgets/controls",
      "_model_module_version": "1.5.0",
      "_model_name": "HBoxModel",
      "_view_count": null,
      "_view_module": "@jupyter-widgets/controls",
      "_view_module_version": "1.5.0",
      "_view_name": "HBoxView",
      "box_style": "",
      "children": [
       "IPY_MODEL_3459bc8d26214f0dad1992837fd0229a",
       "IPY_MODEL_806ac8dbae5847cfa2b980ec183d8733"
      ],
      "layout": "IPY_MODEL_035708fba1c645c798addba1aea1e0d6"
     }
    },
    "4cee38f9863f400b8a8aa1d77097ecf5": {
     "model_module": "@jupyter-widgets/base",
     "model_name": "LayoutModel",
     "state": {
      "_model_module": "@jupyter-widgets/base",
      "_model_module_version": "1.2.0",
      "_model_name": "LayoutModel",
      "_view_count": null,
      "_view_module": "@jupyter-widgets/base",
      "_view_module_version": "1.2.0",
      "_view_name": "LayoutView",
      "align_content": null,
      "align_items": null,
      "align_self": null,
      "border": null,
      "bottom": null,
      "display": null,
      "flex": null,
      "flex_flow": null,
      "grid_area": null,
      "grid_auto_columns": null,
      "grid_auto_flow": null,
      "grid_auto_rows": null,
      "grid_column": null,
      "grid_gap": null,
      "grid_row": null,
      "grid_template_areas": null,
      "grid_template_columns": null,
      "grid_template_rows": null,
      "height": null,
      "justify_content": null,
      "justify_items": null,
      "left": null,
      "margin": null,
      "max_height": null,
      "max_width": null,
      "min_height": null,
      "min_width": null,
      "object_fit": null,
      "object_position": null,
      "order": null,
      "overflow": null,
      "overflow_x": null,
      "overflow_y": null,
      "padding": null,
      "right": null,
      "top": null,
      "visibility": null,
      "width": null
     }
    },
    "4e3f197beb8a4ef8ba05d45611e5bb1b": {
     "model_module": "@jupyter-widgets/controls",
     "model_name": "HTMLModel",
     "state": {
      "_dom_classes": [],
      "_model_module": "@jupyter-widgets/controls",
      "_model_module_version": "1.5.0",
      "_model_name": "HTMLModel",
      "_view_count": null,
      "_view_module": "@jupyter-widgets/controls",
      "_view_module_version": "1.5.0",
      "_view_name": "HTMLView",
      "description": "",
      "description_tooltip": null,
      "layout": "IPY_MODEL_5a6d8ff0caaf4dcfb2781025f5a85784",
      "placeholder": "​",
      "style": "IPY_MODEL_94f70e712762475db45f5187802084c5",
      "value": " 242M/242M [00:09&lt;00:00, 24.6MB/s]"
     }
    },
    "590cab8cabd742fabd2ace382822a8a4": {
     "model_module": "@jupyter-widgets/controls",
     "model_name": "DescriptionStyleModel",
     "state": {
      "_model_module": "@jupyter-widgets/controls",
      "_model_module_version": "1.5.0",
      "_model_name": "DescriptionStyleModel",
      "_view_count": null,
      "_view_module": "@jupyter-widgets/base",
      "_view_module_version": "1.2.0",
      "_view_name": "StyleView",
      "description_width": ""
     }
    },
    "5a6d8ff0caaf4dcfb2781025f5a85784": {
     "model_module": "@jupyter-widgets/base",
     "model_name": "LayoutModel",
     "state": {
      "_model_module": "@jupyter-widgets/base",
      "_model_module_version": "1.2.0",
      "_model_name": "LayoutModel",
      "_view_count": null,
      "_view_module": "@jupyter-widgets/base",
      "_view_module_version": "1.2.0",
      "_view_name": "LayoutView",
      "align_content": null,
      "align_items": null,
      "align_self": null,
      "border": null,
      "bottom": null,
      "display": null,
      "flex": null,
      "flex_flow": null,
      "grid_area": null,
      "grid_auto_columns": null,
      "grid_auto_flow": null,
      "grid_auto_rows": null,
      "grid_column": null,
      "grid_gap": null,
      "grid_row": null,
      "grid_template_areas": null,
      "grid_template_columns": null,
      "grid_template_rows": null,
      "height": null,
      "justify_content": null,
      "justify_items": null,
      "left": null,
      "margin": null,
      "max_height": null,
      "max_width": null,
      "min_height": null,
      "min_width": null,
      "object_fit": null,
      "object_position": null,
      "order": null,
      "overflow": null,
      "overflow_x": null,
      "overflow_y": null,
      "padding": null,
      "right": null,
      "top": null,
      "visibility": null,
      "width": null
     }
    },
    "5ab862c30ab4427fa8e2f56110e5e447": {
     "model_module": "@jupyter-widgets/controls",
     "model_name": "HTMLModel",
     "state": {
      "_dom_classes": [],
      "_model_module": "@jupyter-widgets/controls",
      "_model_module_version": "1.5.0",
      "_model_name": "HTMLModel",
      "_view_count": null,
      "_view_module": "@jupyter-widgets/controls",
      "_view_module_version": "1.5.0",
      "_view_name": "HTMLView",
      "description": "",
      "description_tooltip": null,
      "layout": "IPY_MODEL_a0fa2f12da5a47aba5510cf9dec4d105",
      "placeholder": "​",
      "style": "IPY_MODEL_99420b85188c402bae4f2bdce78e1b3f",
      "value": " 2/2 [01:27&lt;00:00, 43.56s/ file]"
     }
    },
    "5aceb42d66d2484587763619f75ac43c": {
     "model_module": "@jupyter-widgets/controls",
     "model_name": "HTMLModel",
     "state": {
      "_dom_classes": [],
      "_model_module": "@jupyter-widgets/controls",
      "_model_module_version": "1.5.0",
      "_model_name": "HTMLModel",
      "_view_count": null,
      "_view_module": "@jupyter-widgets/controls",
      "_view_module_version": "1.5.0",
      "_view_name": "HTMLView",
      "description": "",
      "description_tooltip": null,
      "layout": "IPY_MODEL_45d6071c46704b5fac1b13deeeeb159d",
      "placeholder": "​",
      "style": "IPY_MODEL_f7ebd1d11e9b431288f47692a80cc4a8",
      "value": " 11490/0 [00:07&lt;00:00, 1650.53 examples/s]"
     }
    },
    "5e60d25869d54cc8806919d9556a70f6": {
     "model_module": "@jupyter-widgets/controls",
     "model_name": "HBoxModel",
     "state": {
      "_dom_classes": [],
      "_model_module": "@jupyter-widgets/controls",
      "_model_module_version": "1.5.0",
      "_model_name": "HBoxModel",
      "_view_count": null,
      "_view_module": "@jupyter-widgets/controls",
      "_view_module_version": "1.5.0",
      "_view_name": "HBoxView",
      "box_style": "",
      "children": [
       "IPY_MODEL_1ffaea0168fe4972ae64ef5d02e156f8",
       "IPY_MODEL_b225f07924ae4b43a32980172d2de6a8"
      ],
      "layout": "IPY_MODEL_3b6dc0fbfe0b443e996e23cc68a7d2a8"
     }
    },
    "5eb54fb3e5bc4a92a2112cff1f3321ef": {
     "model_module": "@jupyter-widgets/controls",
     "model_name": "DescriptionStyleModel",
     "state": {
      "_model_module": "@jupyter-widgets/controls",
      "_model_module_version": "1.5.0",
      "_model_name": "DescriptionStyleModel",
      "_view_count": null,
      "_view_module": "@jupyter-widgets/base",
      "_view_module_version": "1.2.0",
      "_view_name": "StyleView",
      "description_width": ""
     }
    },
    "5ee70d60417640ea8f87c6cca39abc85": {
     "model_module": "@jupyter-widgets/controls",
     "model_name": "FloatProgressModel",
     "state": {
      "_dom_classes": [],
      "_model_module": "@jupyter-widgets/controls",
      "_model_module_version": "1.5.0",
      "_model_name": "FloatProgressModel",
      "_view_count": null,
      "_view_module": "@jupyter-widgets/controls",
      "_view_module_version": "1.5.0",
      "_view_name": "ProgressView",
      "bar_style": "info",
      "description": "",
      "description_tooltip": null,
      "layout": "IPY_MODEL_19d44afab5c74d9bba33815d1cbccfa9",
      "max": 1,
      "min": 0,
      "orientation": "horizontal",
      "style": "IPY_MODEL_8dd5a359e7a34f75b3103aff5fb2f0e4",
      "value": 1
     }
    },
    "66654db25a524836a672aeadb03f6a14": {
     "model_module": "@jupyter-widgets/base",
     "model_name": "LayoutModel",
     "state": {
      "_model_module": "@jupyter-widgets/base",
      "_model_module_version": "1.2.0",
      "_model_name": "LayoutModel",
      "_view_count": null,
      "_view_module": "@jupyter-widgets/base",
      "_view_module_version": "1.2.0",
      "_view_name": "LayoutView",
      "align_content": null,
      "align_items": null,
      "align_self": null,
      "border": null,
      "bottom": null,
      "display": null,
      "flex": null,
      "flex_flow": null,
      "grid_area": null,
      "grid_auto_columns": null,
      "grid_auto_flow": null,
      "grid_auto_rows": null,
      "grid_column": null,
      "grid_gap": null,
      "grid_row": null,
      "grid_template_areas": null,
      "grid_template_columns": null,
      "grid_template_rows": null,
      "height": null,
      "justify_content": null,
      "justify_items": null,
      "left": null,
      "margin": null,
      "max_height": null,
      "max_width": null,
      "min_height": null,
      "min_width": null,
      "object_fit": null,
      "object_position": null,
      "order": null,
      "overflow": null,
      "overflow_x": null,
      "overflow_y": null,
      "padding": null,
      "right": null,
      "top": null,
      "visibility": null,
      "width": null
     }
    },
    "69409b96a10240a99237f8e80cb59b7f": {
     "model_module": "@jupyter-widgets/controls",
     "model_name": "DescriptionStyleModel",
     "state": {
      "_model_module": "@jupyter-widgets/controls",
      "_model_module_version": "1.5.0",
      "_model_name": "DescriptionStyleModel",
      "_view_count": null,
      "_view_module": "@jupyter-widgets/base",
      "_view_module_version": "1.2.0",
      "_view_name": "StyleView",
      "description_width": ""
     }
    },
    "69f9563695804deaa1cb9485c6fffa43": {
     "model_module": "@jupyter-widgets/base",
     "model_name": "LayoutModel",
     "state": {
      "_model_module": "@jupyter-widgets/base",
      "_model_module_version": "1.2.0",
      "_model_name": "LayoutModel",
      "_view_count": null,
      "_view_module": "@jupyter-widgets/base",
      "_view_module_version": "1.2.0",
      "_view_name": "LayoutView",
      "align_content": null,
      "align_items": null,
      "align_self": null,
      "border": null,
      "bottom": null,
      "display": null,
      "flex": null,
      "flex_flow": null,
      "grid_area": null,
      "grid_auto_columns": null,
      "grid_auto_flow": null,
      "grid_auto_rows": null,
      "grid_column": null,
      "grid_gap": null,
      "grid_row": null,
      "grid_template_areas": null,
      "grid_template_columns": null,
      "grid_template_rows": null,
      "height": null,
      "justify_content": null,
      "justify_items": null,
      "left": null,
      "margin": null,
      "max_height": null,
      "max_width": null,
      "min_height": null,
      "min_width": null,
      "object_fit": null,
      "object_position": null,
      "order": null,
      "overflow": null,
      "overflow_x": null,
      "overflow_y": null,
      "padding": null,
      "right": null,
      "top": null,
      "visibility": null,
      "width": null
     }
    },
    "6d797ff421294d2da658f7cd31579d6c": {
     "model_module": "@jupyter-widgets/base",
     "model_name": "LayoutModel",
     "state": {
      "_model_module": "@jupyter-widgets/base",
      "_model_module_version": "1.2.0",
      "_model_name": "LayoutModel",
      "_view_count": null,
      "_view_module": "@jupyter-widgets/base",
      "_view_module_version": "1.2.0",
      "_view_name": "LayoutView",
      "align_content": null,
      "align_items": null,
      "align_self": null,
      "border": null,
      "bottom": null,
      "display": null,
      "flex": null,
      "flex_flow": null,
      "grid_area": null,
      "grid_auto_columns": null,
      "grid_auto_flow": null,
      "grid_auto_rows": null,
      "grid_column": null,
      "grid_gap": null,
      "grid_row": null,
      "grid_template_areas": null,
      "grid_template_columns": null,
      "grid_template_rows": null,
      "height": null,
      "justify_content": null,
      "justify_items": null,
      "left": null,
      "margin": null,
      "max_height": null,
      "max_width": null,
      "min_height": null,
      "min_width": null,
      "object_fit": null,
      "object_position": null,
      "order": null,
      "overflow": null,
      "overflow_x": null,
      "overflow_y": null,
      "padding": null,
      "right": null,
      "top": null,
      "visibility": null,
      "width": null
     }
    },
    "797153e79e3c484e9e0b49a72ce8dbcc": {
     "model_module": "@jupyter-widgets/controls",
     "model_name": "ProgressStyleModel",
     "state": {
      "_model_module": "@jupyter-widgets/controls",
      "_model_module_version": "1.5.0",
      "_model_name": "ProgressStyleModel",
      "_view_count": null,
      "_view_module": "@jupyter-widgets/base",
      "_view_module_version": "1.2.0",
      "_view_name": "StyleView",
      "bar_color": null,
      "description_width": "initial"
     }
    },
    "80116033fb594e439ea1f5fa1da3184c": {
     "model_module": "@jupyter-widgets/controls",
     "model_name": "ProgressStyleModel",
     "state": {
      "_model_module": "@jupyter-widgets/controls",
      "_model_module_version": "1.5.0",
      "_model_name": "ProgressStyleModel",
      "_view_count": null,
      "_view_module": "@jupyter-widgets/base",
      "_view_module_version": "1.2.0",
      "_view_name": "StyleView",
      "bar_color": null,
      "description_width": "initial"
     }
    },
    "806ac8dbae5847cfa2b980ec183d8733": {
     "model_module": "@jupyter-widgets/controls",
     "model_name": "HTMLModel",
     "state": {
      "_dom_classes": [],
      "_model_module": "@jupyter-widgets/controls",
      "_model_module_version": "1.5.0",
      "_model_name": "HTMLModel",
      "_view_count": null,
      "_view_module": "@jupyter-widgets/controls",
      "_view_module_version": "1.5.0",
      "_view_name": "HTMLView",
      "description": "",
      "description_tooltip": null,
      "layout": "IPY_MODEL_1c45ebde83cf49b4814aa3102a40035c",
      "placeholder": "​",
      "style": "IPY_MODEL_b1a774f14ff946aa957df737c972f4b8",
      "value": " 792k/792k [00:10&lt;00:00, 75.5kB/s]"
     }
    },
    "81ea23256fb1469f83258869cef0029a": {
     "model_module": "@jupyter-widgets/controls",
     "model_name": "ProgressStyleModel",
     "state": {
      "_model_module": "@jupyter-widgets/controls",
      "_model_module_version": "1.5.0",
      "_model_name": "ProgressStyleModel",
      "_view_count": null,
      "_view_module": "@jupyter-widgets/base",
      "_view_module_version": "1.2.0",
      "_view_name": "StyleView",
      "bar_color": null,
      "description_width": "initial"
     }
    },
    "84db1733b0fc4c9b89549ceaa5d90adc": {
     "model_module": "@jupyter-widgets/controls",
     "model_name": "ProgressStyleModel",
     "state": {
      "_model_module": "@jupyter-widgets/controls",
      "_model_module_version": "1.5.0",
      "_model_name": "ProgressStyleModel",
      "_view_count": null,
      "_view_module": "@jupyter-widgets/base",
      "_view_module_version": "1.2.0",
      "_view_name": "StyleView",
      "bar_color": null,
      "description_width": "initial"
     }
    },
    "861eee49fdaa44c29563ba95538cd4e9": {
     "model_module": "@jupyter-widgets/base",
     "model_name": "LayoutModel",
     "state": {
      "_model_module": "@jupyter-widgets/base",
      "_model_module_version": "1.2.0",
      "_model_name": "LayoutModel",
      "_view_count": null,
      "_view_module": "@jupyter-widgets/base",
      "_view_module_version": "1.2.0",
      "_view_name": "LayoutView",
      "align_content": null,
      "align_items": null,
      "align_self": null,
      "border": null,
      "bottom": null,
      "display": null,
      "flex": null,
      "flex_flow": null,
      "grid_area": null,
      "grid_auto_columns": null,
      "grid_auto_flow": null,
      "grid_auto_rows": null,
      "grid_column": null,
      "grid_gap": null,
      "grid_row": null,
      "grid_template_areas": null,
      "grid_template_columns": null,
      "grid_template_rows": null,
      "height": null,
      "justify_content": null,
      "justify_items": null,
      "left": null,
      "margin": null,
      "max_height": null,
      "max_width": null,
      "min_height": null,
      "min_width": null,
      "object_fit": null,
      "object_position": null,
      "order": null,
      "overflow": null,
      "overflow_x": null,
      "overflow_y": null,
      "padding": null,
      "right": null,
      "top": null,
      "visibility": null,
      "width": null
     }
    },
    "86789b89deb24756be2725c4f14b52f8": {
     "model_module": "@jupyter-widgets/base",
     "model_name": "LayoutModel",
     "state": {
      "_model_module": "@jupyter-widgets/base",
      "_model_module_version": "1.2.0",
      "_model_name": "LayoutModel",
      "_view_count": null,
      "_view_module": "@jupyter-widgets/base",
      "_view_module_version": "1.2.0",
      "_view_name": "LayoutView",
      "align_content": null,
      "align_items": null,
      "align_self": null,
      "border": null,
      "bottom": null,
      "display": null,
      "flex": null,
      "flex_flow": null,
      "grid_area": null,
      "grid_auto_columns": null,
      "grid_auto_flow": null,
      "grid_auto_rows": null,
      "grid_column": null,
      "grid_gap": null,
      "grid_row": null,
      "grid_template_areas": null,
      "grid_template_columns": null,
      "grid_template_rows": null,
      "height": null,
      "justify_content": null,
      "justify_items": null,
      "left": null,
      "margin": null,
      "max_height": null,
      "max_width": null,
      "min_height": null,
      "min_width": null,
      "object_fit": null,
      "object_position": null,
      "order": null,
      "overflow": null,
      "overflow_x": null,
      "overflow_y": null,
      "padding": null,
      "right": null,
      "top": null,
      "visibility": null,
      "width": null
     }
    },
    "879786579a2f496cb6536c2d4cedac76": {
     "model_module": "@jupyter-widgets/controls",
     "model_name": "HBoxModel",
     "state": {
      "_dom_classes": [],
      "_model_module": "@jupyter-widgets/controls",
      "_model_module_version": "1.5.0",
      "_model_name": "HBoxModel",
      "_view_count": null,
      "_view_module": "@jupyter-widgets/controls",
      "_view_module_version": "1.5.0",
      "_view_name": "HBoxView",
      "box_style": "",
      "children": [
       "IPY_MODEL_5ee70d60417640ea8f87c6cca39abc85",
       "IPY_MODEL_5aceb42d66d2484587763619f75ac43c"
      ],
      "layout": "IPY_MODEL_2554faa7cdca456daad6cd7b0d852d99"
     }
    },
    "8963f51fc3b442bea3c54f333f3ecd59": {
     "model_module": "@jupyter-widgets/controls",
     "model_name": "HTMLModel",
     "state": {
      "_dom_classes": [],
      "_model_module": "@jupyter-widgets/controls",
      "_model_module_version": "1.5.0",
      "_model_name": "HTMLModel",
      "_view_count": null,
      "_view_module": "@jupyter-widgets/controls",
      "_view_module_version": "1.5.0",
      "_view_name": "HTMLView",
      "description": "",
      "description_tooltip": null,
      "layout": "IPY_MODEL_2fdbf52e8d2a49328a7d32921c9a17f8",
      "placeholder": "​",
      "style": "IPY_MODEL_cf4d7aabf6a34b808241a22b9607b160",
      "value": " 5/5 [01:27&lt;00:00, 17.44s/ url]"
     }
    },
    "8c43b864a2e54b7d868ed633ee2b7b37": {
     "model_module": "@jupyter-widgets/base",
     "model_name": "LayoutModel",
     "state": {
      "_model_module": "@jupyter-widgets/base",
      "_model_module_version": "1.2.0",
      "_model_name": "LayoutModel",
      "_view_count": null,
      "_view_module": "@jupyter-widgets/base",
      "_view_module_version": "1.2.0",
      "_view_name": "LayoutView",
      "align_content": null,
      "align_items": null,
      "align_self": null,
      "border": null,
      "bottom": null,
      "display": null,
      "flex": null,
      "flex_flow": null,
      "grid_area": null,
      "grid_auto_columns": null,
      "grid_auto_flow": null,
      "grid_auto_rows": null,
      "grid_column": null,
      "grid_gap": null,
      "grid_row": null,
      "grid_template_areas": null,
      "grid_template_columns": null,
      "grid_template_rows": null,
      "height": null,
      "justify_content": null,
      "justify_items": null,
      "left": null,
      "margin": null,
      "max_height": null,
      "max_width": null,
      "min_height": null,
      "min_width": null,
      "object_fit": null,
      "object_position": null,
      "order": null,
      "overflow": null,
      "overflow_x": null,
      "overflow_y": null,
      "padding": null,
      "right": null,
      "top": null,
      "visibility": null,
      "width": null
     }
    },
    "8cea104d0315422fb83e4dad47ae2c8e": {
     "model_module": "@jupyter-widgets/base",
     "model_name": "LayoutModel",
     "state": {
      "_model_module": "@jupyter-widgets/base",
      "_model_module_version": "1.2.0",
      "_model_name": "LayoutModel",
      "_view_count": null,
      "_view_module": "@jupyter-widgets/base",
      "_view_module_version": "1.2.0",
      "_view_name": "LayoutView",
      "align_content": null,
      "align_items": null,
      "align_self": null,
      "border": null,
      "bottom": null,
      "display": null,
      "flex": null,
      "flex_flow": null,
      "grid_area": null,
      "grid_auto_columns": null,
      "grid_auto_flow": null,
      "grid_auto_rows": null,
      "grid_column": null,
      "grid_gap": null,
      "grid_row": null,
      "grid_template_areas": null,
      "grid_template_columns": null,
      "grid_template_rows": null,
      "height": null,
      "justify_content": null,
      "justify_items": null,
      "left": null,
      "margin": null,
      "max_height": null,
      "max_width": null,
      "min_height": null,
      "min_width": null,
      "object_fit": null,
      "object_position": null,
      "order": null,
      "overflow": null,
      "overflow_x": null,
      "overflow_y": null,
      "padding": null,
      "right": null,
      "top": null,
      "visibility": null,
      "width": null
     }
    },
    "8dd5a359e7a34f75b3103aff5fb2f0e4": {
     "model_module": "@jupyter-widgets/controls",
     "model_name": "ProgressStyleModel",
     "state": {
      "_model_module": "@jupyter-widgets/controls",
      "_model_module_version": "1.5.0",
      "_model_name": "ProgressStyleModel",
      "_view_count": null,
      "_view_module": "@jupyter-widgets/base",
      "_view_module_version": "1.2.0",
      "_view_name": "StyleView",
      "bar_color": null,
      "description_width": "initial"
     }
    },
    "8f0296de92384965bb59af5b26bf835e": {
     "model_module": "@jupyter-widgets/base",
     "model_name": "LayoutModel",
     "state": {
      "_model_module": "@jupyter-widgets/base",
      "_model_module_version": "1.2.0",
      "_model_name": "LayoutModel",
      "_view_count": null,
      "_view_module": "@jupyter-widgets/base",
      "_view_module_version": "1.2.0",
      "_view_name": "LayoutView",
      "align_content": null,
      "align_items": null,
      "align_self": null,
      "border": null,
      "bottom": null,
      "display": null,
      "flex": null,
      "flex_flow": null,
      "grid_area": null,
      "grid_auto_columns": null,
      "grid_auto_flow": null,
      "grid_auto_rows": null,
      "grid_column": null,
      "grid_gap": null,
      "grid_row": null,
      "grid_template_areas": null,
      "grid_template_columns": null,
      "grid_template_rows": null,
      "height": null,
      "justify_content": null,
      "justify_items": null,
      "left": null,
      "margin": null,
      "max_height": null,
      "max_width": null,
      "min_height": null,
      "min_width": null,
      "object_fit": null,
      "object_position": null,
      "order": null,
      "overflow": null,
      "overflow_x": null,
      "overflow_y": null,
      "padding": null,
      "right": null,
      "top": null,
      "visibility": null,
      "width": null
     }
    },
    "9045438db4aa4a8dbd003cb84bc282d7": {
     "model_module": "@jupyter-widgets/controls",
     "model_name": "FloatProgressModel",
     "state": {
      "_dom_classes": [],
      "_model_module": "@jupyter-widgets/controls",
      "_model_module_version": "1.5.0",
      "_model_name": "FloatProgressModel",
      "_view_count": null,
      "_view_module": "@jupyter-widgets/controls",
      "_view_module_version": "1.5.0",
      "_view_name": "ProgressView",
      "bar_style": "info",
      "description": "",
      "description_tooltip": null,
      "layout": "IPY_MODEL_a7f880f8482141a3bd665fd2823ba5a1",
      "max": 1,
      "min": 0,
      "orientation": "horizontal",
      "style": "IPY_MODEL_84db1733b0fc4c9b89549ceaa5d90adc",
      "value": 1
     }
    },
    "916b1a42b12f43ea8e02e6bef6448f94": {
     "model_module": "@jupyter-widgets/controls",
     "model_name": "DescriptionStyleModel",
     "state": {
      "_model_module": "@jupyter-widgets/controls",
      "_model_module_version": "1.5.0",
      "_model_name": "DescriptionStyleModel",
      "_view_count": null,
      "_view_module": "@jupyter-widgets/base",
      "_view_module_version": "1.2.0",
      "_view_name": "StyleView",
      "description_width": ""
     }
    },
    "94ca692ed219440397d2ff3ba4e87c38": {
     "model_module": "@jupyter-widgets/controls",
     "model_name": "ProgressStyleModel",
     "state": {
      "_model_module": "@jupyter-widgets/controls",
      "_model_module_version": "1.5.0",
      "_model_name": "ProgressStyleModel",
      "_view_count": null,
      "_view_module": "@jupyter-widgets/base",
      "_view_module_version": "1.2.0",
      "_view_name": "StyleView",
      "bar_color": null,
      "description_width": "initial"
     }
    },
    "94f70e712762475db45f5187802084c5": {
     "model_module": "@jupyter-widgets/controls",
     "model_name": "DescriptionStyleModel",
     "state": {
      "_model_module": "@jupyter-widgets/controls",
      "_model_module_version": "1.5.0",
      "_model_name": "DescriptionStyleModel",
      "_view_count": null,
      "_view_module": "@jupyter-widgets/base",
      "_view_module_version": "1.2.0",
      "_view_name": "StyleView",
      "description_width": ""
     }
    },
    "97a3b970e9b64b569f444c60dcdfa1c3": {
     "model_module": "@jupyter-widgets/controls",
     "model_name": "HBoxModel",
     "state": {
      "_dom_classes": [],
      "_model_module": "@jupyter-widgets/controls",
      "_model_module_version": "1.5.0",
      "_model_name": "HBoxModel",
      "_view_count": null,
      "_view_module": "@jupyter-widgets/controls",
      "_view_module_version": "1.5.0",
      "_view_name": "HBoxView",
      "box_style": "",
      "children": [
       "IPY_MODEL_9045438db4aa4a8dbd003cb84bc282d7",
       "IPY_MODEL_15ab748e556844618b2e54af32b597ff"
      ],
      "layout": "IPY_MODEL_66654db25a524836a672aeadb03f6a14"
     }
    },
    "98c3be04309c4c6d845f20c556874a30": {
     "model_module": "@jupyter-widgets/controls",
     "model_name": "FloatProgressModel",
     "state": {
      "_dom_classes": [],
      "_model_module": "@jupyter-widgets/controls",
      "_model_module_version": "1.5.0",
      "_model_name": "FloatProgressModel",
      "_view_count": null,
      "_view_module": "@jupyter-widgets/controls",
      "_view_module_version": "1.5.0",
      "_view_name": "ProgressView",
      "bar_style": "success",
      "description": "Dl Size...: ",
      "description_tooltip": null,
      "layout": "IPY_MODEL_2c21073cb0cb4252bef7c92591cb365b",
      "max": 1,
      "min": 0,
      "orientation": "horizontal",
      "style": "IPY_MODEL_3dfe090cde624d7bad1400050f90dd50",
      "value": 1
     }
    },
    "99420b85188c402bae4f2bdce78e1b3f": {
     "model_module": "@jupyter-widgets/controls",
     "model_name": "DescriptionStyleModel",
     "state": {
      "_model_module": "@jupyter-widgets/controls",
      "_model_module_version": "1.5.0",
      "_model_name": "DescriptionStyleModel",
      "_view_count": null,
      "_view_module": "@jupyter-widgets/base",
      "_view_module_version": "1.2.0",
      "_view_name": "StyleView",
      "description_width": ""
     }
    },
    "a0fa2f12da5a47aba5510cf9dec4d105": {
     "model_module": "@jupyter-widgets/base",
     "model_name": "LayoutModel",
     "state": {
      "_model_module": "@jupyter-widgets/base",
      "_model_module_version": "1.2.0",
      "_model_name": "LayoutModel",
      "_view_count": null,
      "_view_module": "@jupyter-widgets/base",
      "_view_module_version": "1.2.0",
      "_view_name": "LayoutView",
      "align_content": null,
      "align_items": null,
      "align_self": null,
      "border": null,
      "bottom": null,
      "display": null,
      "flex": null,
      "flex_flow": null,
      "grid_area": null,
      "grid_auto_columns": null,
      "grid_auto_flow": null,
      "grid_auto_rows": null,
      "grid_column": null,
      "grid_gap": null,
      "grid_row": null,
      "grid_template_areas": null,
      "grid_template_columns": null,
      "grid_template_rows": null,
      "height": null,
      "justify_content": null,
      "justify_items": null,
      "left": null,
      "margin": null,
      "max_height": null,
      "max_width": null,
      "min_height": null,
      "min_width": null,
      "object_fit": null,
      "object_position": null,
      "order": null,
      "overflow": null,
      "overflow_x": null,
      "overflow_y": null,
      "padding": null,
      "right": null,
      "top": null,
      "visibility": null,
      "width": null
     }
    },
    "a1fa57d9cf2d4a2da28c4f879932fd2d": {
     "model_module": "@jupyter-widgets/controls",
     "model_name": "HTMLModel",
     "state": {
      "_dom_classes": [],
      "_model_module": "@jupyter-widgets/controls",
      "_model_module_version": "1.5.0",
      "_model_name": "HTMLModel",
      "_view_count": null,
      "_view_module": "@jupyter-widgets/controls",
      "_view_module_version": "1.5.0",
      "_view_name": "HTMLView",
      "description": "",
      "description_tooltip": null,
      "layout": "IPY_MODEL_f8e91cb8e2274c53975a34adeac5557a",
      "placeholder": "​",
      "style": "IPY_MODEL_3225bc4309644f4e882cf1e8b19f323f",
      "value": " 1.39M/1.39M [00:10&lt;00:00, 135kB/s]"
     }
    },
    "a7f880f8482141a3bd665fd2823ba5a1": {
     "model_module": "@jupyter-widgets/base",
     "model_name": "LayoutModel",
     "state": {
      "_model_module": "@jupyter-widgets/base",
      "_model_module_version": "1.2.0",
      "_model_name": "LayoutModel",
      "_view_count": null,
      "_view_module": "@jupyter-widgets/base",
      "_view_module_version": "1.2.0",
      "_view_name": "LayoutView",
      "align_content": null,
      "align_items": null,
      "align_self": null,
      "border": null,
      "bottom": null,
      "display": null,
      "flex": null,
      "flex_flow": null,
      "grid_area": null,
      "grid_auto_columns": null,
      "grid_auto_flow": null,
      "grid_auto_rows": null,
      "grid_column": null,
      "grid_gap": null,
      "grid_row": null,
      "grid_template_areas": null,
      "grid_template_columns": null,
      "grid_template_rows": null,
      "height": null,
      "justify_content": null,
      "justify_items": null,
      "left": null,
      "margin": null,
      "max_height": null,
      "max_width": null,
      "min_height": null,
      "min_width": null,
      "object_fit": null,
      "object_position": null,
      "order": null,
      "overflow": null,
      "overflow_x": null,
      "overflow_y": null,
      "padding": null,
      "right": null,
      "top": null,
      "visibility": null,
      "width": null
     }
    },
    "aa5356d3f84c45119468a1843a87d797": {
     "model_module": "@jupyter-widgets/controls",
     "model_name": "FloatProgressModel",
     "state": {
      "_dom_classes": [],
      "_model_module": "@jupyter-widgets/controls",
      "_model_module_version": "1.5.0",
      "_model_name": "FloatProgressModel",
      "_view_count": null,
      "_view_module": "@jupyter-widgets/controls",
      "_view_module_version": "1.5.0",
      "_view_name": "ProgressView",
      "bar_style": "success",
      "description": "Dl Completed...: 100%",
      "description_tooltip": null,
      "layout": "IPY_MODEL_388d04d124964843bff6ad634d501adf",
      "max": 1,
      "min": 0,
      "orientation": "horizontal",
      "style": "IPY_MODEL_42e6e244db45473ebb77ace1b47b77f7",
      "value": 1
     }
    },
    "aab82b8b9d394f839273409e0c46f17e": {
     "model_module": "@jupyter-widgets/controls",
     "model_name": "HTMLModel",
     "state": {
      "_dom_classes": [],
      "_model_module": "@jupyter-widgets/controls",
      "_model_module_version": "1.5.0",
      "_model_name": "HTMLModel",
      "_view_count": null,
      "_view_module": "@jupyter-widgets/controls",
      "_view_module_version": "1.5.0",
      "_view_name": "HTMLView",
      "description": "",
      "description_tooltip": null,
      "layout": "IPY_MODEL_fc993b36cb994a70baa6ca7a19ff2ef4",
      "placeholder": "​",
      "style": "IPY_MODEL_590cab8cabd742fabd2ace382822a8a4",
      "value": " 13368/0 [00:08&lt;00:00, 1651.09 examples/s]"
     }
    },
    "add62a8853e74473a9b8756e70b6e8a3": {
     "model_module": "@jupyter-widgets/controls",
     "model_name": "DescriptionStyleModel",
     "state": {
      "_model_module": "@jupyter-widgets/controls",
      "_model_module_version": "1.5.0",
      "_model_name": "DescriptionStyleModel",
      "_view_count": null,
      "_view_module": "@jupyter-widgets/base",
      "_view_module_version": "1.2.0",
      "_view_name": "StyleView",
      "description_width": ""
     }
    },
    "b02dbc4335e94d5aa6f329c161fbf4dd": {
     "model_module": "@jupyter-widgets/controls",
     "model_name": "FloatProgressModel",
     "state": {
      "_dom_classes": [],
      "_model_module": "@jupyter-widgets/controls",
      "_model_module_version": "1.5.0",
      "_model_name": "FloatProgressModel",
      "_view_count": null,
      "_view_module": "@jupyter-widgets/controls",
      "_view_module_version": "1.5.0",
      "_view_name": "ProgressView",
      "bar_style": "success",
      "description": "Downloading: 100%",
      "description_tooltip": null,
      "layout": "IPY_MODEL_69f9563695804deaa1cb9485c6fffa43",
      "max": 242303832,
      "min": 0,
      "orientation": "horizontal",
      "style": "IPY_MODEL_b60937ab85dd450f9a089e04c83b6aea",
      "value": 242303832
     }
    },
    "b145d4dbd0f548fea096d4cbb96d8449": {
     "model_module": "@jupyter-widgets/controls",
     "model_name": "FloatProgressModel",
     "state": {
      "_dom_classes": [],
      "_model_module": "@jupyter-widgets/controls",
      "_model_module_version": "1.5.0",
      "_model_name": "FloatProgressModel",
      "_view_count": null,
      "_view_module": "@jupyter-widgets/controls",
      "_view_module_version": "1.5.0",
      "_view_name": "ProgressView",
      "bar_style": "success",
      "description": "Extraction completed...: 100%",
      "description_tooltip": null,
      "layout": "IPY_MODEL_3a3c34de05254b6b971b705cf0e18de9",
      "max": 1,
      "min": 0,
      "orientation": "horizontal",
      "style": "IPY_MODEL_797153e79e3c484e9e0b49a72ce8dbcc",
      "value": 1
     }
    },
    "b18a44e853e44109bfe7c35fdae1f326": {
     "model_module": "@jupyter-widgets/base",
     "model_name": "LayoutModel",
     "state": {
      "_model_module": "@jupyter-widgets/base",
      "_model_module_version": "1.2.0",
      "_model_name": "LayoutModel",
      "_view_count": null,
      "_view_module": "@jupyter-widgets/base",
      "_view_module_version": "1.2.0",
      "_view_name": "LayoutView",
      "align_content": null,
      "align_items": null,
      "align_self": null,
      "border": null,
      "bottom": null,
      "display": null,
      "flex": null,
      "flex_flow": null,
      "grid_area": null,
      "grid_auto_columns": null,
      "grid_auto_flow": null,
      "grid_auto_rows": null,
      "grid_column": null,
      "grid_gap": null,
      "grid_row": null,
      "grid_template_areas": null,
      "grid_template_columns": null,
      "grid_template_rows": null,
      "height": null,
      "justify_content": null,
      "justify_items": null,
      "left": null,
      "margin": null,
      "max_height": null,
      "max_width": null,
      "min_height": null,
      "min_width": null,
      "object_fit": null,
      "object_position": null,
      "order": null,
      "overflow": null,
      "overflow_x": null,
      "overflow_y": null,
      "padding": null,
      "right": null,
      "top": null,
      "visibility": null,
      "width": null
     }
    },
    "b1a774f14ff946aa957df737c972f4b8": {
     "model_module": "@jupyter-widgets/controls",
     "model_name": "DescriptionStyleModel",
     "state": {
      "_model_module": "@jupyter-widgets/controls",
      "_model_module_version": "1.5.0",
      "_model_name": "DescriptionStyleModel",
      "_view_count": null,
      "_view_module": "@jupyter-widgets/base",
      "_view_module_version": "1.2.0",
      "_view_name": "StyleView",
      "description_width": ""
     }
    },
    "b225f07924ae4b43a32980172d2de6a8": {
     "model_module": "@jupyter-widgets/controls",
     "model_name": "HTMLModel",
     "state": {
      "_dom_classes": [],
      "_model_module": "@jupyter-widgets/controls",
      "_model_module_version": "1.5.0",
      "_model_name": "HTMLModel",
      "_view_count": null,
      "_view_module": "@jupyter-widgets/controls",
      "_view_module_version": "1.5.0",
      "_view_name": "HTMLView",
      "description": "",
      "description_tooltip": null,
      "layout": "IPY_MODEL_ee3ac8394ab7456a809d053a887fa1c6",
      "placeholder": "​",
      "style": "IPY_MODEL_09bbc05227344c31b7e4f6b945e12d3a",
      "value": " 284076/287113 [00:06&lt;00:00, 43639.21 examples/s]"
     }
    },
    "b2f76e5040ce45bb88d3cc731d96706f": {
     "model_module": "@jupyter-widgets/base",
     "model_name": "LayoutModel",
     "state": {
      "_model_module": "@jupyter-widgets/base",
      "_model_module_version": "1.2.0",
      "_model_name": "LayoutModel",
      "_view_count": null,
      "_view_module": "@jupyter-widgets/base",
      "_view_module_version": "1.2.0",
      "_view_name": "LayoutView",
      "align_content": null,
      "align_items": null,
      "align_self": null,
      "border": null,
      "bottom": null,
      "display": null,
      "flex": null,
      "flex_flow": null,
      "grid_area": null,
      "grid_auto_columns": null,
      "grid_auto_flow": null,
      "grid_auto_rows": null,
      "grid_column": null,
      "grid_gap": null,
      "grid_row": null,
      "grid_template_areas": null,
      "grid_template_columns": null,
      "grid_template_rows": null,
      "height": null,
      "justify_content": null,
      "justify_items": null,
      "left": null,
      "margin": null,
      "max_height": null,
      "max_width": null,
      "min_height": null,
      "min_width": null,
      "object_fit": null,
      "object_position": null,
      "order": null,
      "overflow": null,
      "overflow_x": null,
      "overflow_y": null,
      "padding": null,
      "right": null,
      "top": null,
      "visibility": null,
      "width": null
     }
    },
    "b60937ab85dd450f9a089e04c83b6aea": {
     "model_module": "@jupyter-widgets/controls",
     "model_name": "ProgressStyleModel",
     "state": {
      "_model_module": "@jupyter-widgets/controls",
      "_model_module_version": "1.5.0",
      "_model_name": "ProgressStyleModel",
      "_view_count": null,
      "_view_module": "@jupyter-widgets/base",
      "_view_module_version": "1.2.0",
      "_view_name": "StyleView",
      "bar_color": null,
      "description_width": "initial"
     }
    },
    "bc70e8ff9a844c329f5d23d55ecb2d6e": {
     "model_module": "@jupyter-widgets/controls",
     "model_name": "HTMLModel",
     "state": {
      "_dom_classes": [],
      "_model_module": "@jupyter-widgets/controls",
      "_model_module_version": "1.5.0",
      "_model_name": "HTMLModel",
      "_view_count": null,
      "_view_module": "@jupyter-widgets/controls",
      "_view_module_version": "1.5.0",
      "_view_name": "HTMLView",
      "description": "",
      "description_tooltip": null,
      "layout": "IPY_MODEL_2bc68a4e4a064ba4b3cf336e70d8597a",
      "placeholder": "​",
      "style": "IPY_MODEL_916b1a42b12f43ea8e02e6bef6448f94",
      "value": " 557/? [01:27&lt;00:00,  6.39 MiB/s]"
     }
    },
    "be4bec3bd9de4f50a46352f3c56c84cb": {
     "model_module": "@jupyter-widgets/base",
     "model_name": "LayoutModel",
     "state": {
      "_model_module": "@jupyter-widgets/base",
      "_model_module_version": "1.2.0",
      "_model_name": "LayoutModel",
      "_view_count": null,
      "_view_module": "@jupyter-widgets/base",
      "_view_module_version": "1.2.0",
      "_view_name": "LayoutView",
      "align_content": null,
      "align_items": null,
      "align_self": null,
      "border": null,
      "bottom": null,
      "display": null,
      "flex": null,
      "flex_flow": null,
      "grid_area": null,
      "grid_auto_columns": null,
      "grid_auto_flow": null,
      "grid_auto_rows": null,
      "grid_column": null,
      "grid_gap": null,
      "grid_row": null,
      "grid_template_areas": null,
      "grid_template_columns": null,
      "grid_template_rows": null,
      "height": null,
      "justify_content": null,
      "justify_items": null,
      "left": null,
      "margin": null,
      "max_height": null,
      "max_width": null,
      "min_height": null,
      "min_width": null,
      "object_fit": null,
      "object_position": null,
      "order": null,
      "overflow": null,
      "overflow_x": null,
      "overflow_y": null,
      "padding": null,
      "right": null,
      "top": null,
      "visibility": null,
      "width": null
     }
    },
    "be6a3523e87e4207bad9070fbbd81e36": {
     "model_module": "@jupyter-widgets/controls",
     "model_name": "FloatProgressModel",
     "state": {
      "_dom_classes": [],
      "_model_module": "@jupyter-widgets/controls",
      "_model_module_version": "1.5.0",
      "_model_name": "FloatProgressModel",
      "_view_count": null,
      "_view_module": "@jupyter-widgets/controls",
      "_view_module_version": "1.5.0",
      "_view_name": "ProgressView",
      "bar_style": "danger",
      "description": " 73%",
      "description_tooltip": null,
      "layout": "IPY_MODEL_19b44beb044c482c88a99438317e795f",
      "max": 11490,
      "min": 0,
      "orientation": "horizontal",
      "style": "IPY_MODEL_80116033fb594e439ea1f5fa1da3184c",
      "value": 8408
     }
    },
    "c1bb2b62611543a9bedc240521910f13": {
     "model_module": "@jupyter-widgets/controls",
     "model_name": "HBoxModel",
     "state": {
      "_dom_classes": [],
      "_model_module": "@jupyter-widgets/controls",
      "_model_module_version": "1.5.0",
      "_model_name": "HBoxModel",
      "_view_count": null,
      "_view_module": "@jupyter-widgets/controls",
      "_view_module_version": "1.5.0",
      "_view_name": "HBoxView",
      "box_style": "",
      "children": [
       "IPY_MODEL_aa5356d3f84c45119468a1843a87d797",
       "IPY_MODEL_8963f51fc3b442bea3c54f333f3ecd59"
      ],
      "layout": "IPY_MODEL_14060049644048b88977c85bc1ba2aa5"
     }
    },
    "c8285070c3f44e0ab9e0ebf4c8042b19": {
     "model_module": "@jupyter-widgets/controls",
     "model_name": "FloatProgressModel",
     "state": {
      "_dom_classes": [],
      "_model_module": "@jupyter-widgets/controls",
      "_model_module_version": "1.5.0",
      "_model_name": "FloatProgressModel",
      "_view_count": null,
      "_view_module": "@jupyter-widgets/controls",
      "_view_module_version": "1.5.0",
      "_view_name": "ProgressView",
      "bar_style": "success",
      "description": "Downloading: 100%",
      "description_tooltip": null,
      "layout": "IPY_MODEL_b18a44e853e44109bfe7c35fdae1f326",
      "max": 1389353,
      "min": 0,
      "orientation": "horizontal",
      "style": "IPY_MODEL_94ca692ed219440397d2ff3ba4e87c38",
      "value": 1389353
     }
    },
    "cf4d7aabf6a34b808241a22b9607b160": {
     "model_module": "@jupyter-widgets/controls",
     "model_name": "DescriptionStyleModel",
     "state": {
      "_model_module": "@jupyter-widgets/controls",
      "_model_module_version": "1.5.0",
      "_model_name": "DescriptionStyleModel",
      "_view_count": null,
      "_view_module": "@jupyter-widgets/base",
      "_view_module_version": "1.2.0",
      "_view_name": "StyleView",
      "description_width": ""
     }
    },
    "cfc1a5b878dd4ea8ba3b0270617a77a7": {
     "model_module": "@jupyter-widgets/base",
     "model_name": "LayoutModel",
     "state": {
      "_model_module": "@jupyter-widgets/base",
      "_model_module_version": "1.2.0",
      "_model_name": "LayoutModel",
      "_view_count": null,
      "_view_module": "@jupyter-widgets/base",
      "_view_module_version": "1.2.0",
      "_view_name": "LayoutView",
      "align_content": null,
      "align_items": null,
      "align_self": null,
      "border": null,
      "bottom": null,
      "display": null,
      "flex": null,
      "flex_flow": null,
      "grid_area": null,
      "grid_auto_columns": null,
      "grid_auto_flow": null,
      "grid_auto_rows": null,
      "grid_column": null,
      "grid_gap": null,
      "grid_row": null,
      "grid_template_areas": null,
      "grid_template_columns": null,
      "grid_template_rows": null,
      "height": null,
      "justify_content": null,
      "justify_items": null,
      "left": null,
      "margin": null,
      "max_height": null,
      "max_width": null,
      "min_height": null,
      "min_width": null,
      "object_fit": null,
      "object_position": null,
      "order": null,
      "overflow": null,
      "overflow_x": null,
      "overflow_y": null,
      "padding": null,
      "right": null,
      "top": null,
      "visibility": null,
      "width": null
     }
    },
    "d314cc59b2db462b84af90eb80aa3ca7": {
     "model_module": "@jupyter-widgets/controls",
     "model_name": "HBoxModel",
     "state": {
      "_dom_classes": [],
      "_model_module": "@jupyter-widgets/controls",
      "_model_module_version": "1.5.0",
      "_model_name": "HBoxModel",
      "_view_count": null,
      "_view_module": "@jupyter-widgets/controls",
      "_view_module_version": "1.5.0",
      "_view_name": "HBoxView",
      "box_style": "",
      "children": [
       "IPY_MODEL_be6a3523e87e4207bad9070fbbd81e36",
       "IPY_MODEL_eeaf7eaa8075444fabbc2f91d2b9f04a"
      ],
      "layout": "IPY_MODEL_b2f76e5040ce45bb88d3cc731d96706f"
     }
    },
    "d4fb3d08e95941c1b1b54330eecb65e6": {
     "model_module": "@jupyter-widgets/base",
     "model_name": "LayoutModel",
     "state": {
      "_model_module": "@jupyter-widgets/base",
      "_model_module_version": "1.2.0",
      "_model_name": "LayoutModel",
      "_view_count": null,
      "_view_module": "@jupyter-widgets/base",
      "_view_module_version": "1.2.0",
      "_view_name": "LayoutView",
      "align_content": null,
      "align_items": null,
      "align_self": null,
      "border": null,
      "bottom": null,
      "display": null,
      "flex": null,
      "flex_flow": null,
      "grid_area": null,
      "grid_auto_columns": null,
      "grid_auto_flow": null,
      "grid_auto_rows": null,
      "grid_column": null,
      "grid_gap": null,
      "grid_row": null,
      "grid_template_areas": null,
      "grid_template_columns": null,
      "grid_template_rows": null,
      "height": null,
      "justify_content": null,
      "justify_items": null,
      "left": null,
      "margin": null,
      "max_height": null,
      "max_width": null,
      "min_height": null,
      "min_width": null,
      "object_fit": null,
      "object_position": null,
      "order": null,
      "overflow": null,
      "overflow_x": null,
      "overflow_y": null,
      "padding": null,
      "right": null,
      "top": null,
      "visibility": null,
      "width": null
     }
    },
    "db452c34577c4245855c84b398113b91": {
     "model_module": "@jupyter-widgets/controls",
     "model_name": "DescriptionStyleModel",
     "state": {
      "_model_module": "@jupyter-widgets/controls",
      "_model_module_version": "1.5.0",
      "_model_name": "DescriptionStyleModel",
      "_view_count": null,
      "_view_module": "@jupyter-widgets/base",
      "_view_module_version": "1.2.0",
      "_view_name": "StyleView",
      "description_width": ""
     }
    },
    "ddc3d5b276e849d2915da50dfa2c8dbb": {
     "model_module": "@jupyter-widgets/base",
     "model_name": "LayoutModel",
     "state": {
      "_model_module": "@jupyter-widgets/base",
      "_model_module_version": "1.2.0",
      "_model_name": "LayoutModel",
      "_view_count": null,
      "_view_module": "@jupyter-widgets/base",
      "_view_module_version": "1.2.0",
      "_view_name": "LayoutView",
      "align_content": null,
      "align_items": null,
      "align_self": null,
      "border": null,
      "bottom": null,
      "display": null,
      "flex": null,
      "flex_flow": null,
      "grid_area": null,
      "grid_auto_columns": null,
      "grid_auto_flow": null,
      "grid_auto_rows": null,
      "grid_column": null,
      "grid_gap": null,
      "grid_row": null,
      "grid_template_areas": null,
      "grid_template_columns": null,
      "grid_template_rows": null,
      "height": null,
      "justify_content": null,
      "justify_items": null,
      "left": null,
      "margin": null,
      "max_height": null,
      "max_width": null,
      "min_height": null,
      "min_width": null,
      "object_fit": null,
      "object_position": null,
      "order": null,
      "overflow": null,
      "overflow_x": null,
      "overflow_y": null,
      "padding": null,
      "right": null,
      "top": null,
      "visibility": null,
      "width": null
     }
    },
    "e0ba0ef95afb429d8aac4366cb506ac2": {
     "model_module": "@jupyter-widgets/controls",
     "model_name": "HTMLModel",
     "state": {
      "_dom_classes": [],
      "_model_module": "@jupyter-widgets/controls",
      "_model_module_version": "1.5.0",
      "_model_name": "HTMLModel",
      "_view_count": null,
      "_view_module": "@jupyter-widgets/controls",
      "_view_module_version": "1.5.0",
      "_view_name": "HTMLView",
      "description": "",
      "description_tooltip": null,
      "layout": "IPY_MODEL_e1d3c220893c4a70bb5d53475d779094",
      "placeholder": "​",
      "style": "IPY_MODEL_69409b96a10240a99237f8e80cb59b7f",
      "value": " 1.20k/1.20k [00:00&lt;00:00, 4.00kB/s]"
     }
    },
    "e1d3c220893c4a70bb5d53475d779094": {
     "model_module": "@jupyter-widgets/base",
     "model_name": "LayoutModel",
     "state": {
      "_model_module": "@jupyter-widgets/base",
      "_model_module_version": "1.2.0",
      "_model_name": "LayoutModel",
      "_view_count": null,
      "_view_module": "@jupyter-widgets/base",
      "_view_module_version": "1.2.0",
      "_view_name": "LayoutView",
      "align_content": null,
      "align_items": null,
      "align_self": null,
      "border": null,
      "bottom": null,
      "display": null,
      "flex": null,
      "flex_flow": null,
      "grid_area": null,
      "grid_auto_columns": null,
      "grid_auto_flow": null,
      "grid_auto_rows": null,
      "grid_column": null,
      "grid_gap": null,
      "grid_row": null,
      "grid_template_areas": null,
      "grid_template_columns": null,
      "grid_template_rows": null,
      "height": null,
      "justify_content": null,
      "justify_items": null,
      "left": null,
      "margin": null,
      "max_height": null,
      "max_width": null,
      "min_height": null,
      "min_width": null,
      "object_fit": null,
      "object_position": null,
      "order": null,
      "overflow": null,
      "overflow_x": null,
      "overflow_y": null,
      "padding": null,
      "right": null,
      "top": null,
      "visibility": null,
      "width": null
     }
    },
    "e5615b636bbe412685b430dc260354c2": {
     "model_module": "@jupyter-widgets/controls",
     "model_name": "HBoxModel",
     "state": {
      "_dom_classes": [],
      "_model_module": "@jupyter-widgets/controls",
      "_model_module_version": "1.5.0",
      "_model_name": "HBoxModel",
      "_view_count": null,
      "_view_module": "@jupyter-widgets/controls",
      "_view_module_version": "1.5.0",
      "_view_name": "HBoxView",
      "box_style": "",
      "children": [
       "IPY_MODEL_b02dbc4335e94d5aa6f329c161fbf4dd",
       "IPY_MODEL_4e3f197beb8a4ef8ba05d45611e5bb1b"
      ],
      "layout": "IPY_MODEL_ddc3d5b276e849d2915da50dfa2c8dbb"
     }
    },
    "ee3ac8394ab7456a809d053a887fa1c6": {
     "model_module": "@jupyter-widgets/base",
     "model_name": "LayoutModel",
     "state": {
      "_model_module": "@jupyter-widgets/base",
      "_model_module_version": "1.2.0",
      "_model_name": "LayoutModel",
      "_view_count": null,
      "_view_module": "@jupyter-widgets/base",
      "_view_module_version": "1.2.0",
      "_view_name": "LayoutView",
      "align_content": null,
      "align_items": null,
      "align_self": null,
      "border": null,
      "bottom": null,
      "display": null,
      "flex": null,
      "flex_flow": null,
      "grid_area": null,
      "grid_auto_columns": null,
      "grid_auto_flow": null,
      "grid_auto_rows": null,
      "grid_column": null,
      "grid_gap": null,
      "grid_row": null,
      "grid_template_areas": null,
      "grid_template_columns": null,
      "grid_template_rows": null,
      "height": null,
      "justify_content": null,
      "justify_items": null,
      "left": null,
      "margin": null,
      "max_height": null,
      "max_width": null,
      "min_height": null,
      "min_width": null,
      "object_fit": null,
      "object_position": null,
      "order": null,
      "overflow": null,
      "overflow_x": null,
      "overflow_y": null,
      "padding": null,
      "right": null,
      "top": null,
      "visibility": null,
      "width": null
     }
    },
    "eeaf7eaa8075444fabbc2f91d2b9f04a": {
     "model_module": "@jupyter-widgets/controls",
     "model_name": "HTMLModel",
     "state": {
      "_dom_classes": [],
      "_model_module": "@jupyter-widgets/controls",
      "_model_module_version": "1.5.0",
      "_model_name": "HTMLModel",
      "_view_count": null,
      "_view_module": "@jupyter-widgets/controls",
      "_view_module_version": "1.5.0",
      "_view_name": "HTMLView",
      "description": "",
      "description_tooltip": null,
      "layout": "IPY_MODEL_4cee38f9863f400b8a8aa1d77097ecf5",
      "placeholder": "​",
      "style": "IPY_MODEL_add62a8853e74473a9b8756e70b6e8a3",
      "value": " 8408/11490 [00:00&lt;00:00, 84076.67 examples/s]"
     }
    },
    "ef1d2269503b4c66a3cc05e69e5f82fc": {
     "model_module": "@jupyter-widgets/base",
     "model_name": "LayoutModel",
     "state": {
      "_model_module": "@jupyter-widgets/base",
      "_model_module_version": "1.2.0",
      "_model_name": "LayoutModel",
      "_view_count": null,
      "_view_module": "@jupyter-widgets/base",
      "_view_module_version": "1.2.0",
      "_view_name": "LayoutView",
      "align_content": null,
      "align_items": null,
      "align_self": null,
      "border": null,
      "bottom": null,
      "display": null,
      "flex": null,
      "flex_flow": null,
      "grid_area": null,
      "grid_auto_columns": null,
      "grid_auto_flow": null,
      "grid_auto_rows": null,
      "grid_column": null,
      "grid_gap": null,
      "grid_row": null,
      "grid_template_areas": null,
      "grid_template_columns": null,
      "grid_template_rows": null,
      "height": null,
      "justify_content": null,
      "justify_items": null,
      "left": null,
      "margin": null,
      "max_height": null,
      "max_width": null,
      "min_height": null,
      "min_width": null,
      "object_fit": null,
      "object_position": null,
      "order": null,
      "overflow": null,
      "overflow_x": null,
      "overflow_y": null,
      "padding": null,
      "right": null,
      "top": null,
      "visibility": null,
      "width": null
     }
    },
    "f7ebd1d11e9b431288f47692a80cc4a8": {
     "model_module": "@jupyter-widgets/controls",
     "model_name": "DescriptionStyleModel",
     "state": {
      "_model_module": "@jupyter-widgets/controls",
      "_model_module_version": "1.5.0",
      "_model_name": "DescriptionStyleModel",
      "_view_count": null,
      "_view_module": "@jupyter-widgets/base",
      "_view_module_version": "1.2.0",
      "_view_name": "StyleView",
      "description_width": ""
     }
    },
    "f8e91cb8e2274c53975a34adeac5557a": {
     "model_module": "@jupyter-widgets/base",
     "model_name": "LayoutModel",
     "state": {
      "_model_module": "@jupyter-widgets/base",
      "_model_module_version": "1.2.0",
      "_model_name": "LayoutModel",
      "_view_count": null,
      "_view_module": "@jupyter-widgets/base",
      "_view_module_version": "1.2.0",
      "_view_name": "LayoutView",
      "align_content": null,
      "align_items": null,
      "align_self": null,
      "border": null,
      "bottom": null,
      "display": null,
      "flex": null,
      "flex_flow": null,
      "grid_area": null,
      "grid_auto_columns": null,
      "grid_auto_flow": null,
      "grid_auto_rows": null,
      "grid_column": null,
      "grid_gap": null,
      "grid_row": null,
      "grid_template_areas": null,
      "grid_template_columns": null,
      "grid_template_rows": null,
      "height": null,
      "justify_content": null,
      "justify_items": null,
      "left": null,
      "margin": null,
      "max_height": null,
      "max_width": null,
      "min_height": null,
      "min_width": null,
      "object_fit": null,
      "object_position": null,
      "order": null,
      "overflow": null,
      "overflow_x": null,
      "overflow_y": null,
      "padding": null,
      "right": null,
      "top": null,
      "visibility": null,
      "width": null
     }
    },
    "fc993b36cb994a70baa6ca7a19ff2ef4": {
     "model_module": "@jupyter-widgets/base",
     "model_name": "LayoutModel",
     "state": {
      "_model_module": "@jupyter-widgets/base",
      "_model_module_version": "1.2.0",
      "_model_name": "LayoutModel",
      "_view_count": null,
      "_view_module": "@jupyter-widgets/base",
      "_view_module_version": "1.2.0",
      "_view_name": "LayoutView",
      "align_content": null,
      "align_items": null,
      "align_self": null,
      "border": null,
      "bottom": null,
      "display": null,
      "flex": null,
      "flex_flow": null,
      "grid_area": null,
      "grid_auto_columns": null,
      "grid_auto_flow": null,
      "grid_auto_rows": null,
      "grid_column": null,
      "grid_gap": null,
      "grid_row": null,
      "grid_template_areas": null,
      "grid_template_columns": null,
      "grid_template_rows": null,
      "height": null,
      "justify_content": null,
      "justify_items": null,
      "left": null,
      "margin": null,
      "max_height": null,
      "max_width": null,
      "min_height": null,
      "min_width": null,
      "object_fit": null,
      "object_position": null,
      "order": null,
      "overflow": null,
      "overflow_x": null,
      "overflow_y": null,
      "padding": null,
      "right": null,
      "top": null,
      "visibility": null,
      "width": null
     }
    },
    "fd8732d45f2c4422ad12e662c9670589": {
     "model_module": "@jupyter-widgets/controls",
     "model_name": "ProgressStyleModel",
     "state": {
      "_model_module": "@jupyter-widgets/controls",
      "_model_module_version": "1.5.0",
      "_model_name": "ProgressStyleModel",
      "_view_count": null,
      "_view_module": "@jupyter-widgets/base",
      "_view_module_version": "1.2.0",
      "_view_name": "StyleView",
      "bar_color": null,
      "description_width": "initial"
     }
    }
   }
  }
 },
 "nbformat": 4,
 "nbformat_minor": 1
}
