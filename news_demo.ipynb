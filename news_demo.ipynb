{
 "cells": [
  {
   "cell_type": "code",
   "execution_count": 1,
   "metadata": {},
   "outputs": [],
   "source": [
    "from transformers import T5Tokenizer, TFT5Model, TFT5ForConditionalGeneration\n",
    "import pandas as pd\n",
    "import re\n",
    "import numpy as np"
   ]
  },
  {
   "cell_type": "code",
   "execution_count": 2,
   "metadata": {},
   "outputs": [
    {
     "name": "stderr",
     "output_type": "stream",
     "text": [
      "All model checkpoint layers were used when initializing TFT5ForConditionalGeneration.\n",
      "\n",
      "All the layers of TFT5ForConditionalGeneration were initialized from the model checkpoint at summarisation_model.\n",
      "If your task is similar to the task the model of the checkpoint was trained on, you can already use TFT5ForConditionalGeneration for predictions without further training.\n"
     ]
    }
   ],
   "source": [
    "tokenizer = T5Tokenizer.from_pretrained('summarisation_tokeniser')\n",
    "model = TFT5ForConditionalGeneration.from_pretrained('summarisation_model')"
   ]
  },
  {
   "cell_type": "code",
   "execution_count": 3,
   "metadata": {},
   "outputs": [],
   "source": [
    "def decontracted(phrase):\n",
    "    # specific\n",
    "    phrase = re.sub(r\"won't\", \"will not\", phrase)\n",
    "    phrase = re.sub(r\"can\\'t\", \"can not\", phrase)\n",
    "    # general\n",
    "    phrase = re.sub(r\"n\\'t\", \" not\", phrase)\n",
    "    phrase = re.sub(r\"\\'re\", \" are\", phrase)\n",
    "    phrase = re.sub(r\"\\'s\", \" is\", phrase)\n",
    "    phrase = re.sub(r\"\\'d\", \" would\", phrase)\n",
    "    phrase = re.sub(r\"\\'ll\", \" will\", phrase)\n",
    "    phrase = re.sub(r\"\\'t\", \" not\", phrase)\n",
    "    phrase = re.sub(r\"\\'ve\", \" have\", phrase)\n",
    "    phrase = re.sub(r\"\\'m\", \" am\", phrase)\n",
    "    return phrase"
   ]
  },
  {
   "cell_type": "code",
   "execution_count": 4,
   "metadata": {},
   "outputs": [],
   "source": [
    "def cleanText(article):\n",
    "    tt=re.sub(r'\\n',' ',article)\n",
    "    tt=re.sub(r'>',' ', tt)\n",
    "    tt=re.sub(r'<',' ', tt)\n",
    "    tt=re.sub(r'(CNN)',' ', tt)\n",
    "    tt=re.sub(r'LRB',' ', tt)\n",
    "    tt=re.sub(r'RRB',' ', tt)\n",
    "    tt = re.sub(r'[\" \"]+', \" \", tt)\n",
    "    tt=re.sub(r'-- ',' ', tt)\n",
    "    tt=re.sub(r\"([?!¿])\", r\" \\1 \", tt)\n",
    "    tt=re.sub(r'-',' ', tt)\n",
    "    tt=tt.replace('/',' ')\n",
    "    tt=re.sub(r'\\s+', ' ', tt)\n",
    "    tt=decontracted(tt)\n",
    "    tt = re.sub('[^A-Za-z0-9.,]+', ' ', tt)\n",
    "    tt = tt.lower()\n",
    "    return tt"
   ]
  },
  {
   "cell_type": "code",
   "execution_count": 5,
   "metadata": {},
   "outputs": [],
   "source": [
    "def summarize(article):\n",
    "    ids =tokenizer.encode_plus((model.config.prefix + article), return_tensors=\"tf\", max_length=512)\n",
    "    sum = model.generate(input_ids=ids['input_ids'], attention_mask=ids['attention_mask'],min_length=100)\n",
    "    pred = [tokenizer.decode(g, skip_special_tokens=True, clean_up_tokenization_spaces=False) for g in sum]\n",
    "    return ' '.join(pred)"
   ]
  },
  {
   "cell_type": "code",
   "execution_count": 6,
   "metadata": {},
   "outputs": [],
   "source": [
    "def returnSummary(article):\n",
    "    result =decontracted(article)\n",
    "    return summarize(cleanText(result))"
   ]
  },
  {
   "cell_type": "code",
   "execution_count": 7,
   "metadata": {},
   "outputs": [],
   "source": [
    "samp=\"usain bolt rounded off the world championships sunday by claiming his third gold in moscow as he anchored jamaica to victory in the men is 4x100m relay. the fastest man in the world charged clear of united states rival justin gatlin as the jamaican quartet of nesta carter, kemar bailey cole, nickel ashmeade and bolt won in 37.36 seconds. the u.s finished second in 37.56 seconds with canada taking the bronze after britain were disqualified for a faulty handover. the 26 year old bolt has now collected eight gold medals at world championships, equaling the record held by american trio carl lewis, michael johnson and allyson felix, not to mention the small matter of six olympic titles. the relay triumph followed individual successes in the 100 and 200 meters in the russian capital. i am proud of myself and i will continue to work to dominate for as long as possible, bolt said, having previously expressed his intention to carry on until the 2016 rio olympics. victory was never seriously in doubt once he got the baton safely in hand from ashmeade, while gatlin and the united states third leg runner rakieem salaam had problems. gatlin strayed out of his lane as he struggled to get full control of their baton and was never able to get on terms with bolt. earlier, jamaica is women underlined their dominance in the sprint events by winning the 4x100m relay gold, anchored by shelly ann fraser pryce, who like bolt was completing a triple. their quartet recorded a championship record of 41.29 seconds, well clear of france, who crossed the line in second place in 42.73 seconds. defending champions, the united states, were initially back in the bronze medal position after losing time on the second handover between alexandria anderson and english gardner, but promoted to silver when france were subsequently disqualified for an illegal handover. the british quartet, who were initially fourth, were promoted to the bronze which eluded their men is team. fraser pryce, like bolt aged 26, became the first woman to achieve three golds in the 100 200 and the relay. in other final action on the last day of the championships, france is teddy tamgho became the third man to leap over 18m in the triple jump, exceeding the mark by four centimeters to take gold. germany is christina obergfoll finally took gold at global level in the women is javelin after five previous silvers, while kenya is asbel kiprop easily won a tactical men is 1500m final. kiprop is compatriot eunice jepkoech sum was a surprise winner of the women is 800m. bolt is final dash for golden glory brought the eight day championship to a rousing finale, but while the hosts topped the medal table from the united states there was criticism of the poor attendances in the luzhniki stadium. there was further concern when their pole vault gold medalist yelena isinbayeva made controversial remarks in support of russia is new laws, which make the propagandizing of non traditional sexual relations among minors a criminal offense. she later attempted to clarify her comments, but there were renewed calls by gay rights groups for a boycott of the 2014 winter games in sochi, the next major sports event in russia\""
   ]
  },
  {
   "cell_type": "code",
   "execution_count": 8,
   "metadata": {},
   "outputs": [
    {
     "name": "stderr",
     "output_type": "stream",
     "text": [
      "Truncation was not explicitly activated but `max_length` is provided a specific value, please use `truncation=True` to explicitly truncate examples to max length. Defaulting to 'longest_first' truncation strategy. If you encode pairs of sequences (GLUE-style) with the tokenizer you can select this strategy more precisely by providing a specific strategy to `truncation`.\n"
     ]
    },
    {
     "data": {
      "text/plain": [
       "'Englishman anchored jamaica to victory in the men is 4x100m relay gold in moscow . u.s finished second in 37.56 seconds with canada taking bronze . bolt has now collected eight gold medals at world championships . the 26-year-old has previously expressed his intention to continue until 2016 rio olympic games . jamaican quartet of nesta carter, kemar bailey cole, nickel ashmeade and bolt won gold .'"
      ]
     },
     "execution_count": 8,
     "metadata": {},
     "output_type": "execute_result"
    }
   ],
   "source": [
    "returnSummary(samp)"
   ]
  },
  {
   "cell_type": "code",
   "execution_count": 9,
   "metadata": {},
   "outputs": [],
   "source": [
    "cnn=\"\"\"Tesla's \"full self-driving\" feature has attempted to drive under a railroad crossing arm while a speeding train passes. It's nearly driven head on into a concrete wall of a parking garage, attempted ill-advised left turns, clipped at least one curb, and at least one driver was able to set a maximum speed of 90 mph on a street where the posted speed limit was 35 mph, according to videos posted on social media.\n",
    "These drivers knew they weren't using a foolproof system, and that there would be glitches as they had agreed to test early versions of the regularly updating \"full self-driving\" software for Tesla. The company warned them of limitations, and their need to be attentive.\n",
    "Experts worry that the name of the feature implies a greater functionality than what Tesla is actually offering. But the risks of \"full self-driving\" don't appear to be holding Tesla back from a broad beta release of the feature. Tesla is preparing a wide rollout even as some of the Tesla loyalists testing the feature raise concerns about what will come next.\n",
    "Some Tesla enthusiasts spoke out even before two people were killed in a Tesla over the weekend when it crashed into some trees. Police said that one occupant had been in the front passenger seat, and the other had been in one of the rear seats. There was no one in the driver's seat, the police said. The National Highway Traffic Safety Administration said Monday that is investigating the crash.\n",
    "Two people died in a Tesla crash in Spring, Texas, over the weekend.\n",
    "The police statement that there was no driver behind the wheel suggests that Autopilot, the widely available precursor to \"full self-driving,\" may have been active and, if so, was being used inappropriately.\n",
    "Tesla CEO Elon Musk said Monday that data logs recovered so far show Autopilot was not enabled. But Musk did not rule out that future findings could reveal Autopilot was in use. He also did not share an alternative theory for the crash.\n",
    "Tesla did not respond to multiple requests for comment, and generally does not engage with the professional news media\"\"\""
   ]
  },
  {
   "cell_type": "code",
   "execution_count": 15,
   "metadata": {},
   "outputs": [
    {
     "data": {
      "text/plain": [
       "'(CNN) Next week, in a milestone moment for electric vehicles, Ford will unveil a fully electric version of the Ford F-150 pickup truck called the F-150 Lightning.\\n.\\n.Companies likeand Rivian have already unveiled electric pickups , but this is theF-150. This is the big time. Ford\\'s F-series has been the best-selling truck in America for 44 years.\\n.\\n.Ford has offered few details about the truck, which it will unveil on the evening on May 19. A short preview video showed the truck\\'s front lights, which include a long bar of bright lights running between the tops of the headlights.The design\\'s effect is reminiscent of the lights on the Tesla Cybertuck\\n.\\n.Long before unveiling the electric F-150, Ford had already started boasting of the vehicle\\'s outsized strength. In July 2019, the auto maker released a video of an electric F-150 driven by chief engineer Linda Zhang pulling a freight train weighing 1.25 million pounds. The train cars were filled with 42 internal combustion-powered F-150 trucks\\n.\\n.But that wasn\\'t a realistic example oftheF-150\\'s expected use and even Ford said that the truck was \"towing far beyond any production truck\\'s published capacity.\" We still don\\'t know what the real production model\\'s towing and hauling capabilities will be, but electric motors powered by strong lithium-ion batteries can have immense power.\\n.\\n.Rivian claims up to 11,000 pounds of towing capacity and zero-to-60 seconds acceleration under 3 seconds for its R1T truck . Tesla boasts of over 14,000 pounds of towing capacity from the most powerful version of its Cybertruck.\\n.\\n.Ford will have to fight hard with competitors coming from all sides though, said Jessica Caldwell, an analyst with Edmunds.com.\\n.\\n.\"It does feel like the truck market is vulnerable because a lot more automakers are getting into it,\" she said.\\n.\\n.Besides Tesla and Rivian, a company called Lordstown Motors is also entering the electric pickup market, targeting commercial truck buyers specifically.\\n.\\n.Ford\\'s truck will tend to appeal to a different sort of customer, though, said Caldwell.\\n.\\n.\"I think the Ford F-150 buyer base is definitely more vast,\" she said. \"I think there are certain types of people that are more interested in those up-and-coming startups than the F-150 which is the most famous and well-known vehicle, probably, in the country.\"\\n.\\n.Buyers who might otherwise be worried about making the step to an electric truck, the trusted Ford F-150 name could soothe their nerves, she said.\\n.\\n.A shift from early adopter to mass consumer\\n.\\n.General Motors GM Ford\\'s biggest rival,, is further away from offering an electric version of its Chevrolet Silverado but that truck, too, is on the way. These are big steps toward making electric vehicles a part of everyday life in America.\\n.\\n.\"It\\'s a significant move,\" said Autoweek executive editor Natalie Neff, \"We\\'re talking about the shift from early adopter to mass consumer.\"\\n.\\n.It\\'s important, too, that both companies have chosen to retain the model names of their popular gasoline- and diesel-power trucks rather than introducing these electric models under new names. (GM has taken that route, as well, with the GMC Hummer EV pickup, which will share it\\'s basic engineering with the electric Silverado.\\n.\\n.Ford executives have previously said they planned to leverage well-known existing brands, like Mustang and the F-150, to help consumers understand what these different electric vehicles are. They want these names to convey their unique capabilities.\\n.\\n.The Ford Mustang Mach-E, for instance, is quick, responsive and fun to drive like the Mustang car, despite being very different in most other ways. It\\'s a four-door crossover SUV while the gasoline-powered version is a two-door coupe.\\n.\\n.Likewise, the fact that Ford\\'s truck will carry the F-150 name implies that it\\'s powerful and capable. This time, though, the name has even greater reach.\\n.\\n.\"The Mach-E, as cool as it is, probably won\\'t touch as many people as a Ford F-150 does,\" said Caldwell.\\n.\\n.The future for Ford\\'s electric truck\\n.\\n.Mind you, it isn\\'t as if all Ford F-150s from now on will need to be plugged in. Not even close. The majority of F-150s sold will have gasoline engines for the time being. But the fact that customers will be able to buy an F-150 with an electric motor instead of a gasoline engine is a major milestone.\\n.\\n.The most likely buyers for electric pickups will be companies rather than individuals. Fleet buyers tend to focus more on cost of ownership rather than initial purchase price. Also, commercial work trucks are unlikely to be used for interstate family road trips where driving range and access to fast-charging stations become more of a hurdle. Corporate owners can be confident their trucks will return to a charging station each night.\\n.\\n.When announcing the company would make an electric Chevrolet Silverado with more than 400 miles of driving range, GM president Mark Reuss said commercial fleets would be a particular focus for marketing efforts.\\n.\\n.Ford may have missed an opportunity to offer a plug-in hybrid F-150, which would have provided something between a gas-powered truck and an all-electric one, said Chelsea Sexton, an analyst who covers the electric vehicle market. A plug-in hybrid with significant electric driving range plus the ability to drive on gasoline, as well, could have eased more truck buyers into the EV experience, she said.\\n.\\n.\"Data proves folks overwhelmingly stay with [plug-in vehicles] and move into increasingly-electrified models from there,\" she wrote. \"So for the group that is currently least likely to believe an EV will work for them, a really good [plug-in hybrid] is likely to be an excellent recruiting tactic.\"\\n.'"
      ]
     },
     "execution_count": 15,
     "metadata": {},
     "output_type": "execute_result"
    }
   ],
   "source": [
    "res=\"\"\n",
    "with open(\"new2.txt\", \"r\") as fp:\n",
    "   line = fp.readline()\n",
    "   cnt = 1\n",
    "   while line:\n",
    "       res+=line+\".\"\n",
    "       #print(\"Line {}: {}\".format(cnt, line.strip()))\n",
    "       line = fp.readline()\n",
    "       cnt += 1\n",
    "res"
   ]
  },
  {
   "cell_type": "code",
   "execution_count": 16,
   "metadata": {},
   "outputs": [
    {
     "data": {
      "text/plain": [
       "'a video of an electric f 150 truck driven by chief engineer linda zhang pulling a freight train weighing 1.25 million pounds was released in july 2019 . tesla boasts of over 14,000 pounds of towing capacity and zero to 60 seconds acceleration under 3 seconds for its r1t truck . ford is f series has been the best selling truck in america for 44 years . the truck will be unveiled on the evening on may 19 .'"
      ]
     },
     "execution_count": 16,
     "metadata": {},
     "output_type": "execute_result"
    }
   ],
   "source": [
    "returnSummary(res)"
   ]
  },
  {
   "cell_type": "code",
   "execution_count": null,
   "metadata": {},
   "outputs": [],
   "source": []
  }
 ],
 "metadata": {
  "kernelspec": {
   "display_name": "Python 3",
   "language": "python",
   "name": "python3"
  },
  "language_info": {
   "codemirror_mode": {
    "name": "ipython",
    "version": 3
   },
   "file_extension": ".py",
   "mimetype": "text/x-python",
   "name": "python",
   "nbconvert_exporter": "python",
   "pygments_lexer": "ipython3",
   "version": "3.7.6"
  }
 },
 "nbformat": 4,
 "nbformat_minor": 4
}
